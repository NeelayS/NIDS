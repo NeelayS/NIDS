{
 "cells": [
  {
   "cell_type": "code",
   "execution_count": 45,
   "metadata": {},
   "outputs": [
    {
     "name": "stdout",
     "output_type": "stream",
     "text": [
      "Mon Apr 19 19:52:21 2021       \r\n",
      "+-----------------------------------------------------------------------------+\r\n",
      "| NVIDIA-SMI 460.67       Driver Version: 460.67       CUDA Version: 11.2     |\r\n",
      "|-------------------------------+----------------------+----------------------+\r\n",
      "| GPU  Name        Persistence-M| Bus-Id        Disp.A | Volatile Uncorr. ECC |\r\n",
      "| Fan  Temp  Perf  Pwr:Usage/Cap|         Memory-Usage | GPU-Util  Compute M. |\r\n",
      "|                               |                      |               MIG M. |\r\n",
      "|===============================+======================+======================|\r\n",
      "|   0  GeForce RTX 2060    Off  | 00000000:01:00.0  On |                  N/A |\r\n",
      "| N/A   49C    P8     8W /  N/A |   1120MiB /  5934MiB |     10%      Default |\r\n",
      "|                               |                      |                  N/A |\r\n",
      "+-------------------------------+----------------------+----------------------+\r\n",
      "                                                                               \r\n",
      "+-----------------------------------------------------------------------------+\r\n",
      "| Processes:                                                                  |\r\n",
      "|  GPU   GI   CI        PID   Type   Process name                  GPU Memory |\r\n",
      "|        ID   ID                                                   Usage      |\r\n",
      "|=============================================================================|\r\n",
      "|    0   N/A  N/A      1075      G   /usr/lib/xorg/Xorg                 70MiB |\r\n",
      "|    0   N/A  N/A      2240      G   /usr/lib/xorg/Xorg                173MiB |\r\n",
      "|    0   N/A  N/A      2415      G   /usr/bin/gnome-shell               23MiB |\r\n",
      "|    0   N/A  N/A      3564      G   ...AAAAAAAAA= --shared-files       66MiB |\r\n",
      "|    0   N/A  N/A      4090      G   ...AAAAAAAAA= --shared-files       22MiB |\r\n",
      "|    0   N/A  N/A      5768      C   ...lay/miniconda3/bin/python      747MiB |\r\n",
      "+-----------------------------------------------------------------------------+\r\n"
     ]
    }
   ],
   "source": [
    "!nvidia-smi"
   ]
  },
  {
   "cell_type": "code",
   "execution_count": 46,
   "metadata": {},
   "outputs": [],
   "source": [
    "from sklearn.metrics import accuracy_score \n",
    "from sklearn.model_selection import train_test_split \n",
    "from sklearn.metrics import classification_report \n",
    "from sklearn.metrics import confusion_matrix,accuracy_score,classification_report, plot_confusion_matrix\n",
    "from sklearn.preprocessing import StandardScaler"
   ]
  },
  {
   "cell_type": "code",
   "execution_count": 47,
   "metadata": {},
   "outputs": [],
   "source": [
    "import pickle # \n",
    "from os import path\n",
    "import numpy as np\n",
    "import pandas as pd\n",
    "import matplotlib.pyplot as plt"
   ]
  },
  {
   "cell_type": "code",
   "execution_count": 48,
   "metadata": {},
   "outputs": [
    {
     "data": {
      "text/html": [
       "<div>\n",
       "<style scoped>\n",
       "    .dataframe tbody tr th:only-of-type {\n",
       "        vertical-align: middle;\n",
       "    }\n",
       "\n",
       "    .dataframe tbody tr th {\n",
       "        vertical-align: top;\n",
       "    }\n",
       "\n",
       "    .dataframe thead th {\n",
       "        text-align: right;\n",
       "    }\n",
       "</style>\n",
       "<table border=\"1\" class=\"dataframe\">\n",
       "  <thead>\n",
       "    <tr style=\"text-align: right;\">\n",
       "      <th></th>\n",
       "      <th>id</th>\n",
       "      <th>dur</th>\n",
       "      <th>xProt</th>\n",
       "      <th>xServ</th>\n",
       "      <th>xState</th>\n",
       "      <th>spkts</th>\n",
       "      <th>dpkts</th>\n",
       "      <th>sbytes</th>\n",
       "      <th>dbytes</th>\n",
       "      <th>rate</th>\n",
       "      <th>...</th>\n",
       "      <th>ct_src_dport_ltm</th>\n",
       "      <th>ct_dst_sport_ltm</th>\n",
       "      <th>ct_dst_src_ltm</th>\n",
       "      <th>is_ftp_login</th>\n",
       "      <th>ct_ftp_cmd</th>\n",
       "      <th>ct_flw_http_mthd</th>\n",
       "      <th>ct_src_ltm</th>\n",
       "      <th>ct_srv_dst</th>\n",
       "      <th>is_sm_ips_ports</th>\n",
       "      <th>label</th>\n",
       "    </tr>\n",
       "  </thead>\n",
       "  <tbody>\n",
       "    <tr>\n",
       "      <th>0</th>\n",
       "      <td>1</td>\n",
       "      <td>0.121478</td>\n",
       "      <td>4</td>\n",
       "      <td>999</td>\n",
       "      <td>2</td>\n",
       "      <td>6</td>\n",
       "      <td>4</td>\n",
       "      <td>258</td>\n",
       "      <td>172</td>\n",
       "      <td>74.087490</td>\n",
       "      <td>...</td>\n",
       "      <td>1</td>\n",
       "      <td>1</td>\n",
       "      <td>1</td>\n",
       "      <td>0</td>\n",
       "      <td>0</td>\n",
       "      <td>0</td>\n",
       "      <td>1</td>\n",
       "      <td>1</td>\n",
       "      <td>0</td>\n",
       "      <td>0</td>\n",
       "    </tr>\n",
       "    <tr>\n",
       "      <th>1</th>\n",
       "      <td>2</td>\n",
       "      <td>0.649902</td>\n",
       "      <td>4</td>\n",
       "      <td>999</td>\n",
       "      <td>2</td>\n",
       "      <td>14</td>\n",
       "      <td>38</td>\n",
       "      <td>734</td>\n",
       "      <td>42014</td>\n",
       "      <td>78.473372</td>\n",
       "      <td>...</td>\n",
       "      <td>1</td>\n",
       "      <td>1</td>\n",
       "      <td>2</td>\n",
       "      <td>0</td>\n",
       "      <td>0</td>\n",
       "      <td>0</td>\n",
       "      <td>1</td>\n",
       "      <td>6</td>\n",
       "      <td>0</td>\n",
       "      <td>0</td>\n",
       "    </tr>\n",
       "    <tr>\n",
       "      <th>2</th>\n",
       "      <td>3</td>\n",
       "      <td>1.623129</td>\n",
       "      <td>4</td>\n",
       "      <td>999</td>\n",
       "      <td>2</td>\n",
       "      <td>8</td>\n",
       "      <td>16</td>\n",
       "      <td>364</td>\n",
       "      <td>13186</td>\n",
       "      <td>14.170161</td>\n",
       "      <td>...</td>\n",
       "      <td>1</td>\n",
       "      <td>1</td>\n",
       "      <td>3</td>\n",
       "      <td>0</td>\n",
       "      <td>0</td>\n",
       "      <td>0</td>\n",
       "      <td>2</td>\n",
       "      <td>6</td>\n",
       "      <td>0</td>\n",
       "      <td>0</td>\n",
       "    </tr>\n",
       "    <tr>\n",
       "      <th>3</th>\n",
       "      <td>4</td>\n",
       "      <td>1.681642</td>\n",
       "      <td>4</td>\n",
       "      <td>3</td>\n",
       "      <td>2</td>\n",
       "      <td>12</td>\n",
       "      <td>12</td>\n",
       "      <td>628</td>\n",
       "      <td>770</td>\n",
       "      <td>13.677108</td>\n",
       "      <td>...</td>\n",
       "      <td>1</td>\n",
       "      <td>1</td>\n",
       "      <td>3</td>\n",
       "      <td>1</td>\n",
       "      <td>1</td>\n",
       "      <td>0</td>\n",
       "      <td>2</td>\n",
       "      <td>1</td>\n",
       "      <td>0</td>\n",
       "      <td>0</td>\n",
       "    </tr>\n",
       "    <tr>\n",
       "      <th>4</th>\n",
       "      <td>5</td>\n",
       "      <td>0.449454</td>\n",
       "      <td>4</td>\n",
       "      <td>999</td>\n",
       "      <td>2</td>\n",
       "      <td>10</td>\n",
       "      <td>6</td>\n",
       "      <td>534</td>\n",
       "      <td>268</td>\n",
       "      <td>33.373826</td>\n",
       "      <td>...</td>\n",
       "      <td>2</td>\n",
       "      <td>1</td>\n",
       "      <td>40</td>\n",
       "      <td>0</td>\n",
       "      <td>0</td>\n",
       "      <td>0</td>\n",
       "      <td>2</td>\n",
       "      <td>39</td>\n",
       "      <td>0</td>\n",
       "      <td>0</td>\n",
       "    </tr>\n",
       "  </tbody>\n",
       "</table>\n",
       "<p>5 rows × 44 columns</p>\n",
       "</div>"
      ],
      "text/plain": [
       "   id       dur  xProt  xServ  xState  spkts  dpkts  sbytes  dbytes  \\\n",
       "0   1  0.121478      4    999       2      6      4     258     172   \n",
       "1   2  0.649902      4    999       2     14     38     734   42014   \n",
       "2   3  1.623129      4    999       2      8     16     364   13186   \n",
       "3   4  1.681642      4      3       2     12     12     628     770   \n",
       "4   5  0.449454      4    999       2     10      6     534     268   \n",
       "\n",
       "        rate  ...  ct_src_dport_ltm  ct_dst_sport_ltm  ct_dst_src_ltm  \\\n",
       "0  74.087490  ...                 1                 1               1   \n",
       "1  78.473372  ...                 1                 1               2   \n",
       "2  14.170161  ...                 1                 1               3   \n",
       "3  13.677108  ...                 1                 1               3   \n",
       "4  33.373826  ...                 2                 1              40   \n",
       "\n",
       "   is_ftp_login  ct_ftp_cmd  ct_flw_http_mthd  ct_src_ltm  ct_srv_dst  \\\n",
       "0             0           0                 0           1           1   \n",
       "1             0           0                 0           1           6   \n",
       "2             0           0                 0           2           6   \n",
       "3             1           1                 0           2           1   \n",
       "4             0           0                 0           2          39   \n",
       "\n",
       "   is_sm_ips_ports  label  \n",
       "0                0      0  \n",
       "1                0      0  \n",
       "2                0      0  \n",
       "3                0      0  \n",
       "4                0      0  \n",
       "\n",
       "[5 rows x 44 columns]"
      ]
     },
     "execution_count": 48,
     "metadata": {},
     "output_type": "execute_result"
    }
   ],
   "source": [
    "data = pd.read_csv('data/UNSW_NB15_training-set.csv')\n",
    "data.head()"
   ]
  },
  {
   "cell_type": "code",
   "execution_count": 49,
   "metadata": {},
   "outputs": [
    {
     "data": {
      "text/plain": [
       "(175341, 43)"
      ]
     },
     "execution_count": 49,
     "metadata": {},
     "output_type": "execute_result"
    }
   ],
   "source": [
    "X = data.iloc[: , :-1].values\n",
    "X.shape"
   ]
  },
  {
   "cell_type": "code",
   "execution_count": 50,
   "metadata": {},
   "outputs": [
    {
     "data": {
      "text/plain": [
       "[0, 1]"
      ]
     },
     "execution_count": 50,
     "metadata": {},
     "output_type": "execute_result"
    }
   ],
   "source": [
    "attacks = list(pd.unique(data[\"label\"]))\n",
    "attacks"
   ]
  },
  {
   "cell_type": "code",
   "execution_count": 51,
   "metadata": {},
   "outputs": [
    {
     "data": {
      "text/plain": [
       "(175341,)"
      ]
     },
     "execution_count": 51,
     "metadata": {},
     "output_type": "execute_result"
    }
   ],
   "source": [
    "y = np.array(list(map((lambda x: attacks.index(x)), data.iloc[: , -1].values)))\n",
    "y.shape"
   ]
  },
  {
   "cell_type": "code",
   "execution_count": 52,
   "metadata": {},
   "outputs": [
    {
     "data": {
      "text/plain": [
       "((140272, 43), (140272,), (140272,), (35069,))"
      ]
     },
     "execution_count": 52,
     "metadata": {},
     "output_type": "execute_result"
    }
   ],
   "source": [
    "X_train, X_test, y_train, y_test = train_test_split(X, y, test_size=0.2, random_state=42)\n",
    "X_train.shape, y_train.shape, y_train.shape, y_test.shape"
   ]
  },
  {
   "cell_type": "code",
   "execution_count": 53,
   "metadata": {},
   "outputs": [],
   "source": [
    "scaler = StandardScaler()\n",
    "X_train = scaler.fit_transform(X_train)\n",
    "X_test = scaler.transform(X_test)"
   ]
  },
  {
   "cell_type": "markdown",
   "metadata": {},
   "source": [
    "------------------------------------------------------------------------------------------------------------------"
   ]
  },
  {
   "cell_type": "code",
   "execution_count": 54,
   "metadata": {},
   "outputs": [],
   "source": [
    "import torch\n",
    "import torch.nn as nn\n",
    "import torch.optim as optim\n",
    "import torch.nn.functional as F\n",
    "from torch.utils.data import Dataset, DataLoader"
   ]
  },
  {
   "cell_type": "code",
   "execution_count": 55,
   "metadata": {},
   "outputs": [],
   "source": [
    "class UNSW_NB15(Dataset):\n",
    "    \n",
    "    def __init__(self, X_data, y_data):\n",
    "        self.X_data = X_data\n",
    "        self.y_data = y_data\n",
    "        \n",
    "    def __getitem__(self, index):\n",
    "        return self.X_data[index], self.y_data[index]\n",
    "        \n",
    "    def __len__ (self):\n",
    "        return len(self.X_data)"
   ]
  },
  {
   "cell_type": "code",
   "execution_count": 56,
   "metadata": {},
   "outputs": [],
   "source": [
    "train_data = UNSW_NB15(torch.Tensor(X_train), torch.Tensor(y_train))\n",
    "test_data = UNSW_NB15(torch.Tensor(X_test), torch.Tensor(y_test))"
   ]
  },
  {
   "cell_type": "code",
   "execution_count": 57,
   "metadata": {},
   "outputs": [],
   "source": [
    "bs = 256\n",
    "\n",
    "train_loader = DataLoader(dataset=train_data, batch_size=bs, shuffle=True)\n",
    "test_loader = DataLoader(dataset=test_data, batch_size=bs)"
   ]
  },
  {
   "cell_type": "code",
   "execution_count": 58,
   "metadata": {},
   "outputs": [
    {
     "data": {
      "text/plain": [
       "(548, 137)"
      ]
     },
     "execution_count": 58,
     "metadata": {},
     "output_type": "execute_result"
    }
   ],
   "source": [
    "len(train_loader.dataset)//bs + 1, len(test_loader.dataset)//bs + 1"
   ]
  },
  {
   "cell_type": "code",
   "execution_count": 59,
   "metadata": {},
   "outputs": [],
   "source": [
    "class Teacher(nn.Module):\n",
    "\n",
    "    def __init__(self, n_features, n_classes):\n",
    "        super(Teacher, self).__init__()\n",
    "\n",
    "        self.mlp = nn.Sequential(*[\n",
    "            nn.Linear(n_features, 32),\n",
    "            nn.ReLU(),\n",
    "            nn.Linear(32, 16),\n",
    "            nn.ReLU(),\n",
    "            nn.Linear(16, 8),\n",
    "            nn.ReLU(),\n",
    "            nn.Linear(8, n_classes)\n",
    "        ])\n",
    "\n",
    "    def forward(self, x):\n",
    "        return self.mlp(x)"
   ]
  },
  {
   "cell_type": "code",
   "execution_count": 60,
   "metadata": {},
   "outputs": [
    {
     "data": {
      "text/plain": [
       "device(type='cuda')"
      ]
     },
     "execution_count": 60,
     "metadata": {},
     "output_type": "execute_result"
    }
   ],
   "source": [
    "device = torch.device(\"cuda\" if torch.cuda.is_available() else \"cpu\")\n",
    "device"
   ]
  },
  {
   "cell_type": "code",
   "execution_count": 61,
   "metadata": {},
   "outputs": [
    {
     "data": {
      "text/plain": [
       "Teacher(\n",
       "  (mlp): Sequential(\n",
       "    (0): Linear(in_features=43, out_features=32, bias=True)\n",
       "    (1): ReLU()\n",
       "    (2): Linear(in_features=32, out_features=16, bias=True)\n",
       "    (3): ReLU()\n",
       "    (4): Linear(in_features=16, out_features=8, bias=True)\n",
       "    (5): ReLU()\n",
       "    (6): Linear(in_features=8, out_features=2, bias=True)\n",
       "  )\n",
       ")"
      ]
     },
     "execution_count": 61,
     "metadata": {},
     "output_type": "execute_result"
    }
   ],
   "source": [
    "teacher = Teacher(X_train.shape[1], len(attacks)).to(device)\n",
    "teacher"
   ]
  },
  {
   "cell_type": "code",
   "execution_count": 62,
   "metadata": {},
   "outputs": [
    {
     "data": {
      "text/plain": [
       "2090"
      ]
     },
     "execution_count": 62,
     "metadata": {},
     "output_type": "execute_result"
    }
   ],
   "source": [
    "sum(p.numel() for p in teacher.parameters())"
   ]
  },
  {
   "cell_type": "code",
   "execution_count": 63,
   "metadata": {},
   "outputs": [],
   "source": [
    "loss_fn = nn.CrossEntropyLoss()\n",
    "teacher_optimizer = optim.SGD(teacher.parameters(), lr=0.01, momentum=0.9)"
   ]
  },
  {
   "cell_type": "code",
   "execution_count": 64,
   "metadata": {},
   "outputs": [],
   "source": [
    "def accuracy(preds, labels):\n",
    "        \n",
    "    preds = F.softmax(preds, dim=1).argmax(dim=1)\n",
    "    n_correct = (preds==labels).sum().float()\n",
    "    \n",
    "    return (n_correct/len(labels)).item()\n",
    "    "
   ]
  },
  {
   "cell_type": "code",
   "execution_count": 65,
   "metadata": {},
   "outputs": [],
   "source": [
    "n_epochs = 50"
   ]
  },
  {
   "cell_type": "code",
   "execution_count": 66,
   "metadata": {},
   "outputs": [
    {
     "name": "stdout",
     "output_type": "stream",
     "text": [
      "Epoch 1: Loss = 146.17098604142666, Average epoch accuracy = 0.8727978635443389\n",
      "Epoch 6: Loss = 57.80532840266824, Average epoch accuracy = 0.9551370514787897\n",
      "Epoch 11: Loss = 46.836300294846296, Average epoch accuracy = 0.9656820255909523\n",
      "Epoch 16: Loss = 40.138920821249485, Average epoch accuracy = 0.9708646975294517\n",
      "Epoch 21: Loss = 35.19070139341056, Average epoch accuracy = 0.9736214074557715\n",
      "Epoch 26: Loss = 33.77334678545594, Average epoch accuracy = 0.9743513345283313\n",
      "Epoch 31: Loss = 31.430910730734468, Average epoch accuracy = 0.9760910889310558\n",
      "Epoch 36: Loss = 30.94527698494494, Average epoch accuracy = 0.9765325617181123\n",
      "Epoch 41: Loss = 30.163310864940286, Average epoch accuracy = 0.9767606639078934\n",
      "Epoch 46: Loss = 29.379814010113478, Average epoch accuracy = 0.976966431106094\n"
     ]
    },
    {
     "data": {
      "text/plain": [
       "[<matplotlib.lines.Line2D at 0x7ff571bf0640>]"
      ]
     },
     "execution_count": 66,
     "metadata": {},
     "output_type": "execute_result"
    },
    {
     "data": {
      "image/png": "[encoded data removed]",
      "text/plain": [
       "<Figure size 432x288 with 1 Axes>"
      ]
     },
     "metadata": {
      "needs_background": "light"
     },
     "output_type": "display_data"
    }
   ],
   "source": [
    "epoch_losses = []\n",
    "epoch_accuracies = []\n",
    "\n",
    "for e in range(n_epochs):\n",
    "    running_loss = 0\n",
    "    batch_accuracies = []\n",
    "    \n",
    "    for i, (data, labels) in enumerate(train_loader):\n",
    "        \n",
    "        teacher_optimizer.zero_grad()\n",
    "        \n",
    "        data, labels = data.to(device), labels.to(device).long()\n",
    "        preds = teacher(data)\n",
    "        loss = loss_fn(preds, labels)\n",
    "        \n",
    "        loss.backward()\n",
    "        teacher_optimizer.step()\n",
    "        \n",
    "        running_loss += loss.item()\n",
    "        batch_accuracies.append(accuracy(preds, labels))\n",
    "        \n",
    "#         if i%50==0:\n",
    "#             print(f\"Average accuracy = {sum(batch_accuracies)/len(batch_accuracies)}\")\n",
    "    \n",
    "    epoch_losses.append(running_loss)\n",
    "    epoch_accuracies.append(sum(batch_accuracies)/len(batch_accuracies))\n",
    "    \n",
    "    if (e%5 == 0):\n",
    "        print(f\"Epoch {e+1}: Loss = {epoch_losses[e]}, Average epoch accuracy = {epoch_accuracies[e]}\")\n",
    "\n",
    "plt.plot(epoch_losses)"
   ]
  },
  {
   "cell_type": "code",
   "execution_count": 67,
   "metadata": {},
   "outputs": [
    {
     "name": "stdout",
     "output_type": "stream",
     "text": [
      "Average accuracy = 0.9766473622217665\n"
     ]
    }
   ],
   "source": [
    "accuracies = []\n",
    "for data, labels in test_loader:\n",
    "    \n",
    "    data, labels = data.to(device), labels.to(device)\n",
    "    preds = teacher(data)\n",
    "    accuracies.append(accuracy(preds, labels))\n",
    "print(f\"Average accuracy = {sum(accuracies)/len(accuracies)}\")"
   ]
  },
  {
   "cell_type": "code",
   "execution_count": 68,
   "metadata": {},
   "outputs": [],
   "source": [
    "class Student(nn.Module):\n",
    "\n",
    "    def __init__(self, n_features, n_classes):\n",
    "        super(Student, self).__init__()\n",
    "\n",
    "        self.mlp = nn.Sequential(*[\n",
    "            nn.Linear(n_features, 16),\n",
    "            nn.ReLU(),\n",
    "            nn.Linear(16, n_classes)\n",
    "        ])\n",
    "\n",
    "    def forward(self, x):\n",
    "        return self.mlp(x)"
   ]
  },
  {
   "cell_type": "code",
   "execution_count": 69,
   "metadata": {},
   "outputs": [
    {
     "data": {
      "text/plain": [
       "Student(\n",
       "  (mlp): Sequential(\n",
       "    (0): Linear(in_features=43, out_features=16, bias=True)\n",
       "    (1): ReLU()\n",
       "    (2): Linear(in_features=16, out_features=2, bias=True)\n",
       "  )\n",
       ")"
      ]
     },
     "execution_count": 69,
     "metadata": {},
     "output_type": "execute_result"
    }
   ],
   "source": [
    "student = Student(X_train.shape[1], len(attacks)).to(device)\n",
    "student"
   ]
  },
  {
   "cell_type": "code",
   "execution_count": 70,
   "metadata": {},
   "outputs": [
    {
     "data": {
      "text/plain": [
       "738"
      ]
     },
     "execution_count": 70,
     "metadata": {},
     "output_type": "execute_result"
    }
   ],
   "source": [
    "sum(p.numel() for p in student.parameters())"
   ]
  },
  {
   "cell_type": "code",
   "execution_count": 71,
   "metadata": {},
   "outputs": [],
   "source": [
    "student_optimizer = optim.SGD(student.parameters(), lr=0.01, momentum=0.9)"
   ]
  },
  {
   "cell_type": "code",
   "execution_count": 72,
   "metadata": {},
   "outputs": [
    {
     "name": "stdout",
     "output_type": "stream",
     "text": [
      "Epoch 1: Loss = 112.61509913951159, Average epoch accuracy = 0.916445692742828\n",
      "Epoch 6: Loss = 63.817853696644306, Average epoch accuracy = 0.9481818355130454\n",
      "Epoch 11: Loss = 60.62719889730215, Average epoch accuracy = 0.950974186515286\n",
      "Epoch 16: Loss = 59.056406162679195, Average epoch accuracy = 0.9520424651185961\n",
      "Epoch 21: Loss = 57.591807290911674, Average epoch accuracy = 0.9532205178572314\n",
      "Epoch 26: Loss = 55.89545973390341, Average epoch accuracy = 0.9550738481492022\n",
      "Epoch 31: Loss = 53.67906726896763, Average epoch accuracy = 0.957566339821711\n",
      "Epoch 36: Loss = 51.25974849611521, Average epoch accuracy = 0.9603601164408844\n",
      "Epoch 41: Loss = 49.74092876911163, Average epoch accuracy = 0.962368841371397\n",
      "Epoch 46: Loss = 48.26836582645774, Average epoch accuracy = 0.9634969967560176\n"
     ]
    },
    {
     "data": {
      "text/plain": [
       "[<matplotlib.lines.Line2D at 0x7ff4f2e19220>]"
      ]
     },
     "execution_count": 72,
     "metadata": {},
     "output_type": "execute_result"
    },
    {
     "data": {
      "image/png": "[encoded data removed]",
      "text/plain": [
       "<Figure size 432x288 with 1 Axes>"
      ]
     },
     "metadata": {
      "needs_background": "light"
     },
     "output_type": "display_data"
    }
   ],
   "source": [
    "epoch_losses = []\n",
    "epoch_accuracies = []\n",
    "\n",
    "for e in range(n_epochs):\n",
    "    running_loss = 0\n",
    "    batch_accuracies = []\n",
    "    \n",
    "    for i, (data, labels) in enumerate(train_loader):\n",
    "        \n",
    "        student_optimizer.zero_grad()\n",
    "        \n",
    "        data, labels = data.to(device), labels.to(device).long()\n",
    "        preds = student(data)\n",
    "        loss = loss_fn(preds, labels)\n",
    "        \n",
    "        loss.backward()\n",
    "        student_optimizer.step()\n",
    "        \n",
    "        running_loss += loss.item()\n",
    "        batch_accuracies.append(accuracy(preds, labels))\n",
    "        \n",
    "#         if i%50==0:\n",
    "#             print(f\"Average accuracy = {sum(batch_accuracies)/len(batch_accuracies)}\")\n",
    "    \n",
    "    epoch_losses.append(running_loss)\n",
    "    epoch_accuracies.append(sum(batch_accuracies)/len(batch_accuracies))\n",
    "    \n",
    "    if (e%5 == 0):\n",
    "        print(f\"Epoch {e+1}: Loss = {epoch_losses[e]}, Average epoch accuracy = {epoch_accuracies[e]}\")\n",
    "\n",
    "plt.plot(epoch_losses)"
   ]
  },
  {
   "cell_type": "code",
   "execution_count": 73,
   "metadata": {},
   "outputs": [
    {
     "name": "stdout",
     "output_type": "stream",
     "text": [
      "Average accuracy = 0.9633027080201755\n"
     ]
    }
   ],
   "source": [
    "accuracies = []\n",
    "for data, labels in test_loader:\n",
    "    \n",
    "    data, labels = data.to(device), labels.to(device)\n",
    "    preds = student(data)\n",
    "    accuracies.append(accuracy(preds, labels))\n",
    "    \n",
    "print(f\"Average accuracy = {sum(accuracies)/len(accuracies)}\")"
   ]
  },
  {
   "cell_type": "code",
   "execution_count": 77,
   "metadata": {},
   "outputs": [
    {
     "data": {
      "text/plain": [
       "Student(\n",
       "  (mlp): Sequential(\n",
       "    (0): Linear(in_features=43, out_features=16, bias=True)\n",
       "    (1): ReLU()\n",
       "    (2): Linear(in_features=16, out_features=2, bias=True)\n",
       "  )\n",
       ")"
      ]
     },
     "execution_count": 77,
     "metadata": {},
     "output_type": "execute_result"
    }
   ],
   "source": [
    "student = Student(X_train.shape[1], len(attacks)).to(device)\n",
    "student"
   ]
  },
  {
   "cell_type": "code",
   "execution_count": 78,
   "metadata": {},
   "outputs": [],
   "source": [
    "student_optimizer = optim.SGD(student.parameters(), lr=0.1, momentum=0.9)"
   ]
  },
  {
   "cell_type": "code",
   "execution_count": 79,
   "metadata": {},
   "outputs": [
    {
     "name": "stdout",
     "output_type": "stream",
     "text": [
      "Epoch 1: Loss = 50.45177731662989, Average epoch accuracy = 0.9305157961636564\n",
      "Epoch 6: Loss = 29.23891602270305, Average epoch accuracy = 0.9599210196820489\n",
      "Epoch 11: Loss = 26.75582654029131, Average epoch accuracy = 0.9634637318170853\n",
      "Epoch 16: Loss = 24.846191365271807, Average epoch accuracy = 0.9657951262745544\n",
      "Epoch 21: Loss = 22.87730411440134, Average epoch accuracy = 0.9688388648694449\n",
      "Epoch 26: Loss = 21.151530525647104, Average epoch accuracy = 0.9709578392496945\n",
      "Epoch 31: Loss = 20.464964249171317, Average epoch accuracy = 0.9724590367209303\n",
      "Epoch 36: Loss = 19.87015923857689, Average epoch accuracy = 0.9729532582046342\n",
      "Epoch 41: Loss = 19.52706876024604, Average epoch accuracy = 0.9732526423287218\n",
      "Epoch 46: Loss = 19.12944144103676, Average epoch accuracy = 0.9740205862878883\n"
     ]
    },
    {
     "data": {
      "text/plain": [
       "[<matplotlib.lines.Line2D at 0x7ff4f80a7040>]"
      ]
     },
     "execution_count": 79,
     "metadata": {},
     "output_type": "execute_result"
    },
    {
     "data": {
      "image/png": "[encoded data removed]",
      "text/plain": [
       "<Figure size 432x288 with 1 Axes>"
      ]
     },
     "metadata": {
      "needs_background": "light"
     },
     "output_type": "display_data"
    }
   ],
   "source": [
    "distil_weight = 0.5\n",
    "\n",
    "epoch_losses = []\n",
    "epoch_accuracies = []\n",
    "\n",
    "for e in range(n_epochs):\n",
    "    running_loss = 0\n",
    "    batch_accuracies = []\n",
    "    \n",
    "    for i, (data, labels) in enumerate(train_loader):\n",
    "        \n",
    "        student_optimizer.zero_grad()\n",
    "        \n",
    "        data, labels = data.to(device), labels.to(device).long()\n",
    "        student_preds = student(data)\n",
    "        loss = (1-distil_weight) * loss_fn(student_preds, labels)\n",
    "        \n",
    "        teacher_preds = teacher(data)\n",
    "        soft_student_probs = F.log_softmax(student_preds/10, dim=1)\n",
    "        soft_teacher_probs = F.softmax(teacher_preds/10, dim=1)\n",
    "        loss += distil_weight * F.kl_div(soft_student_probs, soft_teacher_probs.detach(), reduction='batchmean')\n",
    "        \n",
    "        loss.backward()\n",
    "        student_optimizer.step()\n",
    "        \n",
    "        running_loss += loss.item()\n",
    "        batch_accuracies.append(accuracy(student_preds, labels))\n",
    "        \n",
    "#         if i%50==0:\n",
    "#             print(f\"Average accuracy = {sum(batch_accuracies)/len(batch_accuracies)}\")\n",
    "    \n",
    "    epoch_losses.append(running_loss)\n",
    "    epoch_accuracies.append(sum(batch_accuracies)/len(batch_accuracies))\n",
    "    \n",
    "    if (e%5 == 0):\n",
    "        print(f\"Epoch {e+1}: Loss = {epoch_losses[e]}, Average epoch accuracy = {epoch_accuracies[e]}\")\n",
    "\n",
    "plt.plot(epoch_losses)"
   ]
  },
  {
   "cell_type": "code",
   "execution_count": 80,
   "metadata": {},
   "outputs": [
    {
     "name": "stdout",
     "output_type": "stream",
     "text": [
      "Average accuracy = 0.9740231728901828\n"
     ]
    }
   ],
   "source": [
    "accuracies = []\n",
    "for data, labels in test_loader:\n",
    "    \n",
    "    data, labels = data.to(device), labels.to(device)\n",
    "    preds = student(data)\n",
    "    accuracies.append(accuracy(preds, labels))\n",
    "    \n",
    "print(f\"Average accuracy = {sum(accuracies)/len(accuracies)}\")"
   ]
  },
  {
   "cell_type": "code",
   "execution_count": 81,
   "metadata": {},
   "outputs": [
    {
     "data": {
      "text/plain": [
       "738"
      ]
     },
     "execution_count": 81,
     "metadata": {},
     "output_type": "execute_result"
    }
   ],
   "source": [
    "sum(p.numel() for p in student.parameters())"
   ]
  },
  {
   "cell_type": "code",
   "execution_count": null,
   "metadata": {},
   "outputs": [],
   "source": []
  }
 ],
 "metadata": {
  "kernelspec": {
   "display_name": "Python 3.8.3 64-bit ('base')",
   "language": "python",
   "name": "python38364bitbase3703bfe2763b4783888de0eec9d4fe6c"
  },
  "language_info": {
   "codemirror_mode": {
    "name": "ipython",
    "version": 3
   },
   "file_extension": ".py",
   "mimetype": "text/x-python",
   "name": "python",
   "nbconvert_exporter": "python",
   "pygments_lexer": "ipython3",
   "version": "3.8.3"
  }
 },
 "nbformat": 4,
 "nbformat_minor": 4
}
