{
 "cells": [
  {
   "cell_type": "code",
   "execution_count": 13,
   "metadata": {},
   "outputs": [],
   "source": [
    "\n",
    "import torch\n",
    "import torch.nn as nn\n",
    "from torch.autograd import Variable\n",
    "import numpy as np"
   ]
  },
  {
   "cell_type": "code",
   "execution_count": 14,
   "metadata": {},
   "outputs": [],
   "source": [
    "import torch\n",
    "import torch.nn as nn\n",
    "from torch.autograd import Variable\n",
    "import numpy as np\n",
    "\n",
    "class SizeEstimator(object):\n",
    "\n",
    "    def __init__(self, model, input_size=(1,1,32,32), bits=32):\n",
    "        '''\n",
    "        Estimates the size of PyTorch models in memory\n",
    "        for a given input size\n",
    "        '''\n",
    "        self.model = model\n",
    "        self.input_size = input_size\n",
    "        self.bits = 32\n",
    "        return\n",
    "\n",
    "    def get_parameter_sizes(self):\n",
    "        '''Get sizes of all parameters in `model`'''\n",
    "        mods = list(model.modules())\n",
    "        for i in range(1,len(mods)):\n",
    "            m = mods[i]\n",
    "            p = list(m.parameters())\n",
    "            sizes = []\n",
    "            for j in range(len(p)):\n",
    "                sizes.append(np.array(p[j].size()))\n",
    "\n",
    "        self.param_sizes = sizes\n",
    "        return\n",
    "\n",
    "    def get_output_sizes(self):\n",
    "        '''Run sample input through each layer to get output sizes'''\n",
    "        input_ = Variable(torch.FloatTensor(*self.input_size), volatile=True)\n",
    "        mods = list(model.modules())\n",
    "        out_sizes = []\n",
    "        for i in range(1, len(mods)):\n",
    "            m = mods[i]\n",
    "            out = m(input_)\n",
    "            out_sizes.append(np.array(out.size()))\n",
    "            input_ = out\n",
    "\n",
    "        self.out_sizes = out_sizes\n",
    "        return\n",
    "\n",
    "    def calc_param_bits(self):\n",
    "        '''Calculate total number of bits to store `model` parameters'''\n",
    "        total_bits = 0\n",
    "        for i in range(len(self.param_sizes)):\n",
    "            s = self.param_sizes[i]\n",
    "            bits = np.prod(np.array(s))*self.bits\n",
    "            total_bits += bits\n",
    "        self.param_bits = total_bits\n",
    "        return\n",
    "\n",
    "    def calc_forward_backward_bits(self):\n",
    "        '''Calculate bits to store forward and backward pass'''\n",
    "        total_bits = 0\n",
    "        for i in range(len(self.out_sizes)):\n",
    "            s = self.out_sizes[i]\n",
    "            bits = np.prod(np.array(s))*self.bits\n",
    "            total_bits += bits\n",
    "        # multiply by 2 for both forward AND backward\n",
    "        self.forward_backward_bits = (total_bits*2)\n",
    "        return\n",
    "\n",
    "    def calc_input_bits(self):\n",
    "        '''Calculate bits to store input'''\n",
    "        self.input_bits = np.prod(np.array(self.input_size))*self.bits\n",
    "        return\n",
    "\n",
    "    def estimate_size(self):\n",
    "        '''Estimate model size in memory in megabytes and bits'''\n",
    "        self.get_parameter_sizes()\n",
    "        self.get_output_sizes()\n",
    "        self.calc_param_bits()\n",
    "        self.calc_forward_backward_bits()\n",
    "        self.calc_input_bits()\n",
    "        total = self.param_bits + self.forward_backward_bits + self.input_bits\n",
    "\n",
    "        total_megabytes = (total/8)/(1024**2)\n",
    "        return total_megabytes, total"
   ]
  },
  {
   "cell_type": "markdown",
   "metadata": {},
   "source": [
    "# Teacher"
   ]
  },
  {
   "cell_type": "code",
   "execution_count": 15,
   "metadata": {},
   "outputs": [],
   "source": [
    "class Teacher(nn.Module):\n",
    "\n",
    "    def __init__(self, n_features, n_classes):\n",
    "        super(Teacher, self).__init__()\n",
    "\n",
    "        self.mlp = nn.Sequential(*[\n",
    "            nn.Linear(n_features, 32),\n",
    "            nn.ReLU(),\n",
    "            nn.Linear(32, 16),\n",
    "            nn.ReLU(),\n",
    "            nn.Linear(16, 8),\n",
    "            nn.ReLU(),\n",
    "            nn.Linear(8, n_classes)\n",
    "        ])\n",
    "\n",
    "    def forward(self, x):\n",
    "        return self.mlp(x)"
   ]
  },
  {
   "cell_type": "code",
   "execution_count": 16,
   "metadata": {},
   "outputs": [
    {
     "data": {
      "text/plain": [
       "Teacher(\n",
       "  (mlp): Sequential(\n",
       "    (0): Linear(in_features=43, out_features=32, bias=True)\n",
       "    (1): ReLU()\n",
       "    (2): Linear(in_features=32, out_features=16, bias=True)\n",
       "    (3): ReLU()\n",
       "    (4): Linear(in_features=16, out_features=8, bias=True)\n",
       "    (5): ReLU()\n",
       "    (6): Linear(in_features=8, out_features=2, bias=True)\n",
       "  )\n",
       ")"
      ]
     },
     "execution_count": 16,
     "metadata": {},
     "output_type": "execute_result"
    }
   ],
   "source": [
    "model = Teacher(43, 2)\n",
    "model"
   ]
  },
  {
   "cell_type": "code",
   "execution_count": 17,
   "metadata": {},
   "outputs": [
    {
     "data": {
      "text/plain": [
       "2090"
      ]
     },
     "execution_count": 17,
     "metadata": {},
     "output_type": "execute_result"
    }
   ],
   "source": [
    "sum(p.numel() for p in model.parameters())"
   ]
  },
  {
   "cell_type": "code",
   "execution_count": 25,
   "metadata": {},
   "outputs": [
    {
     "data": {
      "text/plain": [
       "8360"
      ]
     },
     "execution_count": 25,
     "metadata": {},
     "output_type": "execute_result"
    }
   ],
   "source": [
    "mem_params = sum([param.nelement()*param.element_size() for param in model.parameters()])\n",
    "mem_bufs = sum([buf.nelement()*buf.element_size() for buf in model.buffers()])\n",
    "mem = mem_params + mem_bufs # in bytes\n",
    "mem"
   ]
  },
  {
   "cell_type": "markdown",
   "metadata": {},
   "source": [
    "# Student 1"
   ]
  },
  {
   "cell_type": "code",
   "execution_count": 28,
   "metadata": {},
   "outputs": [],
   "source": [
    "class Student1(nn.Module):\n",
    "\n",
    "    def __init__(self, n_features, n_classes):\n",
    "        super(Student1, self).__init__()\n",
    "\n",
    "        self.mlp = nn.Sequential(*[\n",
    "            nn.Linear(n_features, 16),\n",
    "            nn.ReLU(),\n",
    "            nn.Linear(16, 8),\n",
    "            nn.ReLU(),\n",
    "            nn.Linear(8, 4),\n",
    "            nn.ReLU(),\n",
    "            nn.Linear(4, n_classes)\n",
    "        ])\n",
    "\n",
    "    def forward(self, x):\n",
    "        return self.mlp(x)"
   ]
  },
  {
   "cell_type": "code",
   "execution_count": 29,
   "metadata": {},
   "outputs": [
    {
     "data": {
      "text/plain": [
       "Student1(\n",
       "  (mlp): Sequential(\n",
       "    (0): Linear(in_features=43, out_features=16, bias=True)\n",
       "    (1): ReLU()\n",
       "    (2): Linear(in_features=16, out_features=8, bias=True)\n",
       "    (3): ReLU()\n",
       "    (4): Linear(in_features=8, out_features=4, bias=True)\n",
       "    (5): ReLU()\n",
       "    (6): Linear(in_features=4, out_features=2, bias=True)\n",
       "  )\n",
       ")"
      ]
     },
     "execution_count": 29,
     "metadata": {},
     "output_type": "execute_result"
    }
   ],
   "source": [
    "model = Student1(43, 2)\n",
    "model"
   ]
  },
  {
   "cell_type": "code",
   "execution_count": 30,
   "metadata": {},
   "outputs": [
    {
     "data": {
      "text/plain": [
       "886"
      ]
     },
     "execution_count": 30,
     "metadata": {},
     "output_type": "execute_result"
    }
   ],
   "source": [
    "sum(p.numel() for p in model.parameters())"
   ]
  },
  {
   "cell_type": "code",
   "execution_count": 32,
   "metadata": {},
   "outputs": [
    {
     "data": {
      "text/plain": [
       "3544"
      ]
     },
     "execution_count": 32,
     "metadata": {},
     "output_type": "execute_result"
    }
   ],
   "source": [
    "mem_params = sum([param.nelement()*param.element_size() for param in model.parameters()])\n",
    "mem_bufs = sum([buf.nelement()*buf.element_size() for buf in model.buffers()])\n",
    "mem = mem_params + mem_bufs # in bytes\n",
    "mem"
   ]
  },
  {
   "cell_type": "markdown",
   "metadata": {},
   "source": [
    "# Student 2"
   ]
  },
  {
   "cell_type": "code",
   "execution_count": 33,
   "metadata": {},
   "outputs": [],
   "source": [
    "class Student2(nn.Module):\n",
    "\n",
    "    def __init__(self, n_features, n_classes):\n",
    "        super(Student2, self).__init__()\n",
    "\n",
    "        self.mlp = nn.Sequential(*[\n",
    "            nn.Linear(n_features, 16),\n",
    "            nn.ReLU(),\n",
    "            nn.Linear(16, n_classes)\n",
    "        ])\n",
    "\n",
    "    def forward(self, x):\n",
    "        return self.mlp(x)"
   ]
  },
  {
   "cell_type": "code",
   "execution_count": 35,
   "metadata": {},
   "outputs": [
    {
     "data": {
      "text/plain": [
       "Student2(\n",
       "  (mlp): Sequential(\n",
       "    (0): Linear(in_features=43, out_features=16, bias=True)\n",
       "    (1): ReLU()\n",
       "    (2): Linear(in_features=16, out_features=2, bias=True)\n",
       "  )\n",
       ")"
      ]
     },
     "execution_count": 35,
     "metadata": {},
     "output_type": "execute_result"
    }
   ],
   "source": [
    "model = Student2(43, 2)\n",
    "model"
   ]
  },
  {
   "cell_type": "code",
   "execution_count": 36,
   "metadata": {},
   "outputs": [
    {
     "data": {
      "text/plain": [
       "738"
      ]
     },
     "execution_count": 36,
     "metadata": {},
     "output_type": "execute_result"
    }
   ],
   "source": [
    "sum(p.numel() for p in model.parameters())"
   ]
  },
  {
   "cell_type": "code",
   "execution_count": 37,
   "metadata": {},
   "outputs": [
    {
     "data": {
      "text/plain": [
       "2952"
      ]
     },
     "execution_count": 37,
     "metadata": {},
     "output_type": "execute_result"
    }
   ],
   "source": [
    "mem_params = sum([param.nelement()*param.element_size() for param in model.parameters()])\n",
    "mem_bufs = sum([buf.nelement()*buf.element_size() for buf in model.buffers()])\n",
    "mem = mem_params + mem_bufs # in bytes\n",
    "mem"
   ]
  },
  {
   "cell_type": "markdown",
   "metadata": {},
   "source": [
    "# Student 3"
   ]
  },
  {
   "cell_type": "code",
   "execution_count": 40,
   "metadata": {},
   "outputs": [],
   "source": [
    "class Student3(nn.Module):\n",
    "\n",
    "    def __init__(self, n_features, n_classes):\n",
    "        super(Student3, self).__init__()\n",
    "\n",
    "        self.mlp = nn.Sequential(*[\n",
    "            nn.Linear(n_features, 8),\n",
    "            nn.ReLU(),\n",
    "            nn.Linear(8, n_classes)\n",
    "        ])\n",
    "\n",
    "    def forward(self, x):\n",
    "        return self.mlp(x)"
   ]
  },
  {
   "cell_type": "code",
   "execution_count": 41,
   "metadata": {},
   "outputs": [
    {
     "data": {
      "text/plain": [
       "Student3(\n",
       "  (mlp): Sequential(\n",
       "    (0): Linear(in_features=43, out_features=8, bias=True)\n",
       "    (1): ReLU()\n",
       "    (2): Linear(in_features=8, out_features=2, bias=True)\n",
       "  )\n",
       ")"
      ]
     },
     "execution_count": 41,
     "metadata": {},
     "output_type": "execute_result"
    }
   ],
   "source": [
    "model = Student3(43, 2)\n",
    "model"
   ]
  },
  {
   "cell_type": "code",
   "execution_count": 42,
   "metadata": {},
   "outputs": [
    {
     "data": {
      "text/plain": [
       "370"
      ]
     },
     "execution_count": 42,
     "metadata": {},
     "output_type": "execute_result"
    }
   ],
   "source": [
    "sum(p.numel() for p in model.parameters())"
   ]
  },
  {
   "cell_type": "code",
   "execution_count": 43,
   "metadata": {},
   "outputs": [
    {
     "data": {
      "text/plain": [
       "1480"
      ]
     },
     "execution_count": 43,
     "metadata": {},
     "output_type": "execute_result"
    }
   ],
   "source": [
    "mem_params = sum([param.nelement()*param.element_size() for param in model.parameters()])\n",
    "mem_bufs = sum([buf.nelement()*buf.element_size() for buf in model.buffers()])\n",
    "mem = mem_params + mem_bufs # in bytes\n",
    "mem"
   ]
  },
  {
   "cell_type": "code",
   "execution_count": null,
   "metadata": {},
   "outputs": [],
   "source": []
  }
 ],
 "metadata": {
  "kernelspec": {
   "display_name": "Python 3.8.3 64-bit ('base')",
   "language": "python",
   "name": "python38364bitbase3703bfe2763b4783888de0eec9d4fe6c"
  },
  "language_info": {
   "codemirror_mode": {
    "name": "ipython",
    "version": 3
   },
   "file_extension": ".py",
   "mimetype": "text/x-python",
   "name": "python",
   "nbconvert_exporter": "python",
   "pygments_lexer": "ipython3",
   "version": "3.8.3"
  }
 },
 "nbformat": 4,
 "nbformat_minor": 2
}
