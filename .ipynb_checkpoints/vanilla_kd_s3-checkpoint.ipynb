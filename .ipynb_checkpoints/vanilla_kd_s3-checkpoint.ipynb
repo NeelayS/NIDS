{
 "cells": [
  {
   "cell_type": "code",
   "execution_count": 98,
   "metadata": {},
   "outputs": [
    {
     "name": "stdout",
     "output_type": "stream",
     "text": [
      "Mon Apr 19 22:11:50 2021       \r\n",
      "+-----------------------------------------------------------------------------+\r\n",
      "| NVIDIA-SMI 460.67       Driver Version: 460.67       CUDA Version: 11.2     |\r\n",
      "|-------------------------------+----------------------+----------------------+\r\n",
      "| GPU  Name        Persistence-M| Bus-Id        Disp.A | Volatile Uncorr. ECC |\r\n",
      "| Fan  Temp  Perf  Pwr:Usage/Cap|         Memory-Usage | GPU-Util  Compute M. |\r\n",
      "|                               |                      |               MIG M. |\r\n",
      "|===============================+======================+======================|\r\n",
      "|   0  GeForce RTX 2060    Off  | 00000000:01:00.0  On |                  N/A |\r\n",
      "| N/A   55C    P8     8W /  N/A |   1785MiB /  5934MiB |     13%      Default |\r\n",
      "|                               |                      |                  N/A |\r\n",
      "+-------------------------------+----------------------+----------------------+\r\n",
      "                                                                               \r\n",
      "+-----------------------------------------------------------------------------+\r\n",
      "| Processes:                                                                  |\r\n",
      "|  GPU   GI   CI        PID   Type   Process name                  GPU Memory |\r\n",
      "|        ID   ID                                                   Usage      |\r\n",
      "|=============================================================================|\r\n",
      "|    0   N/A  N/A      1022      G   /usr/lib/xorg/Xorg                 70MiB |\r\n",
      "|    0   N/A  N/A      1663      G   /usr/lib/xorg/Xorg                159MiB |\r\n",
      "|    0   N/A  N/A      1838      G   /usr/bin/gnome-shell               31MiB |\r\n",
      "|    0   N/A  N/A      2868      G   ...AAAAAAAAA= --shared-files       50MiB |\r\n",
      "|    0   N/A  N/A      4975      G   ...AAAAAAAAA= --shared-files       24MiB |\r\n",
      "|    0   N/A  N/A      6589      C   ...conda3/envs/ap/bin/python      689MiB |\r\n",
      "|    0   N/A  N/A      7829      C   ...lay/miniconda3/bin/python      747MiB |\r\n",
      "+-----------------------------------------------------------------------------+\r\n"
     ]
    }
   ],
   "source": [
    "!nvidia-smi"
   ]
  },
  {
   "cell_type": "code",
   "execution_count": 99,
   "metadata": {},
   "outputs": [],
   "source": [
    "from sklearn.metrics import accuracy_score \n",
    "from sklearn.model_selection import train_test_split \n",
    "from sklearn.metrics import classification_report \n",
    "from sklearn.metrics import confusion_matrix,accuracy_score,classification_report, plot_confusion_matrix\n",
    "from sklearn.preprocessing import StandardScaler"
   ]
  },
  {
   "cell_type": "code",
   "execution_count": 100,
   "metadata": {},
   "outputs": [],
   "source": [
    "import pickle # \n",
    "from os import path\n",
    "import numpy as np\n",
    "import pandas as pd\n",
    "import matplotlib.pyplot as plt"
   ]
  },
  {
   "cell_type": "code",
   "execution_count": 101,
   "metadata": {},
   "outputs": [
    {
     "data": {
      "text/html": [
       "<div>\n",
       "<style scoped>\n",
       "    .dataframe tbody tr th:only-of-type {\n",
       "        vertical-align: middle;\n",
       "    }\n",
       "\n",
       "    .dataframe tbody tr th {\n",
       "        vertical-align: top;\n",
       "    }\n",
       "\n",
       "    .dataframe thead th {\n",
       "        text-align: right;\n",
       "    }\n",
       "</style>\n",
       "<table border=\"1\" class=\"dataframe\">\n",
       "  <thead>\n",
       "    <tr style=\"text-align: right;\">\n",
       "      <th></th>\n",
       "      <th>id</th>\n",
       "      <th>dur</th>\n",
       "      <th>xProt</th>\n",
       "      <th>xServ</th>\n",
       "      <th>xState</th>\n",
       "      <th>spkts</th>\n",
       "      <th>dpkts</th>\n",
       "      <th>sbytes</th>\n",
       "      <th>dbytes</th>\n",
       "      <th>rate</th>\n",
       "      <th>...</th>\n",
       "      <th>ct_src_dport_ltm</th>\n",
       "      <th>ct_dst_sport_ltm</th>\n",
       "      <th>ct_dst_src_ltm</th>\n",
       "      <th>is_ftp_login</th>\n",
       "      <th>ct_ftp_cmd</th>\n",
       "      <th>ct_flw_http_mthd</th>\n",
       "      <th>ct_src_ltm</th>\n",
       "      <th>ct_srv_dst</th>\n",
       "      <th>is_sm_ips_ports</th>\n",
       "      <th>label</th>\n",
       "    </tr>\n",
       "  </thead>\n",
       "  <tbody>\n",
       "    <tr>\n",
       "      <th>0</th>\n",
       "      <td>1</td>\n",
       "      <td>0.121478</td>\n",
       "      <td>4</td>\n",
       "      <td>999</td>\n",
       "      <td>2</td>\n",
       "      <td>6</td>\n",
       "      <td>4</td>\n",
       "      <td>258</td>\n",
       "      <td>172</td>\n",
       "      <td>74.087490</td>\n",
       "      <td>...</td>\n",
       "      <td>1</td>\n",
       "      <td>1</td>\n",
       "      <td>1</td>\n",
       "      <td>0</td>\n",
       "      <td>0</td>\n",
       "      <td>0</td>\n",
       "      <td>1</td>\n",
       "      <td>1</td>\n",
       "      <td>0</td>\n",
       "      <td>0</td>\n",
       "    </tr>\n",
       "    <tr>\n",
       "      <th>1</th>\n",
       "      <td>2</td>\n",
       "      <td>0.649902</td>\n",
       "      <td>4</td>\n",
       "      <td>999</td>\n",
       "      <td>2</td>\n",
       "      <td>14</td>\n",
       "      <td>38</td>\n",
       "      <td>734</td>\n",
       "      <td>42014</td>\n",
       "      <td>78.473372</td>\n",
       "      <td>...</td>\n",
       "      <td>1</td>\n",
       "      <td>1</td>\n",
       "      <td>2</td>\n",
       "      <td>0</td>\n",
       "      <td>0</td>\n",
       "      <td>0</td>\n",
       "      <td>1</td>\n",
       "      <td>6</td>\n",
       "      <td>0</td>\n",
       "      <td>0</td>\n",
       "    </tr>\n",
       "    <tr>\n",
       "      <th>2</th>\n",
       "      <td>3</td>\n",
       "      <td>1.623129</td>\n",
       "      <td>4</td>\n",
       "      <td>999</td>\n",
       "      <td>2</td>\n",
       "      <td>8</td>\n",
       "      <td>16</td>\n",
       "      <td>364</td>\n",
       "      <td>13186</td>\n",
       "      <td>14.170161</td>\n",
       "      <td>...</td>\n",
       "      <td>1</td>\n",
       "      <td>1</td>\n",
       "      <td>3</td>\n",
       "      <td>0</td>\n",
       "      <td>0</td>\n",
       "      <td>0</td>\n",
       "      <td>2</td>\n",
       "      <td>6</td>\n",
       "      <td>0</td>\n",
       "      <td>0</td>\n",
       "    </tr>\n",
       "    <tr>\n",
       "      <th>3</th>\n",
       "      <td>4</td>\n",
       "      <td>1.681642</td>\n",
       "      <td>4</td>\n",
       "      <td>3</td>\n",
       "      <td>2</td>\n",
       "      <td>12</td>\n",
       "      <td>12</td>\n",
       "      <td>628</td>\n",
       "      <td>770</td>\n",
       "      <td>13.677108</td>\n",
       "      <td>...</td>\n",
       "      <td>1</td>\n",
       "      <td>1</td>\n",
       "      <td>3</td>\n",
       "      <td>1</td>\n",
       "      <td>1</td>\n",
       "      <td>0</td>\n",
       "      <td>2</td>\n",
       "      <td>1</td>\n",
       "      <td>0</td>\n",
       "      <td>0</td>\n",
       "    </tr>\n",
       "    <tr>\n",
       "      <th>4</th>\n",
       "      <td>5</td>\n",
       "      <td>0.449454</td>\n",
       "      <td>4</td>\n",
       "      <td>999</td>\n",
       "      <td>2</td>\n",
       "      <td>10</td>\n",
       "      <td>6</td>\n",
       "      <td>534</td>\n",
       "      <td>268</td>\n",
       "      <td>33.373826</td>\n",
       "      <td>...</td>\n",
       "      <td>2</td>\n",
       "      <td>1</td>\n",
       "      <td>40</td>\n",
       "      <td>0</td>\n",
       "      <td>0</td>\n",
       "      <td>0</td>\n",
       "      <td>2</td>\n",
       "      <td>39</td>\n",
       "      <td>0</td>\n",
       "      <td>0</td>\n",
       "    </tr>\n",
       "  </tbody>\n",
       "</table>\n",
       "<p>5 rows × 44 columns</p>\n",
       "</div>"
      ],
      "text/plain": [
       "   id       dur  xProt  xServ  xState  spkts  dpkts  sbytes  dbytes  \\\n",
       "0   1  0.121478      4    999       2      6      4     258     172   \n",
       "1   2  0.649902      4    999       2     14     38     734   42014   \n",
       "2   3  1.623129      4    999       2      8     16     364   13186   \n",
       "3   4  1.681642      4      3       2     12     12     628     770   \n",
       "4   5  0.449454      4    999       2     10      6     534     268   \n",
       "\n",
       "        rate  ...  ct_src_dport_ltm  ct_dst_sport_ltm  ct_dst_src_ltm  \\\n",
       "0  74.087490  ...                 1                 1               1   \n",
       "1  78.473372  ...                 1                 1               2   \n",
       "2  14.170161  ...                 1                 1               3   \n",
       "3  13.677108  ...                 1                 1               3   \n",
       "4  33.373826  ...                 2                 1              40   \n",
       "\n",
       "   is_ftp_login  ct_ftp_cmd  ct_flw_http_mthd  ct_src_ltm  ct_srv_dst  \\\n",
       "0             0           0                 0           1           1   \n",
       "1             0           0                 0           1           6   \n",
       "2             0           0                 0           2           6   \n",
       "3             1           1                 0           2           1   \n",
       "4             0           0                 0           2          39   \n",
       "\n",
       "   is_sm_ips_ports  label  \n",
       "0                0      0  \n",
       "1                0      0  \n",
       "2                0      0  \n",
       "3                0      0  \n",
       "4                0      0  \n",
       "\n",
       "[5 rows x 44 columns]"
      ]
     },
     "execution_count": 101,
     "metadata": {},
     "output_type": "execute_result"
    }
   ],
   "source": [
    "data = pd.read_csv('data/UNSW_NB15_training-set.csv')\n",
    "data.head()"
   ]
  },
  {
   "cell_type": "code",
   "execution_count": 102,
   "metadata": {},
   "outputs": [
    {
     "data": {
      "text/plain": [
       "(175341, 43)"
      ]
     },
     "execution_count": 102,
     "metadata": {},
     "output_type": "execute_result"
    }
   ],
   "source": [
    "X = data.iloc[: , :-1].values\n",
    "X.shape"
   ]
  },
  {
   "cell_type": "code",
   "execution_count": 103,
   "metadata": {},
   "outputs": [
    {
     "data": {
      "text/plain": [
       "[0, 1]"
      ]
     },
     "execution_count": 103,
     "metadata": {},
     "output_type": "execute_result"
    }
   ],
   "source": [
    "attacks = list(pd.unique(data[\"label\"]))\n",
    "attacks"
   ]
  },
  {
   "cell_type": "code",
   "execution_count": 104,
   "metadata": {},
   "outputs": [
    {
     "data": {
      "text/plain": [
       "(175341,)"
      ]
     },
     "execution_count": 104,
     "metadata": {},
     "output_type": "execute_result"
    }
   ],
   "source": [
    "y = np.array(list(map((lambda x: attacks.index(x)), data.iloc[: , -1].values)))\n",
    "y.shape"
   ]
  },
  {
   "cell_type": "code",
   "execution_count": 105,
   "metadata": {},
   "outputs": [
    {
     "data": {
      "text/plain": [
       "((140272, 43), (140272,), (140272,), (35069,))"
      ]
     },
     "execution_count": 105,
     "metadata": {},
     "output_type": "execute_result"
    }
   ],
   "source": [
    "X_train, X_test, y_train, y_test = train_test_split(X, y, test_size=0.2, random_state=42)\n",
    "X_train.shape, y_train.shape, y_train.shape, y_test.shape"
   ]
  },
  {
   "cell_type": "code",
   "execution_count": 106,
   "metadata": {},
   "outputs": [],
   "source": [
    "scaler = StandardScaler()\n",
    "X_train = scaler.fit_transform(X_train)\n",
    "X_test = scaler.transform(X_test)"
   ]
  },
  {
   "cell_type": "markdown",
   "metadata": {},
   "source": [
    "------------------------------------------------------------------------------------------------------------------"
   ]
  },
  {
   "cell_type": "code",
   "execution_count": 107,
   "metadata": {},
   "outputs": [],
   "source": [
    "import torch\n",
    "import torch.nn as nn\n",
    "import torch.optim as optim\n",
    "import torch.nn.functional as F\n",
    "from torch.utils.data import Dataset, DataLoader"
   ]
  },
  {
   "cell_type": "code",
   "execution_count": 108,
   "metadata": {},
   "outputs": [],
   "source": [
    "class NSL_KDD(Dataset):\n",
    "    \n",
    "    def __init__(self, X_data, y_data):\n",
    "        self.X_data = X_data\n",
    "        self.y_data = y_data\n",
    "        \n",
    "    def __getitem__(self, index):\n",
    "        return self.X_data[index], self.y_data[index]\n",
    "        \n",
    "    def __len__ (self):\n",
    "        return len(self.X_data)"
   ]
  },
  {
   "cell_type": "code",
   "execution_count": 109,
   "metadata": {},
   "outputs": [],
   "source": [
    "train_data = NSL_KDD(torch.Tensor(X_train), torch.Tensor(y_train))\n",
    "test_data = NSL_KDD(torch.Tensor(X_test), torch.Tensor(y_test))"
   ]
  },
  {
   "cell_type": "code",
   "execution_count": 110,
   "metadata": {},
   "outputs": [],
   "source": [
    "bs = 256\n",
    "\n",
    "train_loader = DataLoader(dataset=train_data, batch_size=bs, shuffle=True)\n",
    "test_loader = DataLoader(dataset=test_data, batch_size=bs)"
   ]
  },
  {
   "cell_type": "code",
   "execution_count": 111,
   "metadata": {},
   "outputs": [
    {
     "data": {
      "text/plain": [
       "(548, 137)"
      ]
     },
     "execution_count": 111,
     "metadata": {},
     "output_type": "execute_result"
    }
   ],
   "source": [
    "len(train_loader.dataset)//bs + 1, len(test_loader.dataset)//bs + 1"
   ]
  },
  {
   "cell_type": "code",
   "execution_count": 112,
   "metadata": {},
   "outputs": [],
   "source": [
    "class Teacher(nn.Module):\n",
    "\n",
    "    def __init__(self, n_features, n_classes):\n",
    "        super(Teacher, self).__init__()\n",
    "\n",
    "        self.mlp = nn.Sequential(*[\n",
    "            nn.Linear(n_features, 32),\n",
    "            nn.ReLU(),\n",
    "            nn.Linear(32, 16),\n",
    "            nn.ReLU(),\n",
    "            nn.Linear(16, 8),\n",
    "            nn.ReLU(),\n",
    "            nn.Linear(8, n_classes)\n",
    "        ])\n",
    "\n",
    "    def forward(self, x):\n",
    "        return self.mlp(x)"
   ]
  },
  {
   "cell_type": "code",
   "execution_count": 113,
   "metadata": {},
   "outputs": [
    {
     "data": {
      "text/plain": [
       "device(type='cuda')"
      ]
     },
     "execution_count": 113,
     "metadata": {},
     "output_type": "execute_result"
    }
   ],
   "source": [
    "device = torch.device(\"cuda\" if torch.cuda.is_available() else \"cpu\")\n",
    "device"
   ]
  },
  {
   "cell_type": "code",
   "execution_count": 114,
   "metadata": {},
   "outputs": [
    {
     "data": {
      "text/plain": [
       "Teacher(\n",
       "  (mlp): Sequential(\n",
       "    (0): Linear(in_features=43, out_features=32, bias=True)\n",
       "    (1): ReLU()\n",
       "    (2): Linear(in_features=32, out_features=16, bias=True)\n",
       "    (3): ReLU()\n",
       "    (4): Linear(in_features=16, out_features=8, bias=True)\n",
       "    (5): ReLU()\n",
       "    (6): Linear(in_features=8, out_features=2, bias=True)\n",
       "  )\n",
       ")"
      ]
     },
     "execution_count": 114,
     "metadata": {},
     "output_type": "execute_result"
    }
   ],
   "source": [
    "teacher = Teacher(X_train.shape[1], len(attacks)).to(device)\n",
    "teacher"
   ]
  },
  {
   "cell_type": "code",
   "execution_count": 115,
   "metadata": {},
   "outputs": [
    {
     "data": {
      "text/plain": [
       "2090"
      ]
     },
     "execution_count": 115,
     "metadata": {},
     "output_type": "execute_result"
    }
   ],
   "source": [
    "sum(p.numel() for p in teacher.parameters())"
   ]
  },
  {
   "cell_type": "code",
   "execution_count": 116,
   "metadata": {},
   "outputs": [],
   "source": [
    "loss_fn = nn.CrossEntropyLoss()\n",
    "teacher_optimizer = optim.SGD(teacher.parameters(), lr=0.01, momentum=0.9)"
   ]
  },
  {
   "cell_type": "code",
   "execution_count": 117,
   "metadata": {},
   "outputs": [],
   "source": [
    "def accuracy(preds, labels):\n",
    "        \n",
    "    preds = F.softmax(preds, dim=1).argmax(dim=1)\n",
    "    n_correct = (preds==labels).sum().float()\n",
    "    \n",
    "    return (n_correct/len(labels)).item()\n",
    "    "
   ]
  },
  {
   "cell_type": "code",
   "execution_count": 118,
   "metadata": {},
   "outputs": [],
   "source": [
    "n_epochs = 50"
   ]
  },
  {
   "cell_type": "code",
   "execution_count": 119,
   "metadata": {},
   "outputs": [
    {
     "name": "stdout",
     "output_type": "stream",
     "text": [
      "Epoch 1: Loss = 158.23888170719147, Average epoch accuracy = 0.8658331433569428\n",
      "Epoch 6: Loss = 59.14612138643861, Average epoch accuracy = 0.9527434041030216\n",
      "Epoch 11: Loss = 50.730321768671274, Average epoch accuracy = 0.9623312994728993\n",
      "Epoch 16: Loss = 42.57793686538935, Average epoch accuracy = 0.9680761481723646\n",
      "Epoch 21: Loss = 38.47857201099396, Average epoch accuracy = 0.9707344891163554\n",
      "Epoch 26: Loss = 34.43950115330517, Average epoch accuracy = 0.9735216127477423\n",
      "Epoch 31: Loss = 32.0851029464975, Average epoch accuracy = 0.9753621122697844\n",
      "Epoch 36: Loss = 30.708490900695324, Average epoch accuracy = 0.9765320865124681\n",
      "Epoch 41: Loss = 29.585794706828892, Average epoch accuracy = 0.9770234566535393\n",
      "Epoch 46: Loss = 28.544629780575633, Average epoch accuracy = 0.9777015854407402\n"
     ]
    },
    {
     "data": {
      "text/plain": [
       "Text(0, 0.5, 'Loss')"
      ]
     },
     "execution_count": 119,
     "metadata": {},
     "output_type": "execute_result"
    },
    {
     "data": {
      "image/png": "[encoded data removed]",
      "text/plain": [
       "<Figure size 432x288 with 1 Axes>"
      ]
     },
     "metadata": {
      "needs_background": "light"
     },
     "output_type": "display_data"
    }
   ],
   "source": [
    "epoch_losses = []\n",
    "epoch_accuracies = []\n",
    "\n",
    "for e in range(n_epochs):\n",
    "    running_loss = 0\n",
    "    batch_accuracies = []\n",
    "    \n",
    "    for i, (data, labels) in enumerate(train_loader):\n",
    "        \n",
    "        teacher_optimizer.zero_grad()\n",
    "        \n",
    "        data, labels = data.to(device), labels.to(device).long()\n",
    "        preds = teacher(data)\n",
    "        loss = loss_fn(preds, labels)\n",
    "        \n",
    "        loss.backward()\n",
    "        teacher_optimizer.step()\n",
    "        \n",
    "        running_loss += loss.item()\n",
    "        batch_accuracies.append(accuracy(preds, labels))\n",
    "        \n",
    "#         if i%50==0:\n",
    "#             print(f\"Average accuracy = {sum(batch_accuracies)/len(batch_accuracies)}\")\n",
    "    \n",
    "    epoch_losses.append(running_loss)\n",
    "    epoch_accuracies.append(sum(batch_accuracies)/len(batch_accuracies))\n",
    "    \n",
    "    if (e%5 == 0):\n",
    "        print(f\"Epoch {e+1}: Loss = {epoch_losses[e]}, Average epoch accuracy = {epoch_accuracies[e]}\")\n",
    "\n",
    "plt.plot(epoch_losses)\n",
    "plt.title(\"Teacher model training loss\")\n",
    "plt.xlabel(\"Epochs\")\n",
    "plt.ylabel(\"Loss\")"
   ]
  },
  {
   "cell_type": "code",
   "execution_count": 120,
   "metadata": {},
   "outputs": [
    {
     "name": "stdout",
     "output_type": "stream",
     "text": [
      "Average accuracy = 0.9777305095735258\n"
     ]
    }
   ],
   "source": [
    "accuracies = []\n",
    "for data, labels in test_loader:\n",
    "    \n",
    "    data, labels = data.to(device), labels.to(device)\n",
    "    preds = teacher(data)\n",
    "    accuracies.append(accuracy(preds, labels))\n",
    "print(f\"Average accuracy = {sum(accuracies)/len(accuracies)}\")"
   ]
  },
  {
   "cell_type": "code",
   "execution_count": 121,
   "metadata": {},
   "outputs": [],
   "source": [
    "class Student(nn.Module):\n",
    "\n",
    "    def __init__(self, n_features, n_classes):\n",
    "        super(Student, self).__init__()\n",
    "\n",
    "        self.mlp = nn.Sequential(*[\n",
    "            nn.Linear(n_features, 8),\n",
    "            nn.ReLU(),\n",
    "            nn.Linear(8, n_classes)\n",
    "        ])\n",
    "\n",
    "    def forward(self, x):\n",
    "        return self.mlp(x)"
   ]
  },
  {
   "cell_type": "code",
   "execution_count": 122,
   "metadata": {},
   "outputs": [
    {
     "data": {
      "text/plain": [
       "Student(\n",
       "  (mlp): Sequential(\n",
       "    (0): Linear(in_features=43, out_features=8, bias=True)\n",
       "    (1): ReLU()\n",
       "    (2): Linear(in_features=8, out_features=2, bias=True)\n",
       "  )\n",
       ")"
      ]
     },
     "execution_count": 122,
     "metadata": {},
     "output_type": "execute_result"
    }
   ],
   "source": [
    "student = Student(X_train.shape[1], len(attacks)).to(device)\n",
    "student"
   ]
  },
  {
   "cell_type": "code",
   "execution_count": 123,
   "metadata": {},
   "outputs": [
    {
     "data": {
      "text/plain": [
       "370"
      ]
     },
     "execution_count": 123,
     "metadata": {},
     "output_type": "execute_result"
    }
   ],
   "source": [
    "sum(p.numel() for p in student.parameters())"
   ]
  },
  {
   "cell_type": "code",
   "execution_count": 124,
   "metadata": {},
   "outputs": [],
   "source": [
    "student_optimizer = optim.SGD(student.parameters(), lr=0.01, momentum=0.9)"
   ]
  },
  {
   "cell_type": "code",
   "execution_count": 125,
   "metadata": {},
   "outputs": [
    {
     "name": "stdout",
     "output_type": "stream",
     "text": [
      "Epoch 1: Loss = 127.13001264631748, Average epoch accuracy = 0.9025699514759719\n",
      "Epoch 6: Loss = 67.47551638633013, Average epoch accuracy = 0.9481642526866746\n",
      "Epoch 11: Loss = 64.1680811829865, Average epoch accuracy = 0.9506610212099813\n",
      "Epoch 16: Loss = 63.122423745691776, Average epoch accuracy = 0.9514294404835597\n",
      "Epoch 21: Loss = 62.41486815363169, Average epoch accuracy = 0.9518077099410287\n",
      "Epoch 26: Loss = 61.450386226177216, Average epoch accuracy = 0.9526706965517824\n",
      "Epoch 31: Loss = 60.982770547270775, Average epoch accuracy = 0.9526179479639025\n",
      "Epoch 36: Loss = 60.55586414039135, Average epoch accuracy = 0.9520700274810304\n",
      "Epoch 41: Loss = 60.199975069612265, Average epoch accuracy = 0.952223996393872\n",
      "Epoch 46: Loss = 59.85674108937383, Average epoch accuracy = 0.95220261181358\n"
     ]
    },
    {
     "data": {
      "text/plain": [
       "Text(0, 0.5, 'Loss')"
      ]
     },
     "execution_count": 125,
     "metadata": {},
     "output_type": "execute_result"
    },
    {
     "data": {
      "image/png": "[encoded data removed]",
      "text/plain": [
       "<Figure size 432x288 with 1 Axes>"
      ]
     },
     "metadata": {
      "needs_background": "light"
     },
     "output_type": "display_data"
    }
   ],
   "source": [
    "epoch_losses = []\n",
    "epoch_accuracies = []\n",
    "\n",
    "for e in range(n_epochs):\n",
    "    running_loss = 0\n",
    "    batch_accuracies = []\n",
    "    \n",
    "    for i, (data, labels) in enumerate(train_loader):\n",
    "        \n",
    "        student_optimizer.zero_grad()\n",
    "        \n",
    "        data, labels = data.to(device), labels.to(device).long()\n",
    "        preds = student(data)\n",
    "        loss = loss_fn(preds, labels)\n",
    "        \n",
    "        loss.backward()\n",
    "        student_optimizer.step()\n",
    "        \n",
    "        running_loss += loss.item()\n",
    "        batch_accuracies.append(accuracy(preds, labels))\n",
    "        \n",
    "#         if i%50==0:\n",
    "#             print(f\"Average accuracy = {sum(batch_accuracies)/len(batch_accuracies)}\")\n",
    "    \n",
    "    epoch_losses.append(running_loss)\n",
    "    epoch_accuracies.append(sum(batch_accuracies)/len(batch_accuracies))\n",
    "    \n",
    "    if (e%5 == 0):\n",
    "        print(f\"Epoch {e+1}: Loss = {epoch_losses[e]}, Average epoch accuracy = {epoch_accuracies[e]}\")\n",
    "\n",
    "plt.plot(epoch_losses)\n",
    "plt.title(\"Base model training loss\")\n",
    "plt.xlabel(\"Epochs\")\n",
    "plt.ylabel(\"Loss\")"
   ]
  },
  {
   "cell_type": "code",
   "execution_count": 126,
   "metadata": {},
   "outputs": [
    {
     "name": "stdout",
     "output_type": "stream",
     "text": [
      "Average accuracy = 0.9516966569162634\n"
     ]
    }
   ],
   "source": [
    "accuracies = []\n",
    "for data, labels in test_loader:\n",
    "    \n",
    "    data, labels = data.to(device), labels.to(device)\n",
    "    preds = student(data)\n",
    "    accuracies.append(accuracy(preds, labels))\n",
    "    \n",
    "print(f\"Average accuracy = {sum(accuracies)/len(accuracies)}\")"
   ]
  },
  {
   "cell_type": "code",
   "execution_count": 127,
   "metadata": {},
   "outputs": [
    {
     "data": {
      "text/plain": [
       "Student(\n",
       "  (mlp): Sequential(\n",
       "    (0): Linear(in_features=43, out_features=8, bias=True)\n",
       "    (1): ReLU()\n",
       "    (2): Linear(in_features=8, out_features=2, bias=True)\n",
       "  )\n",
       ")"
      ]
     },
     "execution_count": 127,
     "metadata": {},
     "output_type": "execute_result"
    }
   ],
   "source": [
    "student = Student(X_train.shape[1], len(attacks)).to(device)\n",
    "student"
   ]
  },
  {
   "cell_type": "code",
   "execution_count": 128,
   "metadata": {},
   "outputs": [],
   "source": [
    "student_optimizer = optim.SGD(student.parameters(), lr=0.1, momentum=0.9)"
   ]
  },
  {
   "cell_type": "code",
   "execution_count": 129,
   "metadata": {},
   "outputs": [
    {
     "name": "stdout",
     "output_type": "stream",
     "text": [
      "Epoch 1: Loss = 55.21856279298663, Average epoch accuracy = 0.9218388839359701\n",
      "Epoch 6: Loss = 34.55339614674449, Average epoch accuracy = 0.9483082421722203\n",
      "Epoch 11: Loss = 32.40151357278228, Average epoch accuracy = 0.9527619374494483\n",
      "Epoch 16: Loss = 28.37672029621899, Average epoch accuracy = 0.9619159634313444\n",
      "Epoch 21: Loss = 27.43432273901999, Average epoch accuracy = 0.9633587098469699\n",
      "Epoch 26: Loss = 26.522734459489584, Average epoch accuracy = 0.9648679859229248\n",
      "Epoch 31: Loss = 26.413170341402292, Average epoch accuracy = 0.9647952783716857\n",
      "Epoch 36: Loss = 26.557523312047124, Average epoch accuracy = 0.9650414387022492\n",
      "Epoch 41: Loss = 25.992405470460653, Average epoch accuracy = 0.9656159710274995\n",
      "Epoch 46: Loss = 25.376288494095206, Average epoch accuracy = 0.9663093066128501\n"
     ]
    },
    {
     "data": {
      "text/plain": [
       "Text(0, 0.5, 'Loss')"
      ]
     },
     "execution_count": 129,
     "metadata": {},
     "output_type": "execute_result"
    },
    {
     "data": {
      "image/png": "[encoded data removed]",
      "text/plain": [
       "<Figure size 432x288 with 1 Axes>"
      ]
     },
     "metadata": {
      "needs_background": "light"
     },
     "output_type": "display_data"
    }
   ],
   "source": [
    "distil_weight = 0.5\n",
    "\n",
    "epoch_losses = []\n",
    "epoch_accuracies = []\n",
    "\n",
    "for e in range(n_epochs):\n",
    "    running_loss = 0\n",
    "    batch_accuracies = []\n",
    "    \n",
    "    for i, (data, labels) in enumerate(train_loader):\n",
    "        \n",
    "        student_optimizer.zero_grad()\n",
    "        \n",
    "        data, labels = data.to(device), labels.to(device).long()\n",
    "        student_preds = student(data)\n",
    "        loss = (1-distil_weight) * loss_fn(student_preds, labels)\n",
    "        \n",
    "        teacher_preds = teacher(data)\n",
    "        soft_student_probs = F.log_softmax(student_preds/10, dim=1)\n",
    "        soft_teacher_probs = F.softmax(teacher_preds/10, dim=1)\n",
    "        loss += distil_weight * F.kl_div(soft_student_probs, soft_teacher_probs.detach(), reduction='batchmean')\n",
    "        \n",
    "        loss.backward()\n",
    "        student_optimizer.step()\n",
    "        \n",
    "        running_loss += loss.item()\n",
    "        batch_accuracies.append(accuracy(student_preds, labels))\n",
    "        \n",
    "#         if i%50==0:\n",
    "#             print(f\"Average accuracy = {sum(batch_accuracies)/len(batch_accuracies)}\")\n",
    "    \n",
    "    epoch_losses.append(running_loss)\n",
    "    epoch_accuracies.append(sum(batch_accuracies)/len(batch_accuracies))\n",
    "    \n",
    "    if (e%5 == 0):\n",
    "        print(f\"Epoch {e+1}: Loss = {epoch_losses[e]}, Average epoch accuracy = {epoch_accuracies[e]}\")\n",
    "\n",
    "plt.plot(epoch_losses)\n",
    "plt.title(\"Distilled student model training loss\")\n",
    "plt.xlabel(\"Epochs\")\n",
    "plt.ylabel(\"Loss\")"
   ]
  },
  {
   "cell_type": "code",
   "execution_count": 130,
   "metadata": {},
   "outputs": [
    {
     "name": "stdout",
     "output_type": "stream",
     "text": [
      "Average accuracy = 0.965126173339621\n"
     ]
    }
   ],
   "source": [
    "accuracies = []\n",
    "for data, labels in test_loader:\n",
    "    \n",
    "    data, labels = data.to(device), labels.to(device)\n",
    "    preds = student(data)\n",
    "    accuracies.append(accuracy(preds, labels))\n",
    "    \n",
    "print(f\"Average accuracy = {sum(accuracies)/len(accuracies)}\")"
   ]
  },
  {
   "cell_type": "code",
   "execution_count": 131,
   "metadata": {},
   "outputs": [
    {
     "data": {
      "text/plain": [
       "370"
      ]
     },
     "execution_count": 131,
     "metadata": {},
     "output_type": "execute_result"
    }
   ],
   "source": [
    "sum(p.numel() for p in student.parameters())"
   ]
  },
  {
   "cell_type": "code",
   "execution_count": null,
   "metadata": {},
   "outputs": [],
   "source": []
  }
 ],
 "metadata": {
  "kernelspec": {
   "display_name": "Python 3.8.3 64-bit ('base')",
   "language": "python",
   "name": "python38364bitbase3703bfe2763b4783888de0eec9d4fe6c"
  },
  "language_info": {
   "codemirror_mode": {
    "name": "ipython",
    "version": 3
   },
   "file_extension": ".py",
   "mimetype": "text/x-python",
   "name": "python",
   "nbconvert_exporter": "python",
   "pygments_lexer": "ipython3",
   "version": "3.8.3"
  }
 },
 "nbformat": 4,
 "nbformat_minor": 4
}
