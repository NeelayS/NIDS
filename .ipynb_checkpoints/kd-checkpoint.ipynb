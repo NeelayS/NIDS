{
 "cells": [
  {
   "cell_type": "code",
   "execution_count": 15,
   "metadata": {},
   "outputs": [
    {
     "name": "stdout",
     "output_type": "stream",
     "text": [
      "Mon Apr 19 21:17:15 2021       \r\n",
      "+-----------------------------------------------------------------------------+\r\n",
      "| NVIDIA-SMI 460.67       Driver Version: 460.67       CUDA Version: 11.2     |\r\n",
      "|-------------------------------+----------------------+----------------------+\r\n",
      "| GPU  Name        Persistence-M| Bus-Id        Disp.A | Volatile Uncorr. ECC |\r\n",
      "| Fan  Temp  Perf  Pwr:Usage/Cap|         Memory-Usage | GPU-Util  Compute M. |\r\n",
      "|                               |                      |               MIG M. |\r\n",
      "|===============================+======================+======================|\r\n",
      "|   0  GeForce RTX 2060    Off  | 00000000:01:00.0  On |                  N/A |\r\n",
      "| N/A   54C    P8     6W /  N/A |    394MiB /  5934MiB |      3%      Default |\r\n",
      "|                               |                      |                  N/A |\r\n",
      "+-------------------------------+----------------------+----------------------+\r\n",
      "                                                                               \r\n",
      "+-----------------------------------------------------------------------------+\r\n",
      "| Processes:                                                                  |\r\n",
      "|  GPU   GI   CI        PID   Type   Process name                  GPU Memory |\r\n",
      "|        ID   ID                                                   Usage      |\r\n",
      "|=============================================================================|\r\n",
      "|    0   N/A  N/A      1022      G   /usr/lib/xorg/Xorg                 70MiB |\r\n",
      "|    0   N/A  N/A      1663      G   /usr/lib/xorg/Xorg                118MiB |\r\n",
      "|    0   N/A  N/A      1838      G   /usr/bin/gnome-shell              110MiB |\r\n",
      "|    0   N/A  N/A      2868      G   ...AAAAAAAAA= --shared-files       84MiB |\r\n",
      "+-----------------------------------------------------------------------------+\r\n"
     ]
    }
   ],
   "source": [
    "!nvidia-smi"
   ]
  },
  {
   "cell_type": "code",
   "execution_count": 16,
   "metadata": {},
   "outputs": [],
   "source": [
    "from sklearn.metrics import accuracy_score \n",
    "from sklearn.model_selection import train_test_split \n",
    "from sklearn.metrics import classification_report \n",
    "from sklearn.metrics import confusion_matrix,accuracy_score,classification_report, plot_confusion_matrix\n",
    "from sklearn.preprocessing import StandardScaler"
   ]
  },
  {
   "cell_type": "code",
   "execution_count": 17,
   "metadata": {},
   "outputs": [],
   "source": [
    "import pickle # \n",
    "from os import path\n",
    "import numpy as np\n",
    "import pandas as pd\n",
    "import matplotlib.pyplot as plt"
   ]
  },
  {
   "cell_type": "code",
   "execution_count": 56,
   "metadata": {},
   "outputs": [],
   "source": [
    "from KD_Lib.KD import DML, VirtualTeacher, SelfTraining, ProbShift, LabelSmoothReg, RCO"
   ]
  },
  {
   "cell_type": "code",
   "execution_count": 19,
   "metadata": {},
   "outputs": [
    {
     "data": {
      "text/html": [
       "<div>\n",
       "<style scoped>\n",
       "    .dataframe tbody tr th:only-of-type {\n",
       "        vertical-align: middle;\n",
       "    }\n",
       "\n",
       "    .dataframe tbody tr th {\n",
       "        vertical-align: top;\n",
       "    }\n",
       "\n",
       "    .dataframe thead th {\n",
       "        text-align: right;\n",
       "    }\n",
       "</style>\n",
       "<table border=\"1\" class=\"dataframe\">\n",
       "  <thead>\n",
       "    <tr style=\"text-align: right;\">\n",
       "      <th></th>\n",
       "      <th>id</th>\n",
       "      <th>dur</th>\n",
       "      <th>xProt</th>\n",
       "      <th>xServ</th>\n",
       "      <th>xState</th>\n",
       "      <th>spkts</th>\n",
       "      <th>dpkts</th>\n",
       "      <th>sbytes</th>\n",
       "      <th>dbytes</th>\n",
       "      <th>rate</th>\n",
       "      <th>...</th>\n",
       "      <th>ct_src_dport_ltm</th>\n",
       "      <th>ct_dst_sport_ltm</th>\n",
       "      <th>ct_dst_src_ltm</th>\n",
       "      <th>is_ftp_login</th>\n",
       "      <th>ct_ftp_cmd</th>\n",
       "      <th>ct_flw_http_mthd</th>\n",
       "      <th>ct_src_ltm</th>\n",
       "      <th>ct_srv_dst</th>\n",
       "      <th>is_sm_ips_ports</th>\n",
       "      <th>label</th>\n",
       "    </tr>\n",
       "  </thead>\n",
       "  <tbody>\n",
       "    <tr>\n",
       "      <th>0</th>\n",
       "      <td>1</td>\n",
       "      <td>0.121478</td>\n",
       "      <td>4</td>\n",
       "      <td>999</td>\n",
       "      <td>2</td>\n",
       "      <td>6</td>\n",
       "      <td>4</td>\n",
       "      <td>258</td>\n",
       "      <td>172</td>\n",
       "      <td>74.087490</td>\n",
       "      <td>...</td>\n",
       "      <td>1</td>\n",
       "      <td>1</td>\n",
       "      <td>1</td>\n",
       "      <td>0</td>\n",
       "      <td>0</td>\n",
       "      <td>0</td>\n",
       "      <td>1</td>\n",
       "      <td>1</td>\n",
       "      <td>0</td>\n",
       "      <td>0</td>\n",
       "    </tr>\n",
       "    <tr>\n",
       "      <th>1</th>\n",
       "      <td>2</td>\n",
       "      <td>0.649902</td>\n",
       "      <td>4</td>\n",
       "      <td>999</td>\n",
       "      <td>2</td>\n",
       "      <td>14</td>\n",
       "      <td>38</td>\n",
       "      <td>734</td>\n",
       "      <td>42014</td>\n",
       "      <td>78.473372</td>\n",
       "      <td>...</td>\n",
       "      <td>1</td>\n",
       "      <td>1</td>\n",
       "      <td>2</td>\n",
       "      <td>0</td>\n",
       "      <td>0</td>\n",
       "      <td>0</td>\n",
       "      <td>1</td>\n",
       "      <td>6</td>\n",
       "      <td>0</td>\n",
       "      <td>0</td>\n",
       "    </tr>\n",
       "    <tr>\n",
       "      <th>2</th>\n",
       "      <td>3</td>\n",
       "      <td>1.623129</td>\n",
       "      <td>4</td>\n",
       "      <td>999</td>\n",
       "      <td>2</td>\n",
       "      <td>8</td>\n",
       "      <td>16</td>\n",
       "      <td>364</td>\n",
       "      <td>13186</td>\n",
       "      <td>14.170161</td>\n",
       "      <td>...</td>\n",
       "      <td>1</td>\n",
       "      <td>1</td>\n",
       "      <td>3</td>\n",
       "      <td>0</td>\n",
       "      <td>0</td>\n",
       "      <td>0</td>\n",
       "      <td>2</td>\n",
       "      <td>6</td>\n",
       "      <td>0</td>\n",
       "      <td>0</td>\n",
       "    </tr>\n",
       "    <tr>\n",
       "      <th>3</th>\n",
       "      <td>4</td>\n",
       "      <td>1.681642</td>\n",
       "      <td>4</td>\n",
       "      <td>3</td>\n",
       "      <td>2</td>\n",
       "      <td>12</td>\n",
       "      <td>12</td>\n",
       "      <td>628</td>\n",
       "      <td>770</td>\n",
       "      <td>13.677108</td>\n",
       "      <td>...</td>\n",
       "      <td>1</td>\n",
       "      <td>1</td>\n",
       "      <td>3</td>\n",
       "      <td>1</td>\n",
       "      <td>1</td>\n",
       "      <td>0</td>\n",
       "      <td>2</td>\n",
       "      <td>1</td>\n",
       "      <td>0</td>\n",
       "      <td>0</td>\n",
       "    </tr>\n",
       "    <tr>\n",
       "      <th>4</th>\n",
       "      <td>5</td>\n",
       "      <td>0.449454</td>\n",
       "      <td>4</td>\n",
       "      <td>999</td>\n",
       "      <td>2</td>\n",
       "      <td>10</td>\n",
       "      <td>6</td>\n",
       "      <td>534</td>\n",
       "      <td>268</td>\n",
       "      <td>33.373826</td>\n",
       "      <td>...</td>\n",
       "      <td>2</td>\n",
       "      <td>1</td>\n",
       "      <td>40</td>\n",
       "      <td>0</td>\n",
       "      <td>0</td>\n",
       "      <td>0</td>\n",
       "      <td>2</td>\n",
       "      <td>39</td>\n",
       "      <td>0</td>\n",
       "      <td>0</td>\n",
       "    </tr>\n",
       "  </tbody>\n",
       "</table>\n",
       "<p>5 rows × 44 columns</p>\n",
       "</div>"
      ],
      "text/plain": [
       "   id       dur  xProt  xServ  xState  spkts  dpkts  sbytes  dbytes  \\\n",
       "0   1  0.121478      4    999       2      6      4     258     172   \n",
       "1   2  0.649902      4    999       2     14     38     734   42014   \n",
       "2   3  1.623129      4    999       2      8     16     364   13186   \n",
       "3   4  1.681642      4      3       2     12     12     628     770   \n",
       "4   5  0.449454      4    999       2     10      6     534     268   \n",
       "\n",
       "        rate  ...  ct_src_dport_ltm  ct_dst_sport_ltm  ct_dst_src_ltm  \\\n",
       "0  74.087490  ...                 1                 1               1   \n",
       "1  78.473372  ...                 1                 1               2   \n",
       "2  14.170161  ...                 1                 1               3   \n",
       "3  13.677108  ...                 1                 1               3   \n",
       "4  33.373826  ...                 2                 1              40   \n",
       "\n",
       "   is_ftp_login  ct_ftp_cmd  ct_flw_http_mthd  ct_src_ltm  ct_srv_dst  \\\n",
       "0             0           0                 0           1           1   \n",
       "1             0           0                 0           1           6   \n",
       "2             0           0                 0           2           6   \n",
       "3             1           1                 0           2           1   \n",
       "4             0           0                 0           2          39   \n",
       "\n",
       "   is_sm_ips_ports  label  \n",
       "0                0      0  \n",
       "1                0      0  \n",
       "2                0      0  \n",
       "3                0      0  \n",
       "4                0      0  \n",
       "\n",
       "[5 rows x 44 columns]"
      ]
     },
     "execution_count": 19,
     "metadata": {},
     "output_type": "execute_result"
    }
   ],
   "source": [
    "data = pd.read_csv('data/UNSW_NB15_training-set.csv')\n",
    "data.head()"
   ]
  },
  {
   "cell_type": "code",
   "execution_count": 20,
   "metadata": {},
   "outputs": [
    {
     "data": {
      "text/plain": [
       "(175341, 43)"
      ]
     },
     "execution_count": 20,
     "metadata": {},
     "output_type": "execute_result"
    }
   ],
   "source": [
    "X = data.iloc[: , :-1].values\n",
    "X.shape"
   ]
  },
  {
   "cell_type": "code",
   "execution_count": 21,
   "metadata": {},
   "outputs": [
    {
     "data": {
      "text/plain": [
       "[0, 1]"
      ]
     },
     "execution_count": 21,
     "metadata": {},
     "output_type": "execute_result"
    }
   ],
   "source": [
    "attacks = list(pd.unique(data[\"label\"]))\n",
    "attacks"
   ]
  },
  {
   "cell_type": "code",
   "execution_count": 22,
   "metadata": {},
   "outputs": [
    {
     "data": {
      "text/plain": [
       "(175341,)"
      ]
     },
     "execution_count": 22,
     "metadata": {},
     "output_type": "execute_result"
    }
   ],
   "source": [
    "y = np.array(list(map((lambda x: attacks.index(x)), data.iloc[: , -1].values)))\n",
    "y.shape"
   ]
  },
  {
   "cell_type": "code",
   "execution_count": 23,
   "metadata": {},
   "outputs": [
    {
     "data": {
      "text/plain": [
       "((140272, 43), (140272,), (140272,), (35069,))"
      ]
     },
     "execution_count": 23,
     "metadata": {},
     "output_type": "execute_result"
    }
   ],
   "source": [
    "X_train, X_test, y_train, y_test = train_test_split(X, y, test_size=0.2, random_state=42)\n",
    "X_train.shape, y_train.shape, y_train.shape, y_test.shape"
   ]
  },
  {
   "cell_type": "code",
   "execution_count": 24,
   "metadata": {},
   "outputs": [],
   "source": [
    "scaler = StandardScaler()\n",
    "X_train = scaler.fit_transform(X_train)\n",
    "X_test = scaler.transform(X_test)"
   ]
  },
  {
   "cell_type": "markdown",
   "metadata": {},
   "source": [
    "------------------------------------------------------------------------------------------------------------------"
   ]
  },
  {
   "cell_type": "code",
   "execution_count": 25,
   "metadata": {},
   "outputs": [],
   "source": [
    "import torch\n",
    "import torch.nn as nn\n",
    "import torch.optim as optim\n",
    "import torch.nn.functional as F\n",
    "from torch.utils.data import Dataset, DataLoader"
   ]
  },
  {
   "cell_type": "code",
   "execution_count": 26,
   "metadata": {},
   "outputs": [],
   "source": [
    "class UNSWDataset(Dataset):\n",
    "    \n",
    "    def __init__(self, X_data, y_data):\n",
    "        self.X_data = X_data\n",
    "        self.y_data = y_data\n",
    "        \n",
    "    def __getitem__(self, index):\n",
    "        return self.X_data[index], self.y_data[index]\n",
    "        \n",
    "    def __len__ (self):\n",
    "        return len(self.X_data)"
   ]
  },
  {
   "cell_type": "code",
   "execution_count": 27,
   "metadata": {},
   "outputs": [],
   "source": [
    "train_data = UNSWDataset(torch.Tensor(X_train), torch.LongTensor(y_train))\n",
    "test_data = UNSWDataset(torch.Tensor(X_test), torch.LongTensor(y_test))"
   ]
  },
  {
   "cell_type": "code",
   "execution_count": 28,
   "metadata": {},
   "outputs": [],
   "source": [
    "bs = 256\n",
    "\n",
    "train_loader = DataLoader(dataset=train_data, batch_size=bs, shuffle=True)\n",
    "test_loader = DataLoader(dataset=test_data, batch_size=bs)"
   ]
  },
  {
   "cell_type": "code",
   "execution_count": 29,
   "metadata": {},
   "outputs": [
    {
     "data": {
      "text/plain": [
       "(548, 137)"
      ]
     },
     "execution_count": 29,
     "metadata": {},
     "output_type": "execute_result"
    }
   ],
   "source": [
    "len(train_loader.dataset)//bs + 1, len(test_loader.dataset)//bs + 1"
   ]
  },
  {
   "cell_type": "code",
   "execution_count": 30,
   "metadata": {},
   "outputs": [],
   "source": [
    "class Teacher(nn.Module):\n",
    "\n",
    "    def __init__(self, n_features, n_classes):\n",
    "        super(Teacher, self).__init__()\n",
    "\n",
    "        self.mlp = nn.Sequential(*[\n",
    "            nn.Linear(n_features, 32),\n",
    "            nn.ReLU(),\n",
    "            nn.Linear(32, 16),\n",
    "            nn.ReLU(),\n",
    "            nn.Linear(16, 8),\n",
    "            nn.ReLU(),\n",
    "            nn.Linear(8, n_classes)\n",
    "        ])\n",
    "\n",
    "    def forward(self, x):\n",
    "        return self.mlp(x)"
   ]
  },
  {
   "cell_type": "code",
   "execution_count": 31,
   "metadata": {},
   "outputs": [],
   "source": [
    "class Student(nn.Module):\n",
    "\n",
    "    def __init__(self, n_features, n_classes):\n",
    "        super(Student, self).__init__()\n",
    "\n",
    "        self.mlp = nn.Sequential(*[\n",
    "            nn.Linear(n_features, 16),\n",
    "            nn.ReLU(),\n",
    "            nn.Linear(16, n_classes)\n",
    "        ])\n",
    "\n",
    "    def forward(self, x):\n",
    "        return self.mlp(x)"
   ]
  },
  {
   "cell_type": "code",
   "execution_count": 32,
   "metadata": {},
   "outputs": [
    {
     "data": {
      "text/plain": [
       "device(type='cuda')"
      ]
     },
     "execution_count": 32,
     "metadata": {},
     "output_type": "execute_result"
    }
   ],
   "source": [
    "device = torch.device(\"cuda\" if torch.cuda.is_available() else \"cpu\")\n",
    "device"
   ]
  },
  {
   "cell_type": "markdown",
   "metadata": {},
   "source": [
    "# Self Training"
   ]
  },
  {
   "cell_type": "code",
   "execution_count": 37,
   "metadata": {},
   "outputs": [],
   "source": [
    "teacher = Teacher(X_train.shape[1], len(attacks)).to(device)\n",
    "teacher_optimizer = optim.SGD(teacher.parameters(), lr=0.1, momentum=0.9)\n",
    "\n",
    "student = Student(X_train.shape[1], len(attacks)).to(device)\n",
    "student_optimizer = optim.SGD(student.parameters(), lr=0.1, momentum=0.9)"
   ]
  },
  {
   "cell_type": "code",
   "execution_count": 38,
   "metadata": {},
   "outputs": [
    {
     "name": "stdout",
     "output_type": "stream",
     "text": [
      "\n",
      "Training self teacher...\n",
      "Epoch: 1, Loss: 110.9912338256836, Accuracy: 0.9208181247861298\n",
      "Epoch: 2, Loss: 78.5406265258789, Accuracy: 0.9373075168244553\n",
      "Epoch: 3, Loss: 73.6027603149414, Accuracy: 0.9399951522755788\n",
      "Epoch: 4, Loss: 69.03116607666016, Accuracy: 0.9443295882285845\n",
      "Epoch: 5, Loss: 66.06209564208984, Accuracy: 0.9476873502908635\n",
      "Epoch: 6, Loss: 64.69233703613281, Accuracy: 0.9484644119995438\n",
      "Epoch: 7, Loss: 63.64885711669922, Accuracy: 0.9492557317212273\n",
      "Epoch: 8, Loss: 63.000816345214844, Accuracy: 0.9499543743583894\n",
      "Epoch: 9, Loss: 62.53139877319336, Accuracy: 0.949961503364891\n",
      "Epoch: 10, Loss: 62.03017044067383, Accuracy: 0.9504676628265085\n",
      "Epoch: 11, Loss: 61.587100982666016, Accuracy: 0.9506387589825482\n",
      "Epoch: 12, Loss: 61.34749221801758, Accuracy: 0.9507528230865746\n",
      "Epoch: 13, Loss: 60.793609619140625, Accuracy: 0.9515156267822517\n",
      "Epoch: 14, Loss: 60.352787017822266, Accuracy: 0.9515797878407665\n",
      "Epoch: 15, Loss: 60.007572174072266, Accuracy: 0.9516368198927797\n",
      "Epoch: 16, Loss: 59.8317985534668, Accuracy: 0.9520003992243641\n",
      "Epoch: 17, Loss: 59.3999137878418, Accuracy: 0.9522071404129121\n",
      "Epoch: 18, Loss: 59.229461669921875, Accuracy: 0.9523425915364435\n",
      "Epoch: 19, Loss: 58.97110366821289, Accuracy: 0.952577848750998\n",
      "Epoch: 20, Loss: 58.9156608581543, Accuracy: 0.9526705258355196\n",
      "Epoch: 21, Loss: 58.69277572631836, Accuracy: 0.9526348808030113\n",
      "Epoch: 22, Loss: 58.49707794189453, Accuracy: 0.9523283335234402\n",
      "Epoch: 23, Loss: 58.28199005126953, Accuracy: 0.9527489449070378\n",
      "Epoch: 24, Loss: 58.12385177612305, Accuracy: 0.9529414280825824\n",
      "Epoch: 25, Loss: 58.13151550292969, Accuracy: 0.9529485570890841\n",
      "Epoch: 26, Loss: 58.02978515625, Accuracy: 0.9527132998745295\n",
      "Epoch: 27, Loss: 57.73353576660156, Accuracy: 0.9528487509980609\n",
      "Epoch: 28, Loss: 57.63111114501953, Accuracy: 0.9529485570890841\n",
      "Epoch: 29, Loss: 57.78221893310547, Accuracy: 0.9528701380175659\n",
      "Epoch: 30, Loss: 57.51441955566406, Accuracy: 0.9531339112581271\n",
      "Epoch: 31, Loss: 57.381778717041016, Accuracy: 0.9531909433101403\n",
      "Epoch: 32, Loss: 57.218074798583984, Accuracy: 0.9533905554921867\n",
      "Epoch: 33, Loss: 57.174232482910156, Accuracy: 0.9532764913881602\n",
      "Epoch: 34, Loss: 57.01573944091797, Accuracy: 0.9536044256872362\n",
      "Epoch: 35, Loss: 56.95754623413086, Accuracy: 0.9532764913881602\n",
      "Epoch: 36, Loss: 56.87203598022461, Accuracy: 0.954103456142352\n",
      "Epoch: 37, Loss: 56.777244567871094, Accuracy: 0.9537969088627809\n",
      "Epoch: 38, Loss: 56.65924835205078, Accuracy: 0.953340652446675\n",
      "Epoch: 39, Loss: 56.490074157714844, Accuracy: 0.9538396829017908\n",
      "Epoch: 40, Loss: 56.17201232910156, Accuracy: 0.9541747462073685\n",
      "Epoch: 41, Loss: 56.16164016723633, Accuracy: 0.9539466179993156\n",
      "Epoch: 42, Loss: 55.78996276855469, Accuracy: 0.9542816813048933\n",
      "Epoch: 43, Loss: 55.676151275634766, Accuracy: 0.9544812934869397\n",
      "Epoch: 44, Loss: 55.454288482666016, Accuracy: 0.9547308087144976\n",
      "Epoch: 45, Loss: 55.1164665222168, Accuracy: 0.9550373559940687\n",
      "Epoch: 46, Loss: 54.79981231689453, Accuracy: 0.955978384852287\n",
      "Epoch: 47, Loss: 54.4141845703125, Accuracy: 0.9561067069693168\n",
      "Epoch: 48, Loss: 53.93056106567383, Accuracy: 0.9566199954374358\n",
      "Epoch: 49, Loss: 53.28471374511719, Accuracy: 0.957646572373674\n",
      "Epoch: 50, Loss: 52.855106353759766, Accuracy: 0.9581028287897798\n",
      "\n",
      "Training student...\n",
      "Epoch: 1, Loss: 71.71382904052734, Accuracy: 0.9334721113265655\n",
      "Epoch: 2, Loss: 65.36685943603516, Accuracy: 0.9476445762518535\n",
      "Epoch: 3, Loss: 64.4763412475586, Accuracy: 0.949818923234858\n",
      "Epoch: 4, Loss: 64.20172882080078, Accuracy: 0.9506245009695449\n",
      "Epoch: 5, Loss: 63.77185821533203, Accuracy: 0.953198072316642\n",
      "Epoch: 6, Loss: 63.22127914428711, Accuracy: 0.9564061252423862\n",
      "Epoch: 7, Loss: 62.75074768066406, Accuracy: 0.9588299874529486\n",
      "Epoch: 8, Loss: 62.18717575073242, Accuracy: 0.9604554009353257\n",
      "Epoch: 9, Loss: 61.85795211791992, Accuracy: 0.9618740732291547\n",
      "Epoch: 10, Loss: 61.72038650512695, Accuracy: 0.9624515227557887\n",
      "Epoch: 11, Loss: 61.497928619384766, Accuracy: 0.9631858104254591\n",
      "Epoch: 12, Loss: 61.35218811035156, Accuracy: 0.9638915820691228\n",
      "Epoch: 13, Loss: 61.207096099853516, Accuracy: 0.9638773240561196\n",
      "Epoch: 14, Loss: 61.25665283203125, Accuracy: 0.9640056461731493\n",
      "Epoch: 15, Loss: 61.18040084838867, Accuracy: 0.9646615147713015\n",
      "Epoch: 16, Loss: 60.89006042480469, Accuracy: 0.9649894490703775\n",
      "Epoch: 17, Loss: 61.00322723388672, Accuracy: 0.9649324170183643\n",
      "Epoch: 18, Loss: 60.8218994140625, Accuracy: 0.9653815444279685\n",
      "Epoch: 19, Loss: 60.745540618896484, Accuracy: 0.9657878977985628\n",
      "Epoch: 20, Loss: 60.7674446105957, Accuracy: 0.9657166077335463\n",
      "Epoch: 21, Loss: 60.69260025024414, Accuracy: 0.9657807687920611\n",
      "Epoch: 22, Loss: 60.75436782836914, Accuracy: 0.9654029314474735\n",
      "Epoch: 23, Loss: 60.6765251159668, Accuracy: 0.9660944450781339\n",
      "Epoch: 24, Loss: 60.59956741333008, Accuracy: 0.9662156381886621\n",
      "Epoch: 25, Loss: 60.50221252441406, Accuracy: 0.9662227671951636\n",
      "Epoch: 26, Loss: 60.59327697753906, Accuracy: 0.9665079274552298\n",
      "Epoch: 27, Loss: 60.639404296875, Accuracy: 0.9661015740846356\n",
      "Epoch: 28, Loss: 60.31011962890625, Accuracy: 0.9666148625527546\n",
      "Epoch: 29, Loss: 60.44723892211914, Accuracy: 0.9664295083837117\n",
      "Epoch: 30, Loss: 60.326210021972656, Accuracy: 0.9667075396372762\n",
      "Epoch: 31, Loss: 60.48423767089844, Accuracy: 0.9664508954032166\n",
      "Epoch: 32, Loss: 60.203453063964844, Accuracy: 0.9668857647998175\n",
      "Epoch: 33, Loss: 60.229469299316406, Accuracy: 0.967163796053382\n",
      "Epoch: 34, Loss: 60.042877197265625, Accuracy: 0.9676129234629862\n",
      "Epoch: 35, Loss: 59.78857421875, Accuracy: 0.9676200524694879\n",
      "Epoch: 36, Loss: 59.87490463256836, Accuracy: 0.9677840196190259\n",
      "Epoch: 37, Loss: 59.89101791381836, Accuracy: 0.9678909547165507\n",
      "Epoch: 38, Loss: 59.7647819519043, Accuracy: 0.9676556975019961\n",
      "Epoch: 39, Loss: 59.56974792480469, Accuracy: 0.9678125356450326\n",
      "Epoch: 40, Loss: 59.549224853515625, Accuracy: 0.9681547279571119\n",
      "Epoch: 41, Loss: 59.520050048828125, Accuracy: 0.968297308087145\n",
      "Epoch: 42, Loss: 59.69536590576172, Accuracy: 0.9682260180221285\n",
      "Epoch: 43, Loss: 59.874412536621094, Accuracy: 0.9677626325995209\n",
      "Epoch: 44, Loss: 59.652462005615234, Accuracy: 0.9681689859701152\n",
      "Epoch: 45, Loss: 59.67390441894531, Accuracy: 0.9682402760351317\n",
      "Epoch: 46, Loss: 59.861576080322266, Accuracy: 0.9679408577620623\n",
      "Epoch: 47, Loss: 59.51832962036133, Accuracy: 0.9682616630546367\n",
      "Epoch: 48, Loss: 59.38941192626953, Accuracy: 0.9685254362951979\n",
      "Epoch: 49, Loss: 59.65755081176758, Accuracy: 0.9685111782821946\n",
      "Epoch: 50, Loss: 59.60887908935547, Accuracy: 0.9681903729896202\n"
     ]
    },
    {
     "data": {
      "image/png": "[encoded data removed]",
      "text/plain": [
       "<Figure size 432x288 with 1 Axes>"
      ]
     },
     "metadata": {
      "needs_background": "light"
     },
     "output_type": "display_data"
    }
   ],
   "source": [
    "distiller = SelfTraining(student, train_loader, test_loader, student_optimizer,\n",
    "                         device=device)\n",
    "distiller.train_student(epochs=50, save_model=False)                                      "
   ]
  },
  {
   "cell_type": "code",
   "execution_count": 40,
   "metadata": {},
   "outputs": [
    {
     "name": "stdout",
     "output_type": "stream",
     "text": [
      "--------------------------------------------------------------------------------\n",
      "Accuracy: 0.9658387749864553\n"
     ]
    }
   ],
   "source": [
    "distiller.evaluate()        "
   ]
  },
  {
   "cell_type": "markdown",
   "metadata": {},
   "source": [
    "# Probability Shift"
   ]
  },
  {
   "cell_type": "code",
   "execution_count": 43,
   "metadata": {},
   "outputs": [],
   "source": [
    "teacher = Teacher(X_train.shape[1], len(attacks)).to(device)\n",
    "teacher_optimizer = optim.SGD(teacher.parameters(), lr=0.1, momentum=0.9)\n",
    "\n",
    "student = Student(X_train.shape[1], len(attacks)).to(device)\n",
    "student_optimizer = optim.SGD(student.parameters(), lr=0.1, momentum=0.9)"
   ]
  },
  {
   "cell_type": "code",
   "execution_count": 44,
   "metadata": {},
   "outputs": [
    {
     "name": "stdout",
     "output_type": "stream",
     "text": [
      "Training Teacher... \n",
      "Epoch: 1, Loss: 92.5373306274414, Accuracy: 0.9247675943880461\n",
      "Epoch: 2, Loss: 53.68696212768555, Accuracy: 0.9611540435724878\n",
      "Epoch: 3, Loss: 47.26905059814453, Accuracy: 0.9648254819208395\n",
      "Epoch: 4, Loss: 44.206912994384766, Accuracy: 0.9672279571118969\n",
      "Epoch: 5, Loss: 41.06820297241211, Accuracy: 0.9695306262119311\n",
      "Epoch: 6, Loss: 43.183876037597656, Accuracy: 0.9683899851716665\n",
      "Epoch: 7, Loss: 41.041603088378906, Accuracy: 0.9693381430363864\n",
      "Epoch: 8, Loss: 39.94866180419922, Accuracy: 0.9701579787840766\n",
      "Epoch: 9, Loss: 37.15793228149414, Accuracy: 0.9718831983574769\n",
      "Epoch: 10, Loss: 37.70327377319336, Accuracy: 0.9712273297593247\n",
      "Epoch: 11, Loss: 36.34093475341797, Accuracy: 0.9727957111896886\n",
      "Epoch: 12, Loss: 35.91291809082031, Accuracy: 0.9724820349036158\n",
      "Epoch: 13, Loss: 34.97215270996094, Accuracy: 0.972952549332725\n",
      "Epoch: 14, Loss: 34.67847442626953, Accuracy: 0.9734301927683358\n",
      "Epoch: 15, Loss: 34.15677261352539, Accuracy: 0.973508611839854\n",
      "Epoch: 16, Loss: 34.7567024230957, Accuracy: 0.9734088057488308\n",
      "Epoch: 17, Loss: 33.17253875732422, Accuracy: 0.9744068666590624\n",
      "Epoch: 18, Loss: 33.064170837402344, Accuracy: 0.9743498346070492\n",
      "Epoch: 19, Loss: 32.435909271240234, Accuracy: 0.9751411543287327\n",
      "Epoch: 20, Loss: 33.28961944580078, Accuracy: 0.9742143834835177\n",
      "Epoch: 21, Loss: 32.47146224975586, Accuracy: 0.9748916391011748\n",
      "Epoch: 22, Loss: 32.25833511352539, Accuracy: 0.9750912512832212\n",
      "Epoch: 23, Loss: 31.713613510131836, Accuracy: 0.975568894718832\n",
      "Epoch: 24, Loss: 31.64777183532715, Accuracy: 0.9754120565757955\n",
      "Epoch: 25, Loss: 30.953134536743164, Accuracy: 0.9760821831869511\n",
      "Epoch: 26, Loss: 30.816326141357422, Accuracy: 0.9762461503364891\n",
      "Epoch: 27, Loss: 31.420820236206055, Accuracy: 0.9756401847838485\n",
      "Epoch: 28, Loss: 30.164775848388672, Accuracy: 0.9769020189346412\n",
      "Epoch: 29, Loss: 30.942970275878906, Accuracy: 0.9761819892779742\n",
      "Epoch: 30, Loss: 30.19936180114746, Accuracy: 0.9765170525835519\n",
      "Epoch: 31, Loss: 30.626436233520508, Accuracy: 0.9767095357590966\n",
      "Epoch: 32, Loss: 30.24751853942871, Accuracy: 0.9764315045055321\n",
      "Epoch: 33, Loss: 29.240354537963867, Accuracy: 0.9769519219801528\n",
      "Epoch: 34, Loss: 29.921131134033203, Accuracy: 0.9768735029086346\n",
      "Epoch: 35, Loss: 29.90355110168457, Accuracy: 0.9767736968176115\n",
      "Epoch: 36, Loss: 29.276243209838867, Accuracy: 0.9773867913767538\n",
      "Epoch: 37, Loss: 29.657672882080078, Accuracy: 0.976844986882628\n",
      "Epoch: 38, Loss: 29.215831756591797, Accuracy: 0.9774366944222653\n",
      "Epoch: 39, Loss: 29.791805267333984, Accuracy: 0.9767736968176115\n",
      "Epoch: 40, Loss: 29.083648681640625, Accuracy: 0.9772655982662256\n",
      "Epoch: 41, Loss: 29.365209579467773, Accuracy: 0.9773939203832553\n",
      "Epoch: 42, Loss: 28.80743408203125, Accuracy: 0.977607790578305\n",
      "Epoch: 43, Loss: 29.15544319152832, Accuracy: 0.9772513402532224\n",
      "Epoch: 44, Loss: 28.7989501953125, Accuracy: 0.9771943082012091\n",
      "Epoch: 45, Loss: 27.870891571044922, Accuracy: 0.9780070149423976\n",
      "Epoch: 46, Loss: 27.78545379638672, Accuracy: 0.9781495950724307\n",
      "Epoch: 47, Loss: 28.030494689941406, Accuracy: 0.9779357248773811\n",
      "Epoch: 48, Loss: 27.789379119873047, Accuracy: 0.9781709820919356\n",
      "Epoch: 49, Loss: 27.23699378967285, Accuracy: 0.9786913995665564\n",
      "Epoch: 50, Loss: 27.930601119995117, Accuracy: 0.9780996920269192\n",
      "Training Student...\n",
      "Epoch: 1, Loss: -32960.4711227417, Accuracy: 0.9372790007984487\n",
      "Epoch: 2, Loss: -33020.71345901489, Accuracy: 0.9461760009125129\n",
      "Epoch: 3, Loss: -33029.518127441406, Accuracy: 0.9469459336146915\n",
      "Epoch: 4, Loss: -33035.83317565918, Accuracy: 0.9472952549332725\n",
      "Epoch: 5, Loss: -33039.994815826416, Accuracy: 0.9489848294741645\n",
      "Epoch: 6, Loss: -33045.83532333374, Accuracy: 0.9500826964754192\n",
      "Epoch: 7, Loss: -33049.622676849365, Accuracy: 0.9526491388160147\n",
      "Epoch: 8, Loss: -33058.62169265747, Accuracy: 0.9567126725219574\n",
      "Epoch: 9, Loss: -33061.38912963867, Accuracy: 0.9588014714269419\n",
      "Epoch: 10, Loss: -33065.5287361145, Accuracy: 0.9606692711303753\n",
      "Epoch: 11, Loss: -33065.466735839844, Accuracy: 0.9607049161628836\n",
      "Epoch: 12, Loss: -33068.18675994873, Accuracy: 0.9618099121706399\n",
      "Epoch: 13, Loss: -33071.61503601074, Accuracy: 0.9629220371848979\n",
      "Epoch: 14, Loss: -33072.230407714844, Accuracy: 0.963043230295426\n",
      "Epoch: 15, Loss: -33067.961544036865, Accuracy: 0.9621806205087259\n",
      "Epoch: 16, Loss: -33065.34487533569, Accuracy: 0.9605053039808372\n",
      "Epoch: 17, Loss: -33071.40676116943, Accuracy: 0.9625727158663169\n",
      "Epoch: 18, Loss: -33073.31772994995, Accuracy: 0.9634780996920269\n",
      "Epoch: 19, Loss: -33074.02880859375, Accuracy: 0.9637703889585947\n",
      "Epoch: 20, Loss: -33075.045066833496, Accuracy: 0.9644119995437436\n",
      "Epoch: 21, Loss: -33075.67304992676, Accuracy: 0.9647613208623246\n",
      "Epoch: 22, Loss: -33073.218994140625, Accuracy: 0.9640698072316642\n",
      "Epoch: 23, Loss: -33073.06043624878, Accuracy: 0.9640555492186609\n",
      "Epoch: 24, Loss: -33073.376651763916, Accuracy: 0.9645545796737767\n",
      "Epoch: 25, Loss: -33072.21299743652, Accuracy: 0.9647613208623246\n",
      "Epoch: 26, Loss: -33077.80923080444, Accuracy: 0.9657878977985628\n",
      "Epoch: 27, Loss: -33056.83889389038, Accuracy: 0.9598351773696817\n",
      "Epoch: 28, Loss: -33066.94215011597, Accuracy: 0.9619453632941714\n",
      "Epoch: 29, Loss: -33076.32284164429, Accuracy: 0.965103513174404\n",
      "Epoch: 30, Loss: -33078.600006103516, Accuracy: 0.9654314474734801\n",
      "Epoch: 31, Loss: -33076.35322189331, Accuracy: 0.9657237367400479\n",
      "Epoch: 32, Loss: -33080.602867126465, Accuracy: 0.9664081213642067\n",
      "Epoch: 33, Loss: -33076.90299987793, Accuracy: 0.966258412227672\n",
      "Epoch: 34, Loss: -33079.519607543945, Accuracy: 0.9665221854682331\n",
      "Epoch: 35, Loss: -33081.45790863037, Accuracy: 0.9670212159233489\n",
      "Epoch: 36, Loss: -33080.18687057495, Accuracy: 0.9660801870651307\n",
      "Epoch: 37, Loss: -33079.83967971802, Accuracy: 0.9667217976502794\n",
      "Epoch: 38, Loss: -33079.756690979004, Accuracy: 0.9666148625527546\n",
      "Epoch: 39, Loss: -33079.380058288574, Accuracy: 0.9661871221626555\n",
      "Epoch: 40, Loss: -33081.12632369995, Accuracy: 0.9663867343447017\n",
      "Epoch: 41, Loss: -33083.10116958618, Accuracy: 0.9666932816242728\n",
      "Epoch: 42, Loss: -33081.502895355225, Accuracy: 0.9659875099806091\n",
      "Epoch: 43, Loss: -33081.386138916016, Accuracy: 0.9664081213642067\n",
      "Epoch: 44, Loss: -33084.59627914429, Accuracy: 0.9673562792289266\n",
      "Epoch: 45, Loss: -33083.60191345215, Accuracy: 0.9669570548648341\n",
      "Epoch: 46, Loss: -33086.19072723389, Accuracy: 0.9679123417360557\n",
      "Epoch: 47, Loss: -33085.558086395264, Accuracy: 0.9675701494239762\n",
      "Epoch: 48, Loss: -33084.5905456543, Accuracy: 0.9671138930078704\n",
      "Epoch: 49, Loss: -33084.766204833984, Accuracy: 0.9673135051899168\n",
      "Epoch: 50, Loss: -33085.50267791748, Accuracy: 0.9671352800273754\n",
      "--------------------------------------------------------------------------------\n",
      "Accuracy: 0.9780718013059968\n",
      "--------------------------------------------------------------------------------\n",
      "Accuracy: 0.9676352333970173\n"
     ]
    },
    {
     "data": {
      "text/plain": [
       "0.9676352333970173"
      ]
     },
     "execution_count": 44,
     "metadata": {},
     "output_type": "execute_result"
    },
    {
     "data": {
      "image/png": "[encoded data removed]",
      "text/plain": [
       "<Figure size 432x288 with 1 Axes>"
      ]
     },
     "metadata": {
      "needs_background": "light"
     },
     "output_type": "display_data"
    }
   ],
   "source": [
    "distiller = ProbShift(teacher, student, train_loader, test_loader, teacher_optimizer,\n",
    "                      student_optimizer, device=device, temp=10)\n",
    "distiller.train_teacher(epochs=50)                                       # Train the teacher model\n",
    "distiller.train_student(epochs=50)                                      # Train the student model\n",
    "distiller.evaluate(teacher=True)                                        # Evaluate the teacher model\n",
    "distiller.evaluate()   "
   ]
  },
  {
   "cell_type": "markdown",
   "metadata": {},
   "source": [
    "# Label Smoothening Regularization"
   ]
  },
  {
   "cell_type": "code",
   "execution_count": 45,
   "metadata": {},
   "outputs": [],
   "source": [
    "teacher = Teacher(X_train.shape[1], len(attacks)).to(device)\n",
    "teacher_optimizer = optim.SGD(teacher.parameters(), lr=0.1, momentum=0.9)\n",
    "\n",
    "student = Student(X_train.shape[1], len(attacks)).to(device)\n",
    "student_optimizer = optim.SGD(student.parameters(), lr=0.1, momentum=0.9)"
   ]
  },
  {
   "cell_type": "code",
   "execution_count": 47,
   "metadata": {},
   "outputs": [
    {
     "name": "stdout",
     "output_type": "stream",
     "text": [
      "Training Teacher... \n",
      "Epoch: 1, Loss: 27.121713638305664, Accuracy: 0.9783064332154671\n",
      "Epoch: 2, Loss: 26.443073272705078, Accuracy: 0.9794969773012433\n",
      "Epoch: 3, Loss: 27.06427764892578, Accuracy: 0.9790763659176457\n",
      "Epoch: 4, Loss: 26.617191314697266, Accuracy: 0.9793543971712102\n",
      "Epoch: 5, Loss: 26.346574783325195, Accuracy: 0.9793330101517053\n",
      "Epoch: 6, Loss: 26.557382583618164, Accuracy: 0.979090623930649\n",
      "Epoch: 7, Loss: 26.37173080444336, Accuracy: 0.9794043002167218\n",
      "Epoch: 8, Loss: 26.275211334228516, Accuracy: 0.9791975590281738\n",
      "Epoch: 9, Loss: 26.0563907623291, Accuracy: 0.9795112353142466\n",
      "Epoch: 10, Loss: 26.248666763305664, Accuracy: 0.9794114292232234\n",
      "Epoch: 11, Loss: 26.434356689453125, Accuracy: 0.9788767537355995\n",
      "Epoch: 12, Loss: 26.54441261291504, Accuracy: 0.979461332268735\n",
      "Epoch: 13, Loss: 26.04918098449707, Accuracy: 0.9798605566328277\n",
      "Epoch: 14, Loss: 25.50438117980957, Accuracy: 0.9800102657693623\n",
      "Epoch: 15, Loss: 26.099075317382812, Accuracy: 0.9796181704117715\n",
      "Epoch: 16, Loss: 25.718809127807617, Accuracy: 0.9800031367628608\n",
      "Epoch: 17, Loss: 25.636783599853516, Accuracy: 0.9801029428538839\n",
      "Epoch: 18, Loss: 25.741771697998047, Accuracy: 0.9796823314702863\n",
      "Epoch: 19, Loss: 25.398643493652344, Accuracy: 0.980081555834379\n",
      "Epoch: 20, Loss: 25.743892669677734, Accuracy: 0.9799532337173491\n",
      "Epoch: 21, Loss: 25.643430709838867, Accuracy: 0.9798890726588343\n",
      "Epoch: 22, Loss: 24.852231979370117, Accuracy: 0.9804665221854683\n",
      "Epoch: 23, Loss: 25.441457748413086, Accuracy: 0.9802811680164253\n",
      "Epoch: 24, Loss: 24.923282623291016, Accuracy: 0.9806732633740162\n",
      "Epoch: 25, Loss: 25.001279830932617, Accuracy: 0.9801385878863922\n",
      "Epoch: 26, Loss: 25.143890380859375, Accuracy: 0.9801029428538839\n",
      "Epoch: 27, Loss: 24.891258239746094, Accuracy: 0.980202748944907\n",
      "Epoch: 28, Loss: 24.798097610473633, Accuracy: 0.9806732633740162\n",
      "Epoch: 29, Loss: 25.86695098876953, Accuracy: 0.9797108474962929\n",
      "Epoch: 30, Loss: 24.73759651184082, Accuracy: 0.9805092962244781\n",
      "Epoch: 31, Loss: 24.442739486694336, Accuracy: 0.9809798106535873\n",
      "Epoch: 32, Loss: 24.982078552246094, Accuracy: 0.980366716094445\n",
      "Epoch: 33, Loss: 24.787384033203125, Accuracy: 0.9810582297251055\n",
      "Epoch: 34, Loss: 24.634624481201172, Accuracy: 0.980965552640584\n",
      "Epoch: 35, Loss: 24.3857479095459, Accuracy: 0.9807231664195277\n",
      "Epoch: 36, Loss: 24.254369735717773, Accuracy: 0.9812507129006501\n",
      "Epoch: 37, Loss: 24.628202438354492, Accuracy: 0.980801585491046\n",
      "Epoch: 38, Loss: 25.33092498779297, Accuracy: 0.9803595870879435\n",
      "Epoch: 39, Loss: 25.164180755615234, Accuracy: 0.9800459108018706\n",
      "Epoch: 40, Loss: 24.715633392333984, Accuracy: 0.9808158435040493\n",
      "Epoch: 41, Loss: 24.33777618408203, Accuracy: 0.9809299076080757\n",
      "Epoch: 42, Loss: 24.29252052307129, Accuracy: 0.9809726816470856\n",
      "Epoch: 43, Loss: 24.483732223510742, Accuracy: 0.9805306832439831\n",
      "Epoch: 44, Loss: 24.350738525390625, Accuracy: 0.9812150678681419\n",
      "Epoch: 45, Loss: 24.047239303588867, Accuracy: 0.9812221968746435\n",
      "Epoch: 46, Loss: 24.556442260742188, Accuracy: 0.9807374244325311\n",
      "Epoch: 47, Loss: 24.436840057373047, Accuracy: 0.9808158435040493\n",
      "Epoch: 48, Loss: 24.383390426635742, Accuracy: 0.9811223907836204\n",
      "Epoch: 49, Loss: 23.807315826416016, Accuracy: 0.9813861640241816\n",
      "Epoch: 50, Loss: 24.000905990600586, Accuracy: 0.9813220029656667\n",
      "Training Student...\n",
      "Epoch: 1, Loss: -227022.2530517578, Accuracy: 0.91793087715296\n",
      "Epoch: 2, Loss: -227188.07830810547, Accuracy: 0.9247319493555378\n",
      "Epoch: 3, Loss: -227076.17486572266, Accuracy: 0.9199982890384396\n",
      "Epoch: 4, Loss: -227175.83126831055, Accuracy: 0.919228356336261\n",
      "Epoch: 5, Loss: -227200.2250366211, Accuracy: 0.9209892209421695\n",
      "Epoch: 6, Loss: -227210.22396850586, Accuracy: 0.921659347553325\n",
      "Epoch: 7, Loss: -227207.21347045898, Accuracy: 0.9216237025208167\n",
      "Epoch: 8, Loss: -227224.42578125, Accuracy: 0.9224150222425003\n",
      "Epoch: 9, Loss: -227213.39428710938, Accuracy: 0.9209749629291661\n",
      "Epoch: 10, Loss: -227225.80264282227, Accuracy: 0.9230352458081442\n",
      "Epoch: 11, Loss: -227228.96865844727, Accuracy: 0.9241402418159005\n"
     ]
    },
    {
     "ename": "KeyboardInterrupt",
     "evalue": "",
     "output_type": "error",
     "traceback": [
      "\u001b[0;31m---------------------------------------------------------------------------\u001b[0m",
      "\u001b[0;31mKeyboardInterrupt\u001b[0m                         Traceback (most recent call last)",
      "\u001b[0;32m<ipython-input-47-397cb552572a>\u001b[0m in \u001b[0;36m<module>\u001b[0;34m\u001b[0m\n\u001b[1;32m      2\u001b[0m                            student_optimizer, correct_prob=0.9, device=device)\n\u001b[1;32m      3\u001b[0m \u001b[0mdistiller\u001b[0m\u001b[0;34m.\u001b[0m\u001b[0mtrain_teacher\u001b[0m\u001b[0;34m(\u001b[0m\u001b[0mepochs\u001b[0m\u001b[0;34m=\u001b[0m\u001b[0;36m50\u001b[0m\u001b[0;34m,\u001b[0m \u001b[0msave_model\u001b[0m\u001b[0;34m=\u001b[0m\u001b[0;32mFalse\u001b[0m\u001b[0;34m)\u001b[0m                                       \u001b[0;31m# Train the teacher model\u001b[0m\u001b[0;34m\u001b[0m\u001b[0;34m\u001b[0m\u001b[0m\n\u001b[0;32m----> 4\u001b[0;31m \u001b[0mdistiller\u001b[0m\u001b[0;34m.\u001b[0m\u001b[0mtrain_student\u001b[0m\u001b[0;34m(\u001b[0m\u001b[0mepochs\u001b[0m\u001b[0;34m=\u001b[0m\u001b[0;36m50\u001b[0m\u001b[0;34m,\u001b[0m \u001b[0msave_model\u001b[0m\u001b[0;34m=\u001b[0m\u001b[0;32mFalse\u001b[0m\u001b[0;34m)\u001b[0m                                      \u001b[0;31m# Train the student model\u001b[0m\u001b[0;34m\u001b[0m\u001b[0;34m\u001b[0m\u001b[0m\n\u001b[0m\u001b[1;32m      5\u001b[0m \u001b[0mdistiller\u001b[0m\u001b[0;34m.\u001b[0m\u001b[0mevaluate\u001b[0m\u001b[0;34m(\u001b[0m\u001b[0mteacher\u001b[0m\u001b[0;34m=\u001b[0m\u001b[0;32mTrue\u001b[0m\u001b[0;34m)\u001b[0m                                        \u001b[0;31m# Evaluate the teacher model\u001b[0m\u001b[0;34m\u001b[0m\u001b[0;34m\u001b[0m\u001b[0m\n\u001b[1;32m      6\u001b[0m \u001b[0mdistiller\u001b[0m\u001b[0;34m.\u001b[0m\u001b[0mevaluate\u001b[0m\u001b[0;34m(\u001b[0m\u001b[0;34m)\u001b[0m                                                    \u001b[0;31m# Evaluate the student model\u001b[0m\u001b[0;34m\u001b[0m\u001b[0;34m\u001b[0m\u001b[0m\n",
      "\u001b[0;32m~/miniconda3/envs/ap/lib/python3.6/site-packages/KD_Lib-0.0.3-py3.6.egg/KD_Lib/KD/common/base_class.py\u001b[0m in \u001b[0;36mtrain_student\u001b[0;34m(self, epochs, plot_losses, save_model, save_model_pth)\u001b[0m\n\u001b[1;32m    236\u001b[0m         \u001b[0;34m:\u001b[0m\u001b[0mparam\u001b[0m \u001b[0msave_model_pth\u001b[0m \u001b[0;34m(\u001b[0m\u001b[0mstr\u001b[0m\u001b[0;34m)\u001b[0m\u001b[0;34m:\u001b[0m \u001b[0mPath\u001b[0m \u001b[0mwhere\u001b[0m \u001b[0myou\u001b[0m \u001b[0mwant\u001b[0m \u001b[0mto\u001b[0m \u001b[0msave\u001b[0m \u001b[0mthe\u001b[0m \u001b[0mstudent\u001b[0m \u001b[0mmodel\u001b[0m\u001b[0;34m\u001b[0m\u001b[0;34m\u001b[0m\u001b[0m\n\u001b[1;32m    237\u001b[0m         \"\"\"\n\u001b[0;32m--> 238\u001b[0;31m         \u001b[0mself\u001b[0m\u001b[0;34m.\u001b[0m\u001b[0m_train_student\u001b[0m\u001b[0;34m(\u001b[0m\u001b[0mepochs\u001b[0m\u001b[0;34m,\u001b[0m \u001b[0mplot_losses\u001b[0m\u001b[0;34m,\u001b[0m \u001b[0msave_model\u001b[0m\u001b[0;34m,\u001b[0m \u001b[0msave_model_pth\u001b[0m\u001b[0;34m)\u001b[0m\u001b[0;34m\u001b[0m\u001b[0;34m\u001b[0m\u001b[0m\n\u001b[0m\u001b[1;32m    239\u001b[0m \u001b[0;34m\u001b[0m\u001b[0m\n\u001b[1;32m    240\u001b[0m     \u001b[0;32mdef\u001b[0m \u001b[0mcalculate_kd_loss\u001b[0m\u001b[0;34m(\u001b[0m\u001b[0mself\u001b[0m\u001b[0;34m,\u001b[0m \u001b[0my_pred_student\u001b[0m\u001b[0;34m,\u001b[0m \u001b[0my_pred_teacher\u001b[0m\u001b[0;34m,\u001b[0m \u001b[0my_true\u001b[0m\u001b[0;34m)\u001b[0m\u001b[0;34m:\u001b[0m\u001b[0;34m\u001b[0m\u001b[0;34m\u001b[0m\u001b[0m\n",
      "\u001b[0;32m~/miniconda3/envs/ap/lib/python3.6/site-packages/KD_Lib-0.0.3-py3.6.egg/KD_Lib/KD/common/base_class.py\u001b[0m in \u001b[0;36m_train_student\u001b[0;34m(self, epochs, plot_losses, save_model, save_model_pth)\u001b[0m\n\u001b[1;32m    187\u001b[0m                 \u001b[0mteacher_out\u001b[0m \u001b[0;34m=\u001b[0m \u001b[0mself\u001b[0m\u001b[0;34m.\u001b[0m\u001b[0mteacher_model\u001b[0m\u001b[0;34m(\u001b[0m\u001b[0mdata\u001b[0m\u001b[0;34m)\u001b[0m\u001b[0;34m\u001b[0m\u001b[0;34m\u001b[0m\u001b[0m\n\u001b[1;32m    188\u001b[0m \u001b[0;34m\u001b[0m\u001b[0m\n\u001b[0;32m--> 189\u001b[0;31m                 \u001b[0mloss\u001b[0m \u001b[0;34m=\u001b[0m \u001b[0mself\u001b[0m\u001b[0;34m.\u001b[0m\u001b[0mcalculate_kd_loss\u001b[0m\u001b[0;34m(\u001b[0m\u001b[0mstudent_out\u001b[0m\u001b[0;34m,\u001b[0m \u001b[0mteacher_out\u001b[0m\u001b[0;34m,\u001b[0m \u001b[0mlabel\u001b[0m\u001b[0;34m)\u001b[0m\u001b[0;34m\u001b[0m\u001b[0;34m\u001b[0m\u001b[0m\n\u001b[0m\u001b[1;32m    190\u001b[0m \u001b[0;34m\u001b[0m\u001b[0m\n\u001b[1;32m    191\u001b[0m                 \u001b[0;32mif\u001b[0m \u001b[0misinstance\u001b[0m\u001b[0;34m(\u001b[0m\u001b[0mstudent_out\u001b[0m\u001b[0;34m,\u001b[0m \u001b[0mtuple\u001b[0m\u001b[0;34m)\u001b[0m\u001b[0;34m:\u001b[0m\u001b[0;34m\u001b[0m\u001b[0;34m\u001b[0m\u001b[0m\n",
      "\u001b[0;32m~/miniconda3/envs/ap/lib/python3.6/site-packages/KD_Lib-0.0.3-py3.6.egg/KD_Lib/KD/vision/KA/LSR.py\u001b[0m in \u001b[0;36mcalculate_kd_loss\u001b[0;34m(self, y_pred_student, y_pred_teacher, y_true)\u001b[0m\n\u001b[1;32m     80\u001b[0m \u001b[0;34m\u001b[0m\u001b[0m\n\u001b[1;32m     81\u001b[0m                 \u001b[0;32mif\u001b[0m \u001b[0mt_label\u001b[0m \u001b[0;34m==\u001b[0m \u001b[0my_true\u001b[0m\u001b[0;34m[\u001b[0m\u001b[0mi\u001b[0m\u001b[0;34m]\u001b[0m\u001b[0;34m:\u001b[0m\u001b[0;34m\u001b[0m\u001b[0;34m\u001b[0m\u001b[0m\n\u001b[0;32m---> 82\u001b[0;31m                     \u001b[0mactivated_label\u001b[0m\u001b[0;34m[\u001b[0m\u001b[0mi\u001b[0m\u001b[0;34m]\u001b[0m \u001b[0;34m=\u001b[0m \u001b[0msoft_pred_teacher\u001b[0m\u001b[0;34m[\u001b[0m\u001b[0mi\u001b[0m\u001b[0;34m]\u001b[0m\u001b[0;34m\u001b[0m\u001b[0;34m\u001b[0m\u001b[0m\n\u001b[0m\u001b[1;32m     83\u001b[0m                 \u001b[0;32melse\u001b[0m\u001b[0;34m:\u001b[0m\u001b[0;34m\u001b[0m\u001b[0;34m\u001b[0m\u001b[0m\n\u001b[1;32m     84\u001b[0m                     \u001b[0mactivated_label\u001b[0m\u001b[0;34m[\u001b[0m\u001b[0mi\u001b[0m\u001b[0;34m]\u001b[0m \u001b[0;34m=\u001b[0m \u001b[0;34m(\u001b[0m\u001b[0;36m1\u001b[0m \u001b[0;34m-\u001b[0m \u001b[0mself\u001b[0m\u001b[0;34m.\u001b[0m\u001b[0mcorrect_prob\u001b[0m\u001b[0;34m)\u001b[0m \u001b[0;34m/\u001b[0m \u001b[0;34m(\u001b[0m\u001b[0mnum_classes\u001b[0m \u001b[0;34m-\u001b[0m \u001b[0;36m1\u001b[0m\u001b[0;34m)\u001b[0m\u001b[0;34m\u001b[0m\u001b[0;34m\u001b[0m\u001b[0m\n",
      "\u001b[0;31mKeyboardInterrupt\u001b[0m: "
     ]
    },
    {
     "data": {
      "image/png": "[encoded data removed]",
      "text/plain": [
       "<Figure size 432x288 with 1 Axes>"
      ]
     },
     "metadata": {
      "needs_background": "light"
     },
     "output_type": "display_data"
    }
   ],
   "source": [
    "distiller = LabelSmoothReg(teacher, student, train_loader, test_loader, teacher_optimizer,\n",
    "                           student_optimizer, correct_prob=0.9, device=device)\n",
    "distiller.train_teacher(epochs=50, save_model=False)                                       # Train the teacher model\n",
    "distiller.train_student(epochs=50, save_model=False)                                      # Train the student model\n",
    "distiller.evaluate(teacher=True)                                        # Evaluate the teacher model\n",
    "distiller.evaluate()                                                    # Evaluate the student model"
   ]
  },
  {
   "cell_type": "markdown",
   "metadata": {},
   "source": [
    "# Deep Mutual Learning"
   ]
  },
  {
   "cell_type": "code",
   "execution_count": 48,
   "metadata": {},
   "outputs": [],
   "source": [
    "student_model_1 = Student(X_train.shape[1], len(attacks)).to(device)\n",
    "student_model_2 = Student(X_train.shape[1], len(attacks)).to(device)\n",
    "student_model_3 = Student(X_train.shape[1], len(attacks)).to(device)\n",
    "\n",
    "student_cohort = (student_model_1, student_model_2, student_model_3)\n",
    "\n",
    "student_optimizer_1 = optim.SGD(student_model_1.parameters(), lr=0.1, momentum=0.9)\n",
    "student_optimizer_2 = optim.SGD(student_model_2.parameters(), lr=0.1, momentum=0.9)\n",
    "student_optimizer_3 = optim.SGD(student_model_3.parameters(), lr=0.1, momentum=0.9)\n",
    "\n",
    "optimizers = [student_optimizer_1, student_optimizer_2, student_optimizer_3]"
   ]
  },
  {
   "cell_type": "code",
   "execution_count": 53,
   "metadata": {},
   "outputs": [
    {
     "name": "stdout",
     "output_type": "stream",
     "text": [
      "\n",
      "Training students...\n",
      "Epoch: 1, Loss: nan, Accuracy: 0.3196004904756473\n",
      "Epoch: 2, Loss: nan, Accuracy: 0.3196004904756473\n",
      "Epoch: 3, Loss: nan, Accuracy: 0.3196004904756473\n",
      "Epoch: 4, Loss: nan, Accuracy: 0.3196004904756473\n",
      "Epoch: 5, Loss: nan, Accuracy: 0.3196004904756473\n",
      "--------------------------------------------------------------------------------\n",
      "Evaluating student 0\n",
      "Accuracy: 0.3184864125010693\n",
      "--------------------------------------------------------------------------------\n",
      "Evaluating student 1\n",
      "Accuracy: 0.3184864125010693\n",
      "--------------------------------------------------------------------------------\n",
      "Evaluating student 2\n",
      "Accuracy: 0.3184864125010693\n"
     ]
    },
    {
     "data": {
      "image/png": "[encoded data removed]",
      "text/plain": [
       "<Figure size 432x288 with 1 Axes>"
      ]
     },
     "metadata": {
      "needs_background": "light"
     },
     "output_type": "display_data"
    }
   ],
   "source": [
    "distiller = DML(student_cohort, train_loader, test_loader, optimizers, loss_fn=nn.KLDivLoss(),\n",
    "                device=device)\n",
    "distiller.train_students(epochs=5, plot_losses=True, save_model=False)   # Train the student cohort\n",
    "distiller.evaluate()        "
   ]
  },
  {
   "cell_type": "markdown",
   "metadata": {},
   "source": [
    "# Route Contrained Optimization"
   ]
  },
  {
   "cell_type": "code",
   "execution_count": 57,
   "metadata": {},
   "outputs": [],
   "source": [
    "teacher = Teacher(X_train.shape[1], len(attacks)).to(device)\n",
    "teacher_optimizer = optim.SGD(teacher.parameters(), lr=0.1, momentum=0.9)\n",
    "\n",
    "student = Student(X_train.shape[1], len(attacks)).to(device)\n",
    "student_optimizer = optim.SGD(student.parameters(), lr=0.1, momentum=0.9)"
   ]
  },
  {
   "cell_type": "code",
   "execution_count": 59,
   "metadata": {},
   "outputs": [
    {
     "name": "stdout",
     "output_type": "stream",
     "text": [
      "Training Teacher... \n",
      "Epoch: 1, Loss: 88.9375228881836, Accuracy: 0.9287028059769591\n",
      "Epoch: 2, Loss: 53.89122772216797, Accuracy: 0.9598779514086917\n",
      "Epoch: 3, Loss: 45.66537857055664, Accuracy: 0.9664152503707083\n",
      "Epoch: 4, Loss: 41.998775482177734, Accuracy: 0.9688676286072773\n",
      "Epoch: 5, Loss: 41.14540481567383, Accuracy: 0.9691314018478385\n",
      "Epoch: 6, Loss: 38.7966194152832, Accuracy: 0.9704859130831527\n",
      "Epoch: 7, Loss: 37.3367805480957, Accuracy: 0.9711988137333182\n",
      "Epoch: 8, Loss: 36.20211410522461, Accuracy: 0.9719758754419984\n",
      "Epoch: 9, Loss: 35.05209732055664, Accuracy: 0.973529998859359\n",
      "Epoch: 10, Loss: 34.40851593017578, Accuracy: 0.9737866430934184\n",
      "Epoch: 11, Loss: 34.59918212890625, Accuracy: 0.9734943538268507\n",
      "Epoch: 12, Loss: 33.42354202270508, Accuracy: 0.9742428995095244\n",
      "Epoch: 13, Loss: 32.930877685546875, Accuracy: 0.9743070605680393\n",
      "Epoch: 14, Loss: 32.90211486816406, Accuracy: 0.9750057032052013\n",
      "Epoch: 15, Loss: 31.86606788635254, Accuracy: 0.9753407665107791\n",
      "Epoch: 16, Loss: 32.61705780029297, Accuracy: 0.9748845100946733\n",
      "Epoch: 17, Loss: 31.56576156616211, Accuracy: 0.9756972168358617\n",
      "Epoch: 18, Loss: 31.455690383911133, Accuracy: 0.9756758298163568\n",
      "Epoch: 19, Loss: 31.059062957763672, Accuracy: 0.9762105053039808\n",
      "Epoch: 20, Loss: 31.118616104125977, Accuracy: 0.976124957225961\n",
      "Epoch: 21, Loss: 30.8322811126709, Accuracy: 0.9761392152389643\n",
      "Epoch: 22, Loss: 30.573286056518555, Accuracy: 0.9763459564275122\n",
      "Epoch: 23, Loss: 30.12827491760254, Accuracy: 0.9765241815900536\n",
      "Epoch: 24, Loss: 30.45111656188965, Accuracy: 0.9765598266225619\n",
      "Epoch: 25, Loss: 29.622814178466797, Accuracy: 0.9764528915250371\n",
      "Epoch: 26, Loss: 29.4698429107666, Accuracy: 0.9768735029086346\n",
      "Epoch: 27, Loss: 29.452743530273438, Accuracy: 0.9770873731036843\n",
      "Epoch: 28, Loss: 29.76971435546875, Accuracy: 0.9767166647655983\n",
      "Epoch: 29, Loss: 29.096702575683594, Accuracy: 0.9771871791947074\n",
      "Epoch: 30, Loss: 29.094127655029297, Accuracy: 0.9768521158891297\n",
      "Epoch: 31, Loss: 28.88463020324707, Accuracy: 0.9773297593247405\n",
      "Epoch: 32, Loss: 28.369674682617188, Accuracy: 0.9778573058058629\n",
      "Epoch: 33, Loss: 28.39002227783203, Accuracy: 0.9778002737538497\n",
      "Epoch: 34, Loss: 28.223310470581055, Accuracy: 0.977750370708338\n",
      "Epoch: 35, Loss: 28.46588134765625, Accuracy: 0.9774937264742786\n",
      "Epoch: 36, Loss: 28.053813934326172, Accuracy: 0.9781923691114406\n",
      "Epoch: 37, Loss: 29.37583351135254, Accuracy: 0.9765099235770504\n",
      "Epoch: 38, Loss: 28.541566848754883, Accuracy: 0.9772655982662256\n",
      "Epoch: 39, Loss: 27.744281768798828, Accuracy: 0.9779357248773811\n",
      "Epoch: 40, Loss: 27.662128448486328, Accuracy: 0.9780925630204175\n",
      "Epoch: 41, Loss: 27.364763259887695, Accuracy: 0.9786129804950382\n",
      "Epoch: 42, Loss: 27.94399642944336, Accuracy: 0.9781282080529258\n",
      "Epoch: 43, Loss: 27.69454002380371, Accuracy: 0.9779856279228927\n",
      "Epoch: 44, Loss: 27.476295471191406, Accuracy: 0.9785060453975134\n",
      "Epoch: 45, Loss: 27.05541229248047, Accuracy: 0.9781068210334208\n",
      "Epoch: 46, Loss: 27.556276321411133, Accuracy: 0.9785131744040151\n",
      "Epoch: 47, Loss: 27.154630661010742, Accuracy: 0.9783634652674803\n",
      "Epoch: 48, Loss: 27.98871421813965, Accuracy: 0.9785987224820349\n",
      "Epoch: 49, Loss: 27.443140029907227, Accuracy: 0.9787341736055664\n",
      "Epoch: 50, Loss: 26.822078704833984, Accuracy: 0.9788054636705829\n",
      "\n",
      "Training student...\n",
      "Epoch: 1, Loss: 109.75471496582031, Accuracy: 0.915849207254477\n",
      "Epoch: 2, Loss: 106.6988525390625, Accuracy: 0.9240333067183757\n",
      "Epoch: 3, Loss: 106.6384048461914, Accuracy: 0.9241331128093989\n",
      "Epoch: 4, Loss: 106.61054992675781, Accuracy: 0.9241687578419071\n",
      "Epoch: 5, Loss: 106.58539581298828, Accuracy: 0.9241972738679137\n",
      "Epoch: 6, Loss: 106.57010650634766, Accuracy: 0.9242828219459336\n",
      "Epoch: 7, Loss: 106.5514144897461, Accuracy: 0.9243398539979468\n",
      "Epoch: 8, Loss: 106.51660919189453, Accuracy: 0.9243255959849436\n",
      "Epoch: 9, Loss: 105.55622100830078, Accuracy: 0.9243113379719402\n",
      "Epoch: 10, Loss: 104.02313232421875, Accuracy: 0.931155184213528\n",
      "Epoch: 11, Loss: 102.80278778076172, Accuracy: 0.9372433557659404\n",
      "Epoch: 12, Loss: 102.02391815185547, Accuracy: 0.9413425345043914\n",
      "Epoch: 13, Loss: 101.17840576171875, Accuracy: 0.9443367172350862\n",
      "Epoch: 14, Loss: 100.64266967773438, Accuracy: 0.9468033534846584\n",
      "Epoch: 15, Loss: 99.0402603149414, Accuracy: 0.9536971027717577\n",
      "Epoch: 16, Loss: 97.01692199707031, Accuracy: 0.9627295540093532\n",
      "Epoch: 17, Loss: 96.40222930908203, Accuracy: 0.9647684498688263\n",
      "Epoch: 18, Loss: 96.08402252197266, Accuracy: 0.9654385764799818\n",
      "Epoch: 19, Loss: 95.82488250732422, Accuracy: 0.9661300901106422\n",
      "Epoch: 20, Loss: 95.65489959716797, Accuracy: 0.9663225732861869\n",
      "Epoch: 21, Loss: 95.51744079589844, Accuracy: 0.9668287327478042\n",
      "Epoch: 22, Loss: 95.45364379882812, Accuracy: 0.9667075396372762\n",
      "Epoch: 23, Loss: 95.36541748046875, Accuracy: 0.9669427968518307\n",
      "Epoch: 24, Loss: 95.28993225097656, Accuracy: 0.9672422151249002\n",
      "Epoch: 25, Loss: 95.22537231445312, Accuracy: 0.9671566670468803\n",
      "Epoch: 26, Loss: 95.21517944335938, Accuracy: 0.9672136990988935\n",
      "Epoch: 27, Loss: 95.16592407226562, Accuracy: 0.9672778601574085\n",
      "Epoch: 28, Loss: 95.13458251953125, Accuracy: 0.967349150222425\n",
      "Epoch: 29, Loss: 95.07414245605469, Accuracy: 0.9674275692939432\n",
      "Epoch: 30, Loss: 95.03272247314453, Accuracy: 0.967677084521501\n",
      "Epoch: 31, Loss: 95.00019073486328, Accuracy: 0.9677056005475076\n",
      "Epoch: 32, Loss: 94.9936294555664, Accuracy: 0.9676271814759895\n",
      "Epoch: 33, Loss: 94.94367218017578, Accuracy: 0.967947986768564\n",
      "Epoch: 34, Loss: 94.95973205566406, Accuracy: 0.9677555035930193\n",
      "Epoch: 35, Loss: 94.94014739990234, Accuracy: 0.9678553096840424\n",
      "Epoch: 36, Loss: 94.91470336914062, Accuracy: 0.9679123417360557\n",
      "Epoch: 37, Loss: 94.91792297363281, Accuracy: 0.9676984715410061\n",
      "Epoch: 38, Loss: 94.8828353881836, Accuracy: 0.9678980837230523\n",
      "Epoch: 39, Loss: 94.90547943115234, Accuracy: 0.9677911486255275\n",
      "Epoch: 40, Loss: 94.83930969238281, Accuracy: 0.9680335348465838\n",
      "Epoch: 41, Loss: 94.83749389648438, Accuracy: 0.9680121478270788\n",
      "Epoch: 42, Loss: 94.8218002319336, Accuracy: 0.9679693737880689\n",
      "Epoch: 43, Loss: 94.81222534179688, Accuracy: 0.9681475989506102\n",
      "Epoch: 44, Loss: 94.79151153564453, Accuracy: 0.9680976959050986\n",
      "Epoch: 45, Loss: 94.78236389160156, Accuracy: 0.9681761149766168\n",
      "Epoch: 46, Loss: 94.78607177734375, Accuracy: 0.9680050188205772\n",
      "Epoch: 47, Loss: 94.76250457763672, Accuracy: 0.9680335348465838\n",
      "Epoch: 48, Loss: 94.78357696533203, Accuracy: 0.9679337287555606\n",
      "Epoch: 49, Loss: 94.7522201538086, Accuracy: 0.9681404699441086\n",
      "Epoch: 50, Loss: 94.73728942871094, Accuracy: 0.9682474050416334\n",
      "--------------------------------------------------------------------------------\n",
      "Accuracy: 0.9751917648065243\n",
      "--------------------------------------------------------------------------------\n",
      "Accuracy: 0.967948900738544\n"
     ]
    },
    {
     "data": {
      "text/plain": [
       "0.967948900738544"
      ]
     },
     "execution_count": 59,
     "metadata": {},
     "output_type": "execute_result"
    },
    {
     "data": {
      "image/png": "[encoded data removed]",
      "text/plain": [
       "<Figure size 432x288 with 1 Axes>"
      ]
     },
     "metadata": {
      "needs_background": "light"
     },
     "output_type": "display_data"
    }
   ],
   "source": [
    "distiller = RCO(teacher, student, train_loader, test_loader, teacher_optimizer,\n",
    "                student_optimizer, epoch_interval=5, device=device)\n",
    "distiller.train_teacher(epochs=50, save_model=False)                                      # Train the teacher model\n",
    "distiller.train_student(epochs=50, save_model=False)                                     # Train the student model\n",
    "distiller.evaluate(teacher=True)                                        # Evaluate the teacher model\n",
    "distiller.evaluate()                                                    # Evaluate the student model"
   ]
  },
  {
   "cell_type": "code",
   "execution_count": null,
   "metadata": {},
   "outputs": [],
   "source": []
  }
 ],
 "metadata": {
  "kernelspec": {
   "display_name": "Python 3.6.12 64-bit ('ap': conda)",
   "language": "python",
   "name": "python361264bitapconda81c81f858a604444a75e1cd9aadc977f"
  },
  "language_info": {
   "codemirror_mode": {
    "name": "ipython",
    "version": 3
   },
   "file_extension": ".py",
   "mimetype": "text/x-python",
   "name": "python",
   "nbconvert_exporter": "python",
   "pygments_lexer": "ipython3",
   "version": "3.6.12"
  }
 },
 "nbformat": 4,
 "nbformat_minor": 4
}
