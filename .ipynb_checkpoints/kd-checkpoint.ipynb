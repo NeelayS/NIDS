{
 "cells": [
  {
   "cell_type": "code",
   "execution_count": 1,
   "metadata": {},
   "outputs": [
    {
     "name": "stdout",
     "output_type": "stream",
     "text": [
      "Fri Apr 23 23:30:47 2021       \r\n",
      "+-----------------------------------------------------------------------------+\r\n",
      "| NVIDIA-SMI 460.67       Driver Version: 460.67       CUDA Version: 11.2     |\r\n",
      "|-------------------------------+----------------------+----------------------+\r\n",
      "| GPU  Name        Persistence-M| Bus-Id        Disp.A | Volatile Uncorr. ECC |\r\n",
      "| Fan  Temp  Perf  Pwr:Usage/Cap|         Memory-Usage | GPU-Util  Compute M. |\r\n",
      "|                               |                      |               MIG M. |\r\n",
      "|===============================+======================+======================|\r\n",
      "|   0  GeForce RTX 2060    Off  | 00000000:01:00.0  On |                  N/A |\r\n",
      "| N/A   52C    P8    10W /  N/A |    592MiB /  5934MiB |     15%      Default |\r\n",
      "|                               |                      |                  N/A |\r\n",
      "+-------------------------------+----------------------+----------------------+\r\n",
      "                                                                               \r\n",
      "+-----------------------------------------------------------------------------+\r\n",
      "| Processes:                                                                  |\r\n",
      "|  GPU   GI   CI        PID   Type   Process name                  GPU Memory |\r\n",
      "|        ID   ID                                                   Usage      |\r\n",
      "|=============================================================================|\r\n",
      "|    0   N/A  N/A      1120      G   /usr/lib/xorg/Xorg                 70MiB |\r\n",
      "|    0   N/A  N/A      1958      G   /usr/lib/xorg/Xorg                223MiB |\r\n",
      "|    0   N/A  N/A      2135      G   /usr/bin/gnome-shell               33MiB |\r\n",
      "|    0   N/A  N/A     12087      G   ...AAAAAAAAA= --shared-files      222MiB |\r\n",
      "|    0   N/A  N/A     12495      G   ...AAAAAAAAA= --shared-files       31MiB |\r\n",
      "+-----------------------------------------------------------------------------+\r\n"
     ]
    }
   ],
   "source": [
    "!nvidia-smi"
   ]
  },
  {
   "cell_type": "code",
   "execution_count": 2,
   "metadata": {},
   "outputs": [],
   "source": [
    "from sklearn.metrics import accuracy_score \n",
    "from sklearn.model_selection import train_test_split \n",
    "from sklearn.metrics import classification_report \n",
    "from sklearn.metrics import confusion_matrix,accuracy_score,classification_report, plot_confusion_matrix\n",
    "from sklearn.preprocessing import StandardScaler"
   ]
  },
  {
   "cell_type": "code",
   "execution_count": 3,
   "metadata": {},
   "outputs": [],
   "source": [
    "import pickle # \n",
    "from os import path\n",
    "import numpy as np\n",
    "import pandas as pd\n",
    "import matplotlib.pyplot as plt"
   ]
  },
  {
   "cell_type": "code",
   "execution_count": 4,
   "metadata": {},
   "outputs": [],
   "source": [
    "from KD_Lib.KD import DML, VirtualTeacher, SelfTraining, ProbShift, LabelSmoothReg, RCO"
   ]
  },
  {
   "cell_type": "code",
   "execution_count": 5,
   "metadata": {},
   "outputs": [
    {
     "data": {
      "text/html": [
       "<div>\n",
       "<style scoped>\n",
       "    .dataframe tbody tr th:only-of-type {\n",
       "        vertical-align: middle;\n",
       "    }\n",
       "\n",
       "    .dataframe tbody tr th {\n",
       "        vertical-align: top;\n",
       "    }\n",
       "\n",
       "    .dataframe thead th {\n",
       "        text-align: right;\n",
       "    }\n",
       "</style>\n",
       "<table border=\"1\" class=\"dataframe\">\n",
       "  <thead>\n",
       "    <tr style=\"text-align: right;\">\n",
       "      <th></th>\n",
       "      <th>id</th>\n",
       "      <th>dur</th>\n",
       "      <th>xProt</th>\n",
       "      <th>xServ</th>\n",
       "      <th>xState</th>\n",
       "      <th>spkts</th>\n",
       "      <th>dpkts</th>\n",
       "      <th>sbytes</th>\n",
       "      <th>dbytes</th>\n",
       "      <th>rate</th>\n",
       "      <th>...</th>\n",
       "      <th>ct_src_dport_ltm</th>\n",
       "      <th>ct_dst_sport_ltm</th>\n",
       "      <th>ct_dst_src_ltm</th>\n",
       "      <th>is_ftp_login</th>\n",
       "      <th>ct_ftp_cmd</th>\n",
       "      <th>ct_flw_http_mthd</th>\n",
       "      <th>ct_src_ltm</th>\n",
       "      <th>ct_srv_dst</th>\n",
       "      <th>is_sm_ips_ports</th>\n",
       "      <th>label</th>\n",
       "    </tr>\n",
       "  </thead>\n",
       "  <tbody>\n",
       "    <tr>\n",
       "      <th>0</th>\n",
       "      <td>1</td>\n",
       "      <td>0.121478</td>\n",
       "      <td>4</td>\n",
       "      <td>999</td>\n",
       "      <td>2</td>\n",
       "      <td>6</td>\n",
       "      <td>4</td>\n",
       "      <td>258</td>\n",
       "      <td>172</td>\n",
       "      <td>74.087490</td>\n",
       "      <td>...</td>\n",
       "      <td>1</td>\n",
       "      <td>1</td>\n",
       "      <td>1</td>\n",
       "      <td>0</td>\n",
       "      <td>0</td>\n",
       "      <td>0</td>\n",
       "      <td>1</td>\n",
       "      <td>1</td>\n",
       "      <td>0</td>\n",
       "      <td>0</td>\n",
       "    </tr>\n",
       "    <tr>\n",
       "      <th>1</th>\n",
       "      <td>2</td>\n",
       "      <td>0.649902</td>\n",
       "      <td>4</td>\n",
       "      <td>999</td>\n",
       "      <td>2</td>\n",
       "      <td>14</td>\n",
       "      <td>38</td>\n",
       "      <td>734</td>\n",
       "      <td>42014</td>\n",
       "      <td>78.473372</td>\n",
       "      <td>...</td>\n",
       "      <td>1</td>\n",
       "      <td>1</td>\n",
       "      <td>2</td>\n",
       "      <td>0</td>\n",
       "      <td>0</td>\n",
       "      <td>0</td>\n",
       "      <td>1</td>\n",
       "      <td>6</td>\n",
       "      <td>0</td>\n",
       "      <td>0</td>\n",
       "    </tr>\n",
       "    <tr>\n",
       "      <th>2</th>\n",
       "      <td>3</td>\n",
       "      <td>1.623129</td>\n",
       "      <td>4</td>\n",
       "      <td>999</td>\n",
       "      <td>2</td>\n",
       "      <td>8</td>\n",
       "      <td>16</td>\n",
       "      <td>364</td>\n",
       "      <td>13186</td>\n",
       "      <td>14.170161</td>\n",
       "      <td>...</td>\n",
       "      <td>1</td>\n",
       "      <td>1</td>\n",
       "      <td>3</td>\n",
       "      <td>0</td>\n",
       "      <td>0</td>\n",
       "      <td>0</td>\n",
       "      <td>2</td>\n",
       "      <td>6</td>\n",
       "      <td>0</td>\n",
       "      <td>0</td>\n",
       "    </tr>\n",
       "    <tr>\n",
       "      <th>3</th>\n",
       "      <td>4</td>\n",
       "      <td>1.681642</td>\n",
       "      <td>4</td>\n",
       "      <td>3</td>\n",
       "      <td>2</td>\n",
       "      <td>12</td>\n",
       "      <td>12</td>\n",
       "      <td>628</td>\n",
       "      <td>770</td>\n",
       "      <td>13.677108</td>\n",
       "      <td>...</td>\n",
       "      <td>1</td>\n",
       "      <td>1</td>\n",
       "      <td>3</td>\n",
       "      <td>1</td>\n",
       "      <td>1</td>\n",
       "      <td>0</td>\n",
       "      <td>2</td>\n",
       "      <td>1</td>\n",
       "      <td>0</td>\n",
       "      <td>0</td>\n",
       "    </tr>\n",
       "    <tr>\n",
       "      <th>4</th>\n",
       "      <td>5</td>\n",
       "      <td>0.449454</td>\n",
       "      <td>4</td>\n",
       "      <td>999</td>\n",
       "      <td>2</td>\n",
       "      <td>10</td>\n",
       "      <td>6</td>\n",
       "      <td>534</td>\n",
       "      <td>268</td>\n",
       "      <td>33.373826</td>\n",
       "      <td>...</td>\n",
       "      <td>2</td>\n",
       "      <td>1</td>\n",
       "      <td>40</td>\n",
       "      <td>0</td>\n",
       "      <td>0</td>\n",
       "      <td>0</td>\n",
       "      <td>2</td>\n",
       "      <td>39</td>\n",
       "      <td>0</td>\n",
       "      <td>0</td>\n",
       "    </tr>\n",
       "  </tbody>\n",
       "</table>\n",
       "<p>5 rows × 44 columns</p>\n",
       "</div>"
      ],
      "text/plain": [
       "   id       dur  xProt  xServ  xState  spkts  dpkts  sbytes  dbytes  \\\n",
       "0   1  0.121478      4    999       2      6      4     258     172   \n",
       "1   2  0.649902      4    999       2     14     38     734   42014   \n",
       "2   3  1.623129      4    999       2      8     16     364   13186   \n",
       "3   4  1.681642      4      3       2     12     12     628     770   \n",
       "4   5  0.449454      4    999       2     10      6     534     268   \n",
       "\n",
       "        rate  ...  ct_src_dport_ltm  ct_dst_sport_ltm  ct_dst_src_ltm  \\\n",
       "0  74.087490  ...                 1                 1               1   \n",
       "1  78.473372  ...                 1                 1               2   \n",
       "2  14.170161  ...                 1                 1               3   \n",
       "3  13.677108  ...                 1                 1               3   \n",
       "4  33.373826  ...                 2                 1              40   \n",
       "\n",
       "   is_ftp_login  ct_ftp_cmd  ct_flw_http_mthd  ct_src_ltm  ct_srv_dst  \\\n",
       "0             0           0                 0           1           1   \n",
       "1             0           0                 0           1           6   \n",
       "2             0           0                 0           2           6   \n",
       "3             1           1                 0           2           1   \n",
       "4             0           0                 0           2          39   \n",
       "\n",
       "   is_sm_ips_ports  label  \n",
       "0                0      0  \n",
       "1                0      0  \n",
       "2                0      0  \n",
       "3                0      0  \n",
       "4                0      0  \n",
       "\n",
       "[5 rows x 44 columns]"
      ]
     },
     "execution_count": 5,
     "metadata": {},
     "output_type": "execute_result"
    }
   ],
   "source": [
    "data = pd.read_csv('data/UNSW_NB15_training-set.csv')\n",
    "data.head()"
   ]
  },
  {
   "cell_type": "code",
   "execution_count": 6,
   "metadata": {},
   "outputs": [
    {
     "data": {
      "text/plain": [
       "(175341, 43)"
      ]
     },
     "execution_count": 6,
     "metadata": {},
     "output_type": "execute_result"
    }
   ],
   "source": [
    "X = data.iloc[: , :-1].values\n",
    "X.shape"
   ]
  },
  {
   "cell_type": "code",
   "execution_count": 7,
   "metadata": {},
   "outputs": [
    {
     "data": {
      "text/plain": [
       "[0, 1]"
      ]
     },
     "execution_count": 7,
     "metadata": {},
     "output_type": "execute_result"
    }
   ],
   "source": [
    "attacks = list(pd.unique(data[\"label\"]))\n",
    "attacks"
   ]
  },
  {
   "cell_type": "code",
   "execution_count": 8,
   "metadata": {},
   "outputs": [
    {
     "data": {
      "text/plain": [
       "(175341,)"
      ]
     },
     "execution_count": 8,
     "metadata": {},
     "output_type": "execute_result"
    }
   ],
   "source": [
    "y = np.array(list(map((lambda x: attacks.index(x)), data.iloc[: , -1].values)))\n",
    "y.shape"
   ]
  },
  {
   "cell_type": "code",
   "execution_count": 9,
   "metadata": {},
   "outputs": [
    {
     "data": {
      "text/plain": [
       "((140272, 43), (140272,), (140272,), (35069,))"
      ]
     },
     "execution_count": 9,
     "metadata": {},
     "output_type": "execute_result"
    }
   ],
   "source": [
    "X_train, X_test, y_train, y_test = train_test_split(X, y, test_size=0.2, random_state=42)\n",
    "X_train.shape, y_train.shape, y_train.shape, y_test.shape"
   ]
  },
  {
   "cell_type": "code",
   "execution_count": 10,
   "metadata": {},
   "outputs": [],
   "source": [
    "scaler = StandardScaler()\n",
    "X_train = scaler.fit_transform(X_train)\n",
    "X_test = scaler.transform(X_test)"
   ]
  },
  {
   "cell_type": "markdown",
   "metadata": {},
   "source": [
    "------------------------------------------------------------------------------------------------------------------"
   ]
  },
  {
   "cell_type": "code",
   "execution_count": 11,
   "metadata": {},
   "outputs": [],
   "source": [
    "import torch\n",
    "import torch.nn as nn\n",
    "import torch.optim as optim\n",
    "import torch.nn.functional as F\n",
    "from torch.utils.data import Dataset, DataLoader"
   ]
  },
  {
   "cell_type": "code",
   "execution_count": 12,
   "metadata": {},
   "outputs": [],
   "source": [
    "class UNSWDataset(Dataset):\n",
    "    \n",
    "    def __init__(self, X_data, y_data):\n",
    "        self.X_data = X_data\n",
    "        self.y_data = y_data\n",
    "        \n",
    "    def __getitem__(self, index):\n",
    "        return self.X_data[index], self.y_data[index]\n",
    "        \n",
    "    def __len__ (self):\n",
    "        return len(self.X_data)"
   ]
  },
  {
   "cell_type": "code",
   "execution_count": 13,
   "metadata": {},
   "outputs": [],
   "source": [
    "train_data = UNSWDataset(torch.Tensor(X_train), torch.LongTensor(y_train))\n",
    "test_data = UNSWDataset(torch.Tensor(X_test), torch.LongTensor(y_test))"
   ]
  },
  {
   "cell_type": "code",
   "execution_count": 14,
   "metadata": {},
   "outputs": [],
   "source": [
    "bs = 256\n",
    "\n",
    "train_loader = DataLoader(dataset=train_data, batch_size=bs, shuffle=True)\n",
    "test_loader = DataLoader(dataset=test_data, batch_size=bs)"
   ]
  },
  {
   "cell_type": "code",
   "execution_count": 15,
   "metadata": {},
   "outputs": [
    {
     "data": {
      "text/plain": [
       "(548, 137)"
      ]
     },
     "execution_count": 15,
     "metadata": {},
     "output_type": "execute_result"
    }
   ],
   "source": [
    "len(train_loader.dataset)//bs + 1, len(test_loader.dataset)//bs + 1"
   ]
  },
  {
   "cell_type": "code",
   "execution_count": 16,
   "metadata": {},
   "outputs": [],
   "source": [
    "class Teacher(nn.Module):\n",
    "\n",
    "    def __init__(self, n_features, n_classes):\n",
    "        super(Teacher, self).__init__()\n",
    "\n",
    "        self.mlp = nn.Sequential(*[\n",
    "            nn.Linear(n_features, 32),\n",
    "            nn.ReLU(),\n",
    "            nn.Linear(32, 16),\n",
    "            nn.ReLU(),\n",
    "            nn.Linear(16, 8),\n",
    "            nn.ReLU(),\n",
    "            nn.Linear(8, n_classes)\n",
    "        ])\n",
    "\n",
    "    def forward(self, x):\n",
    "        return self.mlp(x)"
   ]
  },
  {
   "cell_type": "code",
   "execution_count": 17,
   "metadata": {},
   "outputs": [],
   "source": [
    "class Student(nn.Module):\n",
    "\n",
    "    def __init__(self, n_features, n_classes):\n",
    "        super(Student, self).__init__()\n",
    "\n",
    "        self.mlp = nn.Sequential(*[\n",
    "            nn.Linear(n_features, 16),\n",
    "            nn.ReLU(),\n",
    "            nn.Linear(16, 8),\n",
    "            nn.ReLU(),\n",
    "            nn.Linear(8, 4),\n",
    "            nn.ReLU(),\n",
    "            nn.Linear(4, n_classes)\n",
    "        ])\n",
    "\n",
    "    def forward(self, x):\n",
    "        return self.mlp(x)"
   ]
  },
  {
   "cell_type": "code",
   "execution_count": 18,
   "metadata": {},
   "outputs": [
    {
     "data": {
      "text/plain": [
       "device(type='cuda')"
      ]
     },
     "execution_count": 18,
     "metadata": {},
     "output_type": "execute_result"
    }
   ],
   "source": [
    "device = torch.device(\"cuda\" if torch.cuda.is_available() else \"cpu\")\n",
    "device"
   ]
  },
  {
   "cell_type": "markdown",
   "metadata": {},
   "source": [
    "# Self Training"
   ]
  },
  {
   "cell_type": "code",
   "execution_count": 19,
   "metadata": {},
   "outputs": [],
   "source": [
    "teacher = Teacher(X_train.shape[1], len(attacks)).to(device)\n",
    "teacher_optimizer = optim.SGD(teacher.parameters(), lr=0.1, momentum=0.9)\n",
    "\n",
    "student = Student(X_train.shape[1], len(attacks)).to(device)\n",
    "student_optimizer = optim.SGD(student.parameters(), lr=0.1, momentum=0.9)"
   ]
  },
  {
   "cell_type": "code",
   "execution_count": 20,
   "metadata": {},
   "outputs": [
    {
     "name": "stdout",
     "output_type": "stream",
     "text": [
      "\n",
      "Training self teacher...\n",
      "Epoch: 1, Loss: 155.10986328125, Accuracy: 0.8789922436409262\n",
      "Epoch: 2, Loss: 75.94918823242188, Accuracy: 0.9379277403900992\n",
      "Epoch: 3, Loss: 67.2199935913086, Accuracy: 0.9453205201323144\n",
      "Epoch: 4, Loss: 63.91858673095703, Accuracy: 0.9485713470970686\n",
      "Epoch: 5, Loss: 62.343505859375, Accuracy: 0.9493555378122505\n",
      "Epoch: 6, Loss: 61.59968566894531, Accuracy: 0.9497618911828447\n",
      "Epoch: 7, Loss: 60.19198989868164, Accuracy: 0.951487110756245\n",
      "Epoch: 8, Loss: 58.70058822631836, Accuracy: 0.9530768792061138\n",
      "Epoch: 9, Loss: 56.5797119140625, Accuracy: 0.955978384852287\n",
      "Epoch: 10, Loss: 54.712398529052734, Accuracy: 0.958202634880803\n",
      "Epoch: 11, Loss: 53.069236755371094, Accuracy: 0.9609686894034447\n",
      "Epoch: 12, Loss: 51.51377487182617, Accuracy: 0.9625655868598152\n",
      "Epoch: 13, Loss: 49.59995651245117, Accuracy: 0.9642765484202122\n",
      "Epoch: 14, Loss: 47.99673080444336, Accuracy: 0.9658734458765826\n",
      "Epoch: 15, Loss: 47.18315887451172, Accuracy: 0.9660017679936124\n",
      "Epoch: 16, Loss: 45.03060531616211, Accuracy: 0.9673990532679366\n",
      "Epoch: 17, Loss: 44.6364860534668, Accuracy: 0.9676485684954945\n",
      "Epoch: 18, Loss: 43.69811248779297, Accuracy: 0.9683614691456599\n",
      "Epoch: 19, Loss: 42.64043045043945, Accuracy: 0.9695092391924262\n",
      "Epoch: 20, Loss: 42.50490188598633, Accuracy: 0.9692882399908749\n",
      "Epoch: 21, Loss: 41.244441986083984, Accuracy: 0.9700724307060568\n",
      "Epoch: 22, Loss: 40.71467590332031, Accuracy: 0.9701651077905783\n",
      "Epoch: 23, Loss: 39.53850555419922, Accuracy: 0.9712130717463214\n",
      "Epoch: 24, Loss: 40.143123626708984, Accuracy: 0.9706783962586973\n",
      "Epoch: 25, Loss: 38.86334228515625, Accuracy: 0.971448328960876\n",
      "Epoch: 26, Loss: 38.60947799682617, Accuracy: 0.9716835861754306\n",
      "Epoch: 27, Loss: 38.074974060058594, Accuracy: 0.9713984259153644\n",
      "Epoch: 28, Loss: 38.06278991699219, Accuracy: 0.9718475533249686\n",
      "Epoch: 29, Loss: 37.220218658447266, Accuracy: 0.9718047792859588\n",
      "Epoch: 30, Loss: 36.27961730957031, Accuracy: 0.9728812592677084\n",
      "Epoch: 31, Loss: 36.21226501464844, Accuracy: 0.9734230637618342\n",
      "Epoch: 32, Loss: 35.57767868041992, Accuracy: 0.9731450325082697\n",
      "Epoch: 33, Loss: 35.43547058105469, Accuracy: 0.9736369339568838\n",
      "Epoch: 34, Loss: 34.4854850769043, Accuracy: 0.97392209421695\n",
      "Epoch: 35, Loss: 34.38546371459961, Accuracy: 0.9739506102429566\n",
      "Epoch: 36, Loss: 34.41435623168945, Accuracy: 0.9741644804380062\n",
      "Epoch: 37, Loss: 34.20429229736328, Accuracy: 0.9737866430934184\n",
      "Epoch: 38, Loss: 33.6851921081543, Accuracy: 0.9743997376525607\n",
      "Epoch: 39, Loss: 33.18280792236328, Accuracy: 0.9744211246720657\n",
      "Epoch: 40, Loss: 32.89613723754883, Accuracy: 0.9752837344587658\n",
      "Epoch: 41, Loss: 32.570655822753906, Accuracy: 0.9751910573742443\n",
      "Epoch: 42, Loss: 32.76324462890625, Accuracy: 0.9750342192312079\n",
      "Epoch: 43, Loss: 32.34151840209961, Accuracy: 0.9756615718033534\n",
      "Epoch: 44, Loss: 32.31224822998047, Accuracy: 0.9752195734002509\n",
      "Epoch: 45, Loss: 32.33974075317383, Accuracy: 0.9754548306148055\n",
      "Epoch: 46, Loss: 32.10013198852539, Accuracy: 0.9757827649138816\n",
      "Epoch: 47, Loss: 31.915245056152344, Accuracy: 0.9760893121934527\n",
      "Epoch: 48, Loss: 32.00818634033203, Accuracy: 0.9757756359073799\n",
      "Epoch: 49, Loss: 31.07900047302246, Accuracy: 0.9764243754990305\n",
      "Epoch: 50, Loss: 31.007410049438477, Accuracy: 0.9763174404015057\n",
      "\n",
      "Training student...\n"
     ]
    },
    {
     "name": "stderr",
     "output_type": "stream",
     "text": [
      "/home/neelay/miniconda3/envs/ap/lib/python3.6/site-packages/torch/nn/functional.py:1958: UserWarning: reduction: 'mean' divides the total loss by both the batch size and the support size.'batchmean' divides only by the batch size, and aligns with the KL div math definition.'mean' will be changed to behave the same as 'batchmean' in the next major release.\n",
      "  warnings.warn(\"reduction: 'mean' divides the total loss by both the batch size and the support size.\"\n"
     ]
    },
    {
     "name": "stdout",
     "output_type": "stream",
     "text": [
      "Epoch: 1, Loss: 78.87763977050781, Accuracy: 0.9195919356678454\n",
      "Epoch: 2, Loss: 65.5887222290039, Accuracy: 0.9445577164366374\n",
      "Epoch: 3, Loss: 63.915504455566406, Accuracy: 0.9493127637732406\n",
      "Epoch: 4, Loss: 60.576541900634766, Accuracy: 0.9605266910003422\n",
      "Epoch: 5, Loss: 58.61293411254883, Accuracy: 0.9648326109273412\n",
      "Epoch: 6, Loss: 57.63764572143555, Accuracy: 0.9668216037413027\n",
      "Epoch: 7, Loss: 57.414283752441406, Accuracy: 0.9672992471769134\n",
      "Epoch: 8, Loss: 57.108306884765625, Accuracy: 0.9678766967035474\n",
      "Epoch: 9, Loss: 56.62388229370117, Accuracy: 0.969409433101403\n",
      "Epoch: 10, Loss: 56.012935638427734, Accuracy: 0.9708138473822289\n",
      "Epoch: 11, Loss: 55.656768798828125, Accuracy: 0.9711845557203148\n",
      "Epoch: 12, Loss: 55.113868713378906, Accuracy: 0.9724535188776092\n",
      "Epoch: 13, Loss: 55.02373123168945, Accuracy: 0.9729169043002167\n",
      "Epoch: 14, Loss: 54.865840911865234, Accuracy: 0.9731592905212729\n",
      "Epoch: 15, Loss: 54.5311279296875, Accuracy: 0.9741217063989962\n",
      "Epoch: 16, Loss: 54.51814651489258, Accuracy: 0.9736797079958937\n",
      "Epoch: 17, Loss: 54.50757598876953, Accuracy: 0.9740005132884682\n",
      "Epoch: 18, Loss: 54.42564392089844, Accuracy: 0.9741502224250028\n",
      "Epoch: 19, Loss: 54.09060287475586, Accuracy: 0.9750627352572145\n",
      "Epoch: 20, Loss: 53.980369567871094, Accuracy: 0.9751411543287327\n",
      "Epoch: 21, Loss: 53.94892120361328, Accuracy: 0.9750484772442113\n",
      "Epoch: 22, Loss: 54.068912506103516, Accuracy: 0.9748702520816699\n",
      "Epoch: 23, Loss: 53.8343505859375, Accuracy: 0.9753265084977758\n",
      "Epoch: 24, Loss: 53.84467315673828, Accuracy: 0.975404927569294\n",
      "Epoch: 25, Loss: 53.762977600097656, Accuracy: 0.9759823770959279\n",
      "Epoch: 26, Loss: 53.89930725097656, Accuracy: 0.9753835405497889\n",
      "Epoch: 27, Loss: 53.77419662475586, Accuracy: 0.9755974107448386\n",
      "Epoch: 28, Loss: 53.56424331665039, Accuracy: 0.9760964411999544\n",
      "Epoch: 29, Loss: 53.58112335205078, Accuracy: 0.9759467320634196\n",
      "Epoch: 30, Loss: 53.61704635620117, Accuracy: 0.9761534732519676\n",
      "Epoch: 31, Loss: 53.40536117553711, Accuracy: 0.9762889243754991\n",
      "Epoch: 32, Loss: 53.284793853759766, Accuracy: 0.9765954716550701\n",
      "Epoch: 33, Loss: 53.491722106933594, Accuracy: 0.9758968290179081\n",
      "Epoch: 34, Loss: 53.52592468261719, Accuracy: 0.9762746663624957\n",
      "Epoch: 35, Loss: 53.40108108520508, Accuracy: 0.9763388274210106\n",
      "Epoch: 36, Loss: 53.22098159790039, Accuracy: 0.9770303410516711\n",
      "Epoch: 37, Loss: 53.30182647705078, Accuracy: 0.9765455686095585\n",
      "Epoch: 38, Loss: 53.11213302612305, Accuracy: 0.9771657921752025\n",
      "Epoch: 39, Loss: 52.93332290649414, Accuracy: 0.9774794684612752\n",
      "Epoch: 40, Loss: 53.242183685302734, Accuracy: 0.9768022128436181\n",
      "Epoch: 41, Loss: 53.333980560302734, Accuracy: 0.9764600205315387\n",
      "Epoch: 42, Loss: 53.070640563964844, Accuracy: 0.9770873731036843\n",
      "Epoch: 43, Loss: 53.118324279785156, Accuracy: 0.9769661799931562\n",
      "Epoch: 44, Loss: 52.95965576171875, Accuracy: 0.9774580814417703\n",
      "Epoch: 45, Loss: 53.08721923828125, Accuracy: 0.9771372761491959\n",
      "Epoch: 46, Loss: 52.86050796508789, Accuracy: 0.9776790806433215\n",
      "Epoch: 47, Loss: 52.92014694213867, Accuracy: 0.9775792745522984\n",
      "Epoch: 48, Loss: 52.819862365722656, Accuracy: 0.9781709820919356\n",
      "Epoch: 49, Loss: 53.03324508666992, Accuracy: 0.9777004676628265\n",
      "Epoch: 50, Loss: 52.976871490478516, Accuracy: 0.9770945021101859\n"
     ]
    },
    {
     "data": {
      "image/png": "[encoded data removed]",
      "text/plain": [
       "<Figure size 432x288 with 1 Axes>"
      ]
     },
     "metadata": {
      "needs_background": "light"
     },
     "output_type": "display_data"
    }
   ],
   "source": [
    "distiller = SelfTraining(student, train_loader, test_loader, student_optimizer,\n",
    "                         device=device)\n",
    "distiller.train_student(epochs=50, save_model=False)                                      "
   ]
  },
  {
   "cell_type": "code",
   "execution_count": 21,
   "metadata": {},
   "outputs": [
    {
     "name": "stdout",
     "output_type": "stream",
     "text": [
      "--------------------------------------------------------------------------------\n",
      "Accuracy: 0.9761612820439705\n"
     ]
    }
   ],
   "source": [
    "distiller.evaluate()        "
   ]
  },
  {
   "cell_type": "markdown",
   "metadata": {},
   "source": [
    "# Probability Shift"
   ]
  },
  {
   "cell_type": "code",
   "execution_count": 22,
   "metadata": {},
   "outputs": [],
   "source": [
    "teacher = Teacher(X_train.shape[1], len(attacks)).to(device)\n",
    "teacher_optimizer = optim.SGD(teacher.parameters(), lr=0.1, momentum=0.9)\n",
    "\n",
    "student = Student(X_train.shape[1], len(attacks)).to(device)\n",
    "student_optimizer = optim.SGD(student.parameters(), lr=0.1, momentum=0.9)"
   ]
  },
  {
   "cell_type": "code",
   "execution_count": 23,
   "metadata": {},
   "outputs": [
    {
     "name": "stdout",
     "output_type": "stream",
     "text": [
      "Training Teacher... \n",
      "Epoch: 1, Loss: 83.67657470703125, Accuracy: 0.9335719174175887\n",
      "Epoch: 2, Loss: 52.8486328125, Accuracy: 0.9605979810653588\n",
      "Epoch: 3, Loss: 43.801597595214844, Accuracy: 0.966750313676286\n",
      "Epoch: 4, Loss: 41.41749954223633, Accuracy: 0.9688890156267822\n",
      "Epoch: 5, Loss: 38.76234817504883, Accuracy: 0.9705572031481693\n",
      "Epoch: 6, Loss: 38.300392150878906, Accuracy: 0.9706783962586973\n",
      "Epoch: 7, Loss: 37.32029724121094, Accuracy: 0.9714126839283678\n",
      "Epoch: 8, Loss: 34.801673889160156, Accuracy: 0.9733375156838143\n",
      "Epoch: 9, Loss: 35.4350471496582, Accuracy: 0.9731307744952663\n",
      "Epoch: 10, Loss: 34.6246223449707, Accuracy: 0.9732305805862895\n",
      "Epoch: 11, Loss: 33.486690521240234, Accuracy: 0.9743569636135508\n",
      "Epoch: 12, Loss: 33.46706771850586, Accuracy: 0.974806091023155\n",
      "Epoch: 13, Loss: 32.47420120239258, Accuracy: 0.975568894718832\n",
      "Epoch: 14, Loss: 32.58771896362305, Accuracy: 0.9753550245237823\n",
      "Epoch: 15, Loss: 32.40342330932617, Accuracy: 0.9753478955172807\n",
      "Epoch: 16, Loss: 32.06793212890625, Accuracy: 0.9756401847838485\n",
      "Epoch: 17, Loss: 31.693326950073242, Accuracy: 0.9758754419984031\n",
      "Epoch: 18, Loss: 31.313783645629883, Accuracy: 0.9760108931219346\n",
      "Epoch: 19, Loss: 31.050426483154297, Accuracy: 0.9761748602714726\n",
      "Epoch: 20, Loss: 31.22614097595215, Accuracy: 0.9767950838371164\n",
      "Epoch: 21, Loss: 31.057504653930664, Accuracy: 0.9765241815900536\n",
      "Epoch: 22, Loss: 30.85558319091797, Accuracy: 0.9765384396030569\n",
      "Epoch: 23, Loss: 30.652149200439453, Accuracy: 0.9767095357590966\n",
      "Epoch: 24, Loss: 29.877052307128906, Accuracy: 0.9771087601231893\n",
      "Epoch: 25, Loss: 29.901288986206055, Accuracy: 0.9766097296680735\n",
      "Epoch: 26, Loss: 30.047107696533203, Accuracy: 0.9766881487395916\n",
      "Epoch: 27, Loss: 29.090377807617188, Accuracy: 0.9775721455457967\n",
      "Epoch: 28, Loss: 29.013795852661133, Accuracy: 0.9775792745522984\n",
      "Epoch: 29, Loss: 28.640605926513672, Accuracy: 0.9776648226303183\n",
      "Epoch: 30, Loss: 28.63979721069336, Accuracy: 0.9780497889814076\n",
      "Epoch: 31, Loss: 28.672914505004883, Accuracy: 0.9778573058058629\n",
      "Epoch: 32, Loss: 28.854143142700195, Accuracy: 0.9780426599749059\n",
      "Epoch: 33, Loss: 28.802566528320312, Accuracy: 0.9775079844872818\n",
      "Epoch: 34, Loss: 28.52569580078125, Accuracy: 0.9775792745522984\n",
      "Epoch: 35, Loss: 27.902057647705078, Accuracy: 0.9784490133455002\n",
      "Epoch: 36, Loss: 27.85255241394043, Accuracy: 0.9781353370594273\n",
      "Epoch: 37, Loss: 27.741289138793945, Accuracy: 0.978327820234972\n",
      "Epoch: 38, Loss: 27.159950256347656, Accuracy: 0.9789195277746093\n",
      "Epoch: 39, Loss: 28.10524559020996, Accuracy: 0.9778786928253679\n",
      "Epoch: 40, Loss: 27.787561416625977, Accuracy: 0.9782850461959621\n",
      "Epoch: 41, Loss: 27.99673843383789, Accuracy: 0.9784204973194935\n",
      "Epoch: 42, Loss: 27.964752197265625, Accuracy: 0.9783563362609786\n",
      "Epoch: 43, Loss: 27.016857147216797, Accuracy: 0.9789979468461275\n",
      "Epoch: 44, Loss: 27.07162094116211, Accuracy: 0.9787484316185696\n",
      "Epoch: 45, Loss: 26.757930755615234, Accuracy: 0.9790050758526292\n",
      "Epoch: 46, Loss: 27.211139678955078, Accuracy: 0.9788553667160944\n",
      "Epoch: 47, Loss: 27.03580665588379, Accuracy: 0.9790050758526292\n",
      "Epoch: 48, Loss: 27.327524185180664, Accuracy: 0.9786486255275465\n",
      "Epoch: 49, Loss: 27.23467254638672, Accuracy: 0.9793044941256986\n",
      "Epoch: 50, Loss: 26.65011978149414, Accuracy: 0.9790763659176457\n",
      "Training Student...\n",
      "Epoch: 1, Loss: -32567.24334335327, Accuracy: 0.9335362723850804\n",
      "Epoch: 2, Loss: -32699.730476379395, Accuracy: 0.9634852286985286\n",
      "Epoch: 3, Loss: -32713.938777923584, Accuracy: 0.9659233489220942\n",
      "Epoch: 4, Loss: -32719.06618118286, Accuracy: 0.9669926998973423\n",
      "Epoch: 5, Loss: -32723.31053543091, Accuracy: 0.9689032736397856\n",
      "Epoch: 6, Loss: -32725.52255630493, Accuracy: 0.9693096270103798\n",
      "Epoch: 7, Loss: -32723.560287475586, Accuracy: 0.9691741758868484\n",
      "Epoch: 8, Loss: -32723.068061828613, Accuracy: 0.9692383369453633\n",
      "Epoch: 9, Loss: -32725.063457489014, Accuracy: 0.9696019162769477\n",
      "Epoch: 10, Loss: -32726.611846923828, Accuracy: 0.9703219459336146\n",
      "Epoch: 11, Loss: -32728.39946746826, Accuracy: 0.9710704916162883\n",
      "Epoch: 12, Loss: -32726.324016571045, Accuracy: 0.9713485228698528\n",
      "Epoch: 13, Loss: -32729.193271636963, Accuracy: 0.971840424318467\n",
      "Epoch: 14, Loss: -32723.765167236328, Accuracy: 0.9704645260636477\n",
      "Epoch: 15, Loss: -32728.996006011963, Accuracy: 0.9722610357020646\n",
      "Epoch: 16, Loss: -32730.473209381104, Accuracy: 0.9725390669556291\n",
      "Epoch: 17, Loss: -32730.862003326416, Accuracy: 0.9727315501311737\n",
      "Epoch: 18, Loss: -32732.06778717041, Accuracy: 0.9729454203262233\n",
      "Epoch: 19, Loss: -32731.809852600098, Accuracy: 0.9730238393977415\n",
      "Epoch: 20, Loss: -32733.56056213379, Accuracy: 0.9735941599178738\n",
      "Epoch: 21, Loss: -32731.959186553955, Accuracy: 0.9733375156838143\n",
      "Epoch: 22, Loss: -32732.82508468628, Accuracy: 0.973508611839854\n",
      "Epoch: 23, Loss: -32733.60280609131, Accuracy: 0.9738222881259267\n",
      "Epoch: 24, Loss: -32732.96307373047, Accuracy: 0.9734159347553325\n",
      "Epoch: 25, Loss: -32733.602935791016, Accuracy: 0.97392209421695\n",
      "Epoch: 26, Loss: -32733.642364501953, Accuracy: 0.9736155469373788\n",
      "Epoch: 27, Loss: -32731.64471435547, Accuracy: 0.9735442568723622\n",
      "Epoch: 28, Loss: -32734.259239196777, Accuracy: 0.9738935781909434\n",
      "Epoch: 29, Loss: -32732.674171447754, Accuracy: 0.9732662256187977\n",
      "Epoch: 30, Loss: -32734.350246429443, Accuracy: 0.9741288354054979\n",
      "Epoch: 31, Loss: -32731.007621765137, Accuracy: 0.9737082240219003\n",
      "Epoch: 32, Loss: -32732.624168395996, Accuracy: 0.9735941599178738\n",
      "Epoch: 33, Loss: -32733.91326904297, Accuracy: 0.9740219003079731\n",
      "Epoch: 34, Loss: -32733.430030822754, Accuracy: 0.9740504163339797\n",
      "Epoch: 35, Loss: -32734.91217803955, Accuracy: 0.9738294171324284\n",
      "Epoch: 36, Loss: -32734.743965148926, Accuracy: 0.9739933842819665\n",
      "Epoch: 37, Loss: -32735.02631378174, Accuracy: 0.9743284475875442\n",
      "Epoch: 38, Loss: -32735.23556137085, Accuracy: 0.974620736854112\n",
      "Epoch: 39, Loss: -32734.60447692871, Accuracy: 0.9744425116915707\n",
      "Epoch: 40, Loss: -32733.909297943115, Accuracy: 0.9744496406980723\n",
      "Epoch: 41, Loss: -32734.673973083496, Accuracy: 0.9742215124900194\n",
      "Epoch: 42, Loss: -32734.40813446045, Accuracy: 0.9743783506330558\n",
      "Epoch: 43, Loss: -32733.924076080322, Accuracy: 0.9743997376525607\n",
      "Epoch: 44, Loss: -32735.258255004883, Accuracy: 0.9743284475875442\n",
      "Epoch: 45, Loss: -32735.590705871582, Accuracy: 0.9744995437435839\n",
      "Epoch: 46, Loss: -32731.83931350708, Accuracy: 0.9734301927683358\n",
      "Epoch: 47, Loss: -32731.70023727417, Accuracy: 0.9732448385992928\n",
      "Epoch: 48, Loss: -32734.12224960327, Accuracy: 0.9738222881259267\n",
      "Epoch: 49, Loss: -32735.746753692627, Accuracy: 0.974620736854112\n",
      "Epoch: 50, Loss: -32735.83776473999, Accuracy: 0.9747775749971483\n",
      "--------------------------------------------------------------------------------\n",
      "Accuracy: 0.9763323733211668\n",
      "--------------------------------------------------------------------------------\n",
      "Accuracy: 0.9710285437280789\n"
     ]
    },
    {
     "data": {
      "text/plain": [
       "0.9710285437280789"
      ]
     },
     "execution_count": 23,
     "metadata": {},
     "output_type": "execute_result"
    },
    {
     "data": {
      "image/png": "[encoded data removed]",
      "text/plain": [
       "<Figure size 432x288 with 1 Axes>"
      ]
     },
     "metadata": {
      "needs_background": "light"
     },
     "output_type": "display_data"
    }
   ],
   "source": [
    "distiller = ProbShift(teacher, student, train_loader, test_loader, teacher_optimizer,\n",
    "                      student_optimizer, device=device, temp=10)\n",
    "distiller.train_teacher(epochs=50)                                       # Train the teacher model\n",
    "distiller.train_student(epochs=50)                                      # Train the student model\n",
    "distiller.evaluate(teacher=True)                                        # Evaluate the teacher model\n",
    "distiller.evaluate()   "
   ]
  },
  {
   "cell_type": "markdown",
   "metadata": {},
   "source": [
    "# Label Smoothening Regularization"
   ]
  },
  {
   "cell_type": "code",
   "execution_count": 24,
   "metadata": {},
   "outputs": [],
   "source": [
    "teacher = Teacher(X_train.shape[1], len(attacks)).to(device)\n",
    "teacher_optimizer = optim.SGD(teacher.parameters(), lr=0.1, momentum=0.9)\n",
    "\n",
    "student = Student(X_train.shape[1], len(attacks)).to(device)\n",
    "student_optimizer = optim.SGD(student.parameters(), lr=0.1, momentum=0.9)"
   ]
  },
  {
   "cell_type": "code",
   "execution_count": 25,
   "metadata": {},
   "outputs": [
    {
     "name": "stdout",
     "output_type": "stream",
     "text": [
      "Training Teacher... \n",
      "Epoch: 1, Loss: 85.24127197265625, Accuracy: 0.9327164366373902\n",
      "Epoch: 2, Loss: 52.13734817504883, Accuracy: 0.9625869738793201\n",
      "Epoch: 3, Loss: 46.492305755615234, Accuracy: 0.9660588000456256\n",
      "Epoch: 4, Loss: 42.04857635498047, Accuracy: 0.968810596555264\n",
      "Epoch: 5, Loss: 38.8761100769043, Accuracy: 0.97103484658378\n",
      "Epoch: 6, Loss: 37.431819915771484, Accuracy: 0.9715837800844075\n",
      "Epoch: 7, Loss: 36.56076431274414, Accuracy: 0.9727172921181704\n",
      "Epoch: 8, Loss: 35.497493743896484, Accuracy: 0.9734159347553325\n",
      "Epoch: 9, Loss: 34.86281967163086, Accuracy: 0.9735157408463556\n",
      "Epoch: 10, Loss: 34.45140075683594, Accuracy: 0.9739506102429566\n",
      "Epoch: 11, Loss: 34.03718566894531, Accuracy: 0.9735371278658607\n",
      "Epoch: 12, Loss: 33.3963623046875, Accuracy: 0.973693966008897\n",
      "Epoch: 13, Loss: 33.34670639038086, Accuracy: 0.974435382685069\n",
      "Epoch: 14, Loss: 32.361900329589844, Accuracy: 0.9748916391011748\n",
      "Epoch: 15, Loss: 32.3203010559082, Accuracy: 0.9747276719516368\n",
      "Epoch: 16, Loss: 31.565134048461914, Accuracy: 0.9750413482377096\n",
      "Epoch: 17, Loss: 31.4139404296875, Accuracy: 0.9753550245237823\n",
      "Epoch: 18, Loss: 31.282649993896484, Accuracy: 0.9755118626668188\n",
      "Epoch: 19, Loss: 35.239295959472656, Accuracy: 0.973116516482263\n",
      "Epoch: 20, Loss: 34.662925720214844, Accuracy: 0.9733731607163226\n",
      "Epoch: 21, Loss: 33.0433349609375, Accuracy: 0.9744139956655641\n",
      "Epoch: 22, Loss: 31.949874877929688, Accuracy: 0.9750698642637162\n",
      "Epoch: 23, Loss: 31.389259338378906, Accuracy: 0.9757898939203833\n",
      "Epoch: 24, Loss: 31.23015594482422, Accuracy: 0.9755189916733205\n",
      "Epoch: 25, Loss: 31.365819931030273, Accuracy: 0.9750484772442113\n",
      "Epoch: 26, Loss: 30.015445709228516, Accuracy: 0.9765455686095585\n",
      "Epoch: 27, Loss: 29.536104202270508, Accuracy: 0.9768235998631231\n",
      "Epoch: 28, Loss: 29.305309295654297, Accuracy: 0.9769091479411429\n",
      "Epoch: 29, Loss: 29.81974220275879, Accuracy: 0.9764101174860271\n",
      "Epoch: 30, Loss: 29.54380989074707, Accuracy: 0.9766667617200867\n",
      "Epoch: 31, Loss: 29.942960739135742, Accuracy: 0.9769447929736512\n",
      "Epoch: 32, Loss: 29.42685317993164, Accuracy: 0.9768093418501198\n",
      "Epoch: 33, Loss: 29.416940689086914, Accuracy: 0.9767451807916049\n",
      "Epoch: 34, Loss: 28.366296768188477, Accuracy: 0.9775507585262918\n",
      "Epoch: 35, Loss: 29.300493240356445, Accuracy: 0.9767950838371164\n",
      "Epoch: 36, Loss: 28.401859283447266, Accuracy: 0.9772941142922322\n",
      "Epoch: 37, Loss: 27.782642364501953, Accuracy: 0.9782779171894604\n",
      "Epoch: 38, Loss: 28.53569984436035, Accuracy: 0.9773796623702521\n",
      "Epoch: 39, Loss: 28.195850372314453, Accuracy: 0.9777646287213414\n",
      "Epoch: 40, Loss: 28.18776512145996, Accuracy: 0.9775293715067868\n",
      "Epoch: 41, Loss: 28.22706413269043, Accuracy: 0.977401049389757\n",
      "Epoch: 42, Loss: 27.48841094970703, Accuracy: 0.9781353370594273\n",
      "Epoch: 43, Loss: 27.649316787719727, Accuracy: 0.9776434356108132\n",
      "Epoch: 44, Loss: 28.26881980895996, Accuracy: 0.9773582753507472\n",
      "Epoch: 45, Loss: 27.23708724975586, Accuracy: 0.9786486255275465\n",
      "Epoch: 46, Loss: 27.603174209594727, Accuracy: 0.978349207254477\n",
      "Epoch: 47, Loss: 27.282135009765625, Accuracy: 0.9782351431504506\n",
      "Epoch: 48, Loss: 27.445556640625, Accuracy: 0.9783919812934869\n",
      "Epoch: 49, Loss: 26.620948791503906, Accuracy: 0.9787270445990647\n",
      "Epoch: 50, Loss: 27.67454719543457, Accuracy: 0.9776719516368199\n",
      "Training Student...\n",
      "Epoch: 1, Loss: -223831.42510986328, Accuracy: 0.8732320063875898\n",
      "Epoch: 2, Loss: -224325.76501464844, Accuracy: 0.9028815444279685\n",
      "Epoch: 3, Loss: -224251.09548950195, Accuracy: 0.9055406638530854\n",
      "Epoch: 4, Loss: -223209.04345703125, Accuracy: 0.8115090680962701\n",
      "Epoch: 5, Loss: -221200.56866455078, Accuracy: 0.6803995095243527\n",
      "Epoch: 6, Loss: -221202.0548400879, Accuracy: 0.6803995095243527\n",
      "Epoch: 7, Loss: -221202.30606079102, Accuracy: 0.6803995095243527\n",
      "Epoch: 8, Loss: -221201.4884033203, Accuracy: 0.6803995095243527\n",
      "Epoch: 9, Loss: -221201.32278442383, Accuracy: 0.6803995095243527\n",
      "Epoch: 10, Loss: -221201.4841003418, Accuracy: 0.6770845215010836\n",
      "Epoch: 11, Loss: -221199.85751342773, Accuracy: 0.6803995095243527\n",
      "Epoch: 12, Loss: -221201.96533203125, Accuracy: 0.6803995095243527\n",
      "Epoch: 13, Loss: -221200.21438598633, Accuracy: 0.6803995095243527\n",
      "Epoch: 14, Loss: -221201.66958618164, Accuracy: 0.6803995095243527\n",
      "Epoch: 15, Loss: -221201.79391479492, Accuracy: 0.6788525151134938\n",
      "Epoch: 16, Loss: -221202.11950683594, Accuracy: 0.6803995095243527\n",
      "Epoch: 17, Loss: -221200.36303710938, Accuracy: 0.6803995095243527\n",
      "Epoch: 18, Loss: -221201.01287841797, Accuracy: 0.6803995095243527\n",
      "Epoch: 19, Loss: -221200.0932006836, Accuracy: 0.6803995095243527\n",
      "Epoch: 20, Loss: -221201.95532226562, Accuracy: 0.6776691000342192\n",
      "Epoch: 21, Loss: -221202.46060180664, Accuracy: 0.6803995095243527\n",
      "Epoch: 22, Loss: -221201.7466430664, Accuracy: 0.6803995095243527\n",
      "Epoch: 23, Loss: -221201.8459777832, Accuracy: 0.6803995095243527\n",
      "Epoch: 24, Loss: -221200.72033691406, Accuracy: 0.6803995095243527\n",
      "Epoch: 25, Loss: -221202.26602172852, Accuracy: 0.6803995095243527\n",
      "Epoch: 26, Loss: -221202.0295715332, Accuracy: 0.6803995095243527\n",
      "Epoch: 27, Loss: -221202.0069885254, Accuracy: 0.6803995095243527\n",
      "Epoch: 28, Loss: -221199.45565795898, Accuracy: 0.678332097638873\n",
      "Epoch: 29, Loss: -221200.65567016602, Accuracy: 0.6796295768221741\n",
      "Epoch: 30, Loss: -221201.98281860352, Accuracy: 0.6803995095243527\n",
      "Epoch: 31, Loss: -221201.30673217773, Accuracy: 0.6803995095243527\n",
      "Epoch: 32, Loss: -221201.27011108398, Accuracy: 0.6803995095243527\n",
      "Epoch: 33, Loss: -221200.51663208008, Accuracy: 0.6803995095243527\n",
      "Epoch: 34, Loss: -221201.21063232422, Accuracy: 0.6803995095243527\n",
      "Epoch: 35, Loss: -221201.56103515625, Accuracy: 0.6803995095243527\n",
      "Epoch: 36, Loss: -221201.38088989258, Accuracy: 0.6803995095243527\n",
      "Epoch: 37, Loss: -221201.39428710938, Accuracy: 0.6803995095243527\n",
      "Epoch: 38, Loss: -221200.06115722656, Accuracy: 0.6782394205543515\n",
      "Epoch: 39, Loss: -221201.30392456055, Accuracy: 0.6803995095243527\n",
      "Epoch: 40, Loss: -221201.2811279297, Accuracy: 0.6803995095243527\n",
      "Epoch: 41, Loss: -221200.82977294922, Accuracy: 0.6803995095243527\n",
      "Epoch: 42, Loss: -221201.08352661133, Accuracy: 0.6803995095243527\n",
      "Epoch: 43, Loss: -221202.15048217773, Accuracy: 0.6803995095243527\n",
      "Epoch: 44, Loss: -221201.0927734375, Accuracy: 0.6803995095243527\n",
      "Epoch: 45, Loss: -221201.6967163086, Accuracy: 0.6803995095243527\n",
      "Epoch: 46, Loss: -221200.91870117188, Accuracy: 0.6803995095243527\n",
      "Epoch: 47, Loss: -221201.54190063477, Accuracy: 0.6803995095243527\n",
      "Epoch: 48, Loss: -221200.53479003906, Accuracy: 0.6803995095243527\n",
      "Epoch: 49, Loss: -221201.22854614258, Accuracy: 0.6803995095243527\n",
      "Epoch: 50, Loss: -221201.1261291504, Accuracy: 0.6803995095243527\n",
      "--------------------------------------------------------------------------------\n",
      "Accuracy: 0.9756194929995152\n",
      "--------------------------------------------------------------------------------\n",
      "Accuracy: 0.9028771849781858\n"
     ]
    },
    {
     "data": {
      "text/plain": [
       "0.9028771849781858"
      ]
     },
     "execution_count": 25,
     "metadata": {},
     "output_type": "execute_result"
    },
    {
     "data": {
      "image/png": "[encoded data removed]",
      "text/plain": [
       "<Figure size 432x288 with 1 Axes>"
      ]
     },
     "metadata": {
      "needs_background": "light"
     },
     "output_type": "display_data"
    }
   ],
   "source": [
    "distiller = LabelSmoothReg(teacher, student, train_loader, test_loader, teacher_optimizer,\n",
    "                           student_optimizer, correct_prob=0.9, device=device)\n",
    "distiller.train_teacher(epochs=50, save_model=False)                                       # Train the teacher model\n",
    "distiller.train_student(epochs=50, save_model=False)                                      # Train the student model\n",
    "distiller.evaluate(teacher=True)                                        # Evaluate the teacher model\n",
    "distiller.evaluate()                                                    # Evaluate the student model"
   ]
  },
  {
   "cell_type": "markdown",
   "metadata": {},
   "source": [
    "# Deep Mutual Learning"
   ]
  },
  {
   "cell_type": "code",
   "execution_count": 26,
   "metadata": {},
   "outputs": [],
   "source": [
    "student_model_1 = Student(X_train.shape[1], len(attacks)).to(device)\n",
    "student_model_2 = Student(X_train.shape[1], len(attacks)).to(device)\n",
    "student_model_3 = Student(X_train.shape[1], len(attacks)).to(device)\n",
    "\n",
    "student_cohort = (student_model_1, student_model_2, student_model_3)\n",
    "\n",
    "student_optimizer_1 = optim.SGD(student_model_1.parameters(), lr=0.1, momentum=0.9)\n",
    "student_optimizer_2 = optim.SGD(student_model_2.parameters(), lr=0.1, momentum=0.9)\n",
    "student_optimizer_3 = optim.SGD(student_model_3.parameters(), lr=0.1, momentum=0.9)\n",
    "\n",
    "optimizers = [student_optimizer_1, student_optimizer_2, student_optimizer_3]"
   ]
  },
  {
   "cell_type": "code",
   "execution_count": 27,
   "metadata": {},
   "outputs": [
    {
     "name": "stdout",
     "output_type": "stream",
     "text": [
      "\n",
      "Training students...\n",
      "Epoch: 1, Loss: nan, Accuracy: 0.9259652674803239\n",
      "Epoch: 2, Loss: nan, Accuracy: 0.9592862438690544\n",
      "Epoch: 3, Loss: nan, Accuracy: 0.9642694194137105\n",
      "Epoch: 4, Loss: nan, Accuracy: 0.966793087715296\n",
      "Epoch: 5, Loss: nan, Accuracy: 0.9677555035930193\n",
      "--------------------------------------------------------------------------------\n",
      "Evaluating student 0\n",
      "Accuracy: 0.9668653226496335\n",
      "--------------------------------------------------------------------------------\n",
      "Evaluating student 1\n",
      "Accuracy: 0.3184864125010693\n",
      "--------------------------------------------------------------------------------\n",
      "Evaluating student 2\n",
      "Accuracy: 0.3184864125010693\n"
     ]
    },
    {
     "data": {
      "image/png": "[encoded data removed]",
      "text/plain": [
       "<Figure size 432x288 with 1 Axes>"
      ]
     },
     "metadata": {
      "needs_background": "light"
     },
     "output_type": "display_data"
    }
   ],
   "source": [
    "distiller = DML(student_cohort, train_loader, test_loader, optimizers, loss_fn=nn.KLDivLoss(),\n",
    "                device=device)\n",
    "distiller.train_students(epochs=5, plot_losses=True, save_model=False)   # Train the student cohort\n",
    "distiller.evaluate()        "
   ]
  },
  {
   "cell_type": "markdown",
   "metadata": {},
   "source": [
    "# Route Contrained Optimization"
   ]
  },
  {
   "cell_type": "code",
   "execution_count": 28,
   "metadata": {},
   "outputs": [],
   "source": [
    "teacher = Teacher(X_train.shape[1], len(attacks)).to(device)\n",
    "teacher_optimizer = optim.SGD(teacher.parameters(), lr=0.1, momentum=0.9)\n",
    "\n",
    "student = Student(X_train.shape[1], len(attacks)).to(device)\n",
    "student_optimizer = optim.SGD(student.parameters(), lr=0.1, momentum=0.9)"
   ]
  },
  {
   "cell_type": "code",
   "execution_count": 29,
   "metadata": {},
   "outputs": [
    {
     "name": "stdout",
     "output_type": "stream",
     "text": [
      "Training Teacher... \n",
      "Epoch: 1, Loss: 79.90705108642578, Accuracy: 0.9364163910117486\n",
      "Epoch: 2, Loss: 50.67529296875, Accuracy: 0.9640341621991559\n",
      "Epoch: 3, Loss: 43.8865852355957, Accuracy: 0.9680192768335805\n",
      "Epoch: 4, Loss: 41.20234298706055, Accuracy: 0.9696375613094559\n",
      "Epoch: 5, Loss: 39.443912506103516, Accuracy: 0.9704431390441428\n",
      "Epoch: 6, Loss: 38.27216720581055, Accuracy: 0.9710704916162883\n",
      "Epoch: 7, Loss: 36.65374755859375, Accuracy: 0.9722396486825596\n",
      "Epoch: 8, Loss: 35.82228088378906, Accuracy: 0.9724891639101175\n",
      "Epoch: 9, Loss: 35.71868133544922, Accuracy: 0.9728170982091936\n",
      "Epoch: 10, Loss: 34.86296081542969, Accuracy: 0.973116516482263\n",
      "Epoch: 11, Loss: 33.98298645019531, Accuracy: 0.9739078362039466\n",
      "Epoch: 12, Loss: 33.771522521972656, Accuracy: 0.974228641496521\n",
      "Epoch: 13, Loss: 33.57965850830078, Accuracy: 0.9740931903729896\n",
      "Epoch: 14, Loss: 31.736587524414062, Accuracy: 0.9757186038553667\n",
      "Epoch: 15, Loss: 31.814231872558594, Accuracy: 0.9752979924717692\n",
      "Epoch: 16, Loss: 31.86807632446289, Accuracy: 0.9757756359073799\n",
      "Epoch: 17, Loss: 30.92900276184082, Accuracy: 0.975526120679822\n",
      "Epoch: 18, Loss: 31.237314224243164, Accuracy: 0.9762105053039808\n",
      "Epoch: 19, Loss: 30.48085594177246, Accuracy: 0.9763530854340139\n",
      "Epoch: 20, Loss: 30.84564781188965, Accuracy: 0.9761106992129577\n",
      "Epoch: 21, Loss: 30.34743309020996, Accuracy: 0.9767451807916049\n",
      "Epoch: 22, Loss: 30.602922439575195, Accuracy: 0.9762318923234858\n",
      "Epoch: 23, Loss: 29.401180267333984, Accuracy: 0.9767237937721\n",
      "Epoch: 24, Loss: 29.382604598999023, Accuracy: 0.9766311166875784\n",
      "Epoch: 25, Loss: 29.54913902282715, Accuracy: 0.9765954716550701\n",
      "Epoch: 26, Loss: 28.826248168945312, Accuracy: 0.977073115090681\n",
      "Epoch: 27, Loss: 29.212827682495117, Accuracy: 0.977401049389757\n",
      "Epoch: 28, Loss: 28.90798568725586, Accuracy: 0.9770588570776777\n",
      "Epoch: 29, Loss: 29.052865982055664, Accuracy: 0.9771515341621991\n",
      "Epoch: 30, Loss: 28.36751937866211, Accuracy: 0.9773155013117372\n",
      "Epoch: 31, Loss: 28.947010040283203, Accuracy: 0.9768307288696247\n",
      "Epoch: 32, Loss: 28.44542694091797, Accuracy: 0.9775935325653017\n",
      "Epoch: 33, Loss: 28.135650634765625, Accuracy: 0.9778359187863579\n",
      "Epoch: 34, Loss: 27.856630325317383, Accuracy: 0.978206627124444\n",
      "Epoch: 35, Loss: 28.0844669342041, Accuracy: 0.9774509524352686\n",
      "Epoch: 36, Loss: 28.220144271850586, Accuracy: 0.9775507585262918\n",
      "Epoch: 37, Loss: 27.854644775390625, Accuracy: 0.9780070149423976\n",
      "Epoch: 38, Loss: 27.669797897338867, Accuracy: 0.9776576936238166\n",
      "Epoch: 39, Loss: 27.202882766723633, Accuracy: 0.9785416904300217\n",
      "Epoch: 40, Loss: 27.4022159576416, Accuracy: 0.9782565301699555\n",
      "Epoch: 41, Loss: 27.121171951293945, Accuracy: 0.9786486255275465\n",
      "Epoch: 42, Loss: 27.335487365722656, Accuracy: 0.9780711760009125\n",
      "Epoch: 43, Loss: 26.686962127685547, Accuracy: 0.9789337857876126\n",
      "Epoch: 44, Loss: 26.464696884155273, Accuracy: 0.9789195277746093\n",
      "Epoch: 45, Loss: 27.103174209594727, Accuracy: 0.9785060453975134\n",
      "Epoch: 46, Loss: 26.906051635742188, Accuracy: 0.9786557545340482\n",
      "Epoch: 47, Loss: 27.110036849975586, Accuracy: 0.9788339796965895\n",
      "Epoch: 48, Loss: 26.465774536132812, Accuracy: 0.9785630774495266\n",
      "Epoch: 49, Loss: 26.40451431274414, Accuracy: 0.9790621079046424\n",
      "Epoch: 50, Loss: 26.286340713500977, Accuracy: 0.9789551728071176\n",
      "\n",
      "Training student...\n",
      "Epoch: 1, Loss: 119.656982421875, Accuracy: 0.875577449526634\n",
      "Epoch: 2, Loss: 106.63802337646484, Accuracy: 0.9241473708224022\n",
      "Epoch: 3, Loss: 106.52922058105469, Accuracy: 0.9245109501539865\n",
      "Epoch: 4, Loss: 106.51081085205078, Accuracy: 0.9245751112125015\n",
      "Epoch: 5, Loss: 106.4972915649414, Accuracy: 0.924625014258013\n",
      "Epoch: 6, Loss: 106.49332427978516, Accuracy: 0.9246036272385081\n",
      "Epoch: 7, Loss: 106.49055480957031, Accuracy: 0.9246036272385081\n",
      "Epoch: 8, Loss: 106.49114990234375, Accuracy: 0.9246036272385081\n",
      "Epoch: 9, Loss: 106.48451232910156, Accuracy: 0.9246392722710163\n",
      "Epoch: 10, Loss: 106.48196411132812, Accuracy: 0.924646401277518\n",
      "Epoch: 11, Loss: 106.47978973388672, Accuracy: 0.9246677882970229\n",
      "Epoch: 12, Loss: 106.47795867919922, Accuracy: 0.9246321432645147\n",
      "Epoch: 13, Loss: 106.47476959228516, Accuracy: 0.9246820463100263\n",
      "Epoch: 14, Loss: 106.46701049804688, Accuracy: 0.9247034333295312\n",
      "Epoch: 15, Loss: 106.34162902832031, Accuracy: 0.9251311737196304\n",
      "Epoch: 16, Loss: 106.09928894042969, Accuracy: 0.925922493441314\n",
      "Epoch: 17, Loss: 106.0816650390625, Accuracy: 0.9260009125128322\n",
      "Epoch: 18, Loss: 106.04275512695312, Accuracy: 0.926107847610357\n",
      "Epoch: 19, Loss: 106.06310272216797, Accuracy: 0.9260579445648455\n",
      "Epoch: 20, Loss: 106.02496337890625, Accuracy: 0.9262718147598951\n",
      "Epoch: 21, Loss: 105.96638488769531, Accuracy: 0.9264215238964298\n",
      "Epoch: 22, Loss: 105.92398834228516, Accuracy: 0.9266496521044827\n",
      "Epoch: 23, Loss: 105.9292221069336, Accuracy: 0.9265926200524695\n",
      "Epoch: 24, Loss: 105.91580963134766, Accuracy: 0.9266140070719745\n",
      "Epoch: 25, Loss: 105.89622497558594, Accuracy: 0.9267138131629976\n",
      "Epoch: 26, Loss: 105.88984680175781, Accuracy: 0.9267423291890042\n",
      "Epoch: 27, Loss: 105.88505554199219, Accuracy: 0.9267993612410175\n",
      "Epoch: 28, Loss: 105.87568664550781, Accuracy: 0.9267922322345158\n",
      "Epoch: 29, Loss: 105.88538360595703, Accuracy: 0.9267352001825025\n",
      "Epoch: 30, Loss: 105.89268493652344, Accuracy: 0.9267494581955059\n",
      "Epoch: 31, Loss: 105.86891174316406, Accuracy: 0.9268278772670241\n",
      "Epoch: 32, Loss: 105.84886932373047, Accuracy: 0.9269205543515455\n",
      "Epoch: 33, Loss: 105.86766052246094, Accuracy: 0.9268136192540207\n",
      "Epoch: 34, Loss: 105.85990142822266, Accuracy: 0.9268350062735258\n",
      "Epoch: 35, Loss: 105.86819458007812, Accuracy: 0.926870651306034\n",
      "Epoch: 36, Loss: 105.86685180664062, Accuracy: 0.9268207482605224\n",
      "Epoch: 37, Loss: 105.8468017578125, Accuracy: 0.9269205543515455\n",
      "Epoch: 38, Loss: 105.8353271484375, Accuracy: 0.9270132314360671\n",
      "Epoch: 39, Loss: 105.84850311279297, Accuracy: 0.9269062963385423\n",
      "Epoch: 40, Loss: 105.84959411621094, Accuracy: 0.9269490703775521\n",
      "Epoch: 41, Loss: 105.84430694580078, Accuracy: 0.9269062963385423\n",
      "Epoch: 42, Loss: 105.82954406738281, Accuracy: 0.9270132314360671\n",
      "Epoch: 43, Loss: 105.85726165771484, Accuracy: 0.9268777803125356\n",
      "Epoch: 44, Loss: 105.86337280273438, Accuracy: 0.926849264286529\n",
      "Epoch: 45, Loss: 105.8414306640625, Accuracy: 0.9269348123645489\n",
      "Epoch: 46, Loss: 105.8240966796875, Accuracy: 0.9269989734230638\n",
      "Epoch: 47, Loss: 105.83179473876953, Accuracy: 0.9269989734230638\n",
      "Epoch: 48, Loss: 105.80986022949219, Accuracy: 0.9270702634880803\n",
      "Epoch: 49, Loss: 105.8240966796875, Accuracy: 0.9270132314360671\n",
      "Epoch: 50, Loss: 105.8276596069336, Accuracy: 0.9269775864035588\n",
      "--------------------------------------------------------------------------------\n",
      "Accuracy: 0.9771022840685506\n",
      "--------------------------------------------------------------------------------\n",
      "Accuracy: 0.9255467792067068\n"
     ]
    },
    {
     "data": {
      "text/plain": [
       "0.9255467792067068"
      ]
     },
     "execution_count": 29,
     "metadata": {},
     "output_type": "execute_result"
    },
    {
     "data": {
      "image/png": "[encoded data removed]",
      "text/plain": [
       "<Figure size 432x288 with 1 Axes>"
      ]
     },
     "metadata": {
      "needs_background": "light"
     },
     "output_type": "display_data"
    }
   ],
   "source": [
    "distiller = RCO(teacher, student, train_loader, test_loader, teacher_optimizer,\n",
    "                student_optimizer, epoch_interval=5, device=device)\n",
    "distiller.train_teacher(epochs=50, save_model=False)                                      # Train the teacher model\n",
    "distiller.train_student(epochs=50, save_model=False)                                     # Train the student model\n",
    "distiller.evaluate(teacher=True)                                        # Evaluate the teacher model\n",
    "distiller.evaluate()                                                    # Evaluate the student model"
   ]
  },
  {
   "cell_type": "code",
   "execution_count": null,
   "metadata": {},
   "outputs": [],
   "source": []
  }
 ],
 "metadata": {
  "kernelspec": {
   "display_name": "Python 3.6.12 64-bit ('ap': conda)",
   "language": "python",
   "name": "python361264bitapconda81c81f858a604444a75e1cd9aadc977f"
  },
  "language_info": {
   "codemirror_mode": {
    "name": "ipython",
    "version": 3
   },
   "file_extension": ".py",
   "mimetype": "text/x-python",
   "name": "python",
   "nbconvert_exporter": "python",
   "pygments_lexer": "ipython3",
   "version": "3.6.12"
  }
 },
 "nbformat": 4,
 "nbformat_minor": 4
}
