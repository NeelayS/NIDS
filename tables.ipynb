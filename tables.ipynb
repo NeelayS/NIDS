{
 "cells": [
  {
   "cell_type": "code",
   "execution_count": 2,
   "metadata": {},
   "outputs": [],
   "source": [
    "import pandas as pd"
   ]
  },
  {
   "cell_type": "code",
   "execution_count": 8,
   "metadata": {},
   "outputs": [],
   "source": [
    "cols = [\"Model\", \"No. of hidden layers\", \"Hidden layer configuration (no. of neurons)\", \"No. of parameters\", \n",
    "        \"Distilled accuracy (in %)\", \"Base accuracy (in %)\"]"
   ]
  },
  {
   "cell_type": "code",
   "execution_count": 9,
   "metadata": {},
   "outputs": [],
   "source": [
    "teacher = [\"Teacher\", 3, [32, 16, 8], 2090, \"NA\", 97.66]\n",
    "s1 = [\"Student 1\", 3, [16, 8, 4], 886, 97.19, 97.58]\n",
    "s2 = [\"Student 2\", 1, [16], 738, 96.33, 97.40]\n",
    "s3 = [\"Student 3\", 1, [8], 370, 95.16, 96.51]"
   ]
  },
  {
   "cell_type": "code",
   "execution_count": 10,
   "metadata": {},
   "outputs": [],
   "source": [
    "data = [teacher, s1, s2, s3]"
   ]
  },
  {
   "cell_type": "code",
   "execution_count": 13,
   "metadata": {},
   "outputs": [
    {
     "data": {
      "text/html": [
       "<div>\n",
       "<style scoped>\n",
       "    .dataframe tbody tr th:only-of-type {\n",
       "        vertical-align: middle;\n",
       "    }\n",
       "\n",
       "    .dataframe tbody tr th {\n",
       "        vertical-align: top;\n",
       "    }\n",
       "\n",
       "    .dataframe thead th {\n",
       "        text-align: right;\n",
       "    }\n",
       "</style>\n",
       "<table border=\"1\" class=\"dataframe\">\n",
       "  <thead>\n",
       "    <tr style=\"text-align: right;\">\n",
       "      <th></th>\n",
       "      <th>Model</th>\n",
       "      <th>No. of hidden layers</th>\n",
       "      <th>Hidden layer configuration (no. of neurons)</th>\n",
       "      <th>No. of parameters</th>\n",
       "      <th>Distilled accuracy (in %)</th>\n",
       "      <th>Base accuracy (in %)</th>\n",
       "    </tr>\n",
       "  </thead>\n",
       "  <tbody>\n",
       "    <tr>\n",
       "      <th>0</th>\n",
       "      <td>Teacher</td>\n",
       "      <td>3</td>\n",
       "      <td>[32, 16, 8]</td>\n",
       "      <td>2090</td>\n",
       "      <td>NA</td>\n",
       "      <td>97.66</td>\n",
       "    </tr>\n",
       "    <tr>\n",
       "      <th>1</th>\n",
       "      <td>Student 1</td>\n",
       "      <td>3</td>\n",
       "      <td>[16, 8, 4]</td>\n",
       "      <td>886</td>\n",
       "      <td>97.19</td>\n",
       "      <td>97.58</td>\n",
       "    </tr>\n",
       "    <tr>\n",
       "      <th>2</th>\n",
       "      <td>Student 2</td>\n",
       "      <td>1</td>\n",
       "      <td>[16]</td>\n",
       "      <td>738</td>\n",
       "      <td>96.33</td>\n",
       "      <td>97.40</td>\n",
       "    </tr>\n",
       "    <tr>\n",
       "      <th>3</th>\n",
       "      <td>Student 3</td>\n",
       "      <td>1</td>\n",
       "      <td>[8]</td>\n",
       "      <td>370</td>\n",
       "      <td>95.16</td>\n",
       "      <td>96.51</td>\n",
       "    </tr>\n",
       "  </tbody>\n",
       "</table>\n",
       "</div>"
      ],
      "text/plain": [
       "       Model  No. of hidden layers  \\\n",
       "0    Teacher                     3   \n",
       "1  Student 1                     3   \n",
       "2  Student 2                     1   \n",
       "3  Student 3                     1   \n",
       "\n",
       "  Hidden layer configuration (no. of neurons)  No. of parameters  \\\n",
       "0                                 [32, 16, 8]               2090   \n",
       "1                                  [16, 8, 4]                886   \n",
       "2                                        [16]                738   \n",
       "3                                         [8]                370   \n",
       "\n",
       "  Distilled accuracy (in %)  Base accuracy (in %)  \n",
       "0                        NA                 97.66  \n",
       "1                     97.19                 97.58  \n",
       "2                     96.33                 97.40  \n",
       "3                     95.16                 96.51  "
      ]
     },
     "execution_count": 13,
     "metadata": {},
     "output_type": "execute_result"
    }
   ],
   "source": [
    "df = pd.DataFrame(data, columns =cols)\n",
    "df"
   ]
  },
  {
   "cell_type": "code",
   "execution_count": 15,
   "metadata": {},
   "outputs": [
    {
     "name": "stdout",
     "output_type": "stream",
     "text": [
      "\\begin{tabular}{lrlrlr}\n",
      "\\toprule\n",
      "     Model &  No. of hidden layers & Hidden layer configuration (no. of neurons) &  No. of parameters & Distilled accuracy (in \\%) &  Base accuracy (in \\%) \\\\\n",
      "\\midrule\n",
      "   Teacher &                     3 &                                 [32, 16, 8] &               2090 &                        NA &                 97.66 \\\\\n",
      " Student 1 &                     3 &                                  [16, 8, 4] &                886 &                     97.19 &                 97.58 \\\\\n",
      " Student 2 &                     1 &                                        [16] &                738 &                     96.33 &                 97.40 \\\\\n",
      " Student 3 &                     1 &                                         [8] &                370 &                     95.16 &                 96.51 \\\\\n",
      "\\bottomrule\n",
      "\\end{tabular}\n",
      "\n"
     ]
    }
   ],
   "source": [
    "print(df.to_latex(index=False))"
   ]
  },
  {
   "cell_type": "code",
   "execution_count": null,
   "metadata": {},
   "outputs": [],
   "source": []
  }
 ],
 "metadata": {
  "kernelspec": {
   "display_name": "Python 3.8.3 64-bit ('base')",
   "language": "python",
   "name": "python38364bitbase3703bfe2763b4783888de0eec9d4fe6c"
  },
  "language_info": {
   "codemirror_mode": {
    "name": "ipython",
    "version": 3
   },
   "file_extension": ".py",
   "mimetype": "text/x-python",
   "name": "python",
   "nbconvert_exporter": "python",
   "pygments_lexer": "ipython3",
   "version": "3.8.3"
  }
 },
 "nbformat": 4,
 "nbformat_minor": 4
}
